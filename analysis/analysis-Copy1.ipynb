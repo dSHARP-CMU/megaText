{
 "cells": [
  {
   "cell_type": "code",
   "execution_count": 332,
   "metadata": {},
   "outputs": [],
   "source": [
    "import sqlite3\n",
    "import pandas as pd\n",
    "from pandas import DataFrame"
   ]
  },
  {
   "cell_type": "code",
   "execution_count": 333,
   "metadata": {},
   "outputs": [],
   "source": [
    "conn = sqlite3.connect(\"/Users/user/Documents/dh_mellon/proj2017/liteMegaText/imdb.db\")"
   ]
  },
  {
   "cell_type": "code",
   "execution_count": 334,
   "metadata": {},
   "outputs": [],
   "source": [
    "df = pd.read_sql_query(\"SELECT * from encyclopedia \\\n",
    "LEFT OUTER JOIN linktbl on linktbl.uid = encyclopedia.uid\", conn)\n",
    "df = DataFrame(df)\n",
    "df.columns = df.keys()"
   ]
  },
  {
   "cell_type": "code",
   "execution_count": 335,
   "metadata": {},
   "outputs": [
    {
     "data": {
      "text/plain": [
       "uid                    1732\n",
       "program_title          1672\n",
       "program_type             10\n",
       "program_genre            30\n",
       "network                  57\n",
       "first_air_month          13\n",
       "first_air_day            31\n",
       "first_air_year           13\n",
       "last_air_month            3\n",
       "last_air_day              3\n",
       "last_air_year            37\n",
       "program_description    1728\n",
       "uid                    1278\n",
       "id                     1183\n",
       "dtype: int64"
      ]
     },
     "execution_count": 335,
     "metadata": {},
     "output_type": "execute_result"
    }
   ],
   "source": [
    "df.nunique()"
   ]
  },
  {
   "cell_type": "code",
   "execution_count": 336,
   "metadata": {},
   "outputs": [],
   "source": [
    "df1 = pd.read_sql_query(\"SELECT * from movie_info2 \\\n",
    "INNER JOIN linktbl on linktbl.id = movie_info2.movie_id \\\n",
    "WHERE movie_info2.info_type_id = 98 \\\n",
    "OR movie_info2.info_type_id = 3 \\\n",
    "OR movie_info2.info_type_id = 17 \\\n",
    "OR movie_info2.info_type_id = 10\", conn)\n",
    "df1 = DataFrame(df1)\n",
    "df1.columns = df1.keys()\n",
    "df1.columns = ['id','movie_id','info_type_id','info','note','uid','lid']"
   ]
  },
  {
   "cell_type": "code",
   "execution_count": 337,
   "metadata": {},
   "outputs": [
    {
     "data": {
      "text/plain": [
       "id              4239\n",
       "movie_id        1123\n",
       "info_type_id       3\n",
       "info            2487\n",
       "note             106\n",
       "uid             1227\n",
       "lid             1123\n",
       "dtype: int64"
      ]
     },
     "execution_count": 337,
     "metadata": {},
     "output_type": "execute_result"
    }
   ],
   "source": [
    "df1.nunique()"
   ]
  },
  {
   "cell_type": "code",
   "execution_count": 338,
   "metadata": {},
   "outputs": [
    {
     "data": {
      "text/plain": [
       "439"
      ]
     },
     "execution_count": 338,
     "metadata": {},
     "output_type": "execute_result"
    }
   ],
   "source": [
    "df1['note'].count()"
   ]
  },
  {
   "cell_type": "code",
   "execution_count": 339,
   "metadata": {},
   "outputs": [],
   "source": [
    "df_info = df1.pivot_table(values='info', index=['id', 'movie_id', 'uid', 'lid'], columns= 'info_type_id', \\\n",
    "                aggfunc='last')"
   ]
  },
  {
   "cell_type": "code",
   "execution_count": 340,
   "metadata": {},
   "outputs": [
    {
     "data": {
      "text/plain": [
       "info_type_id\n",
       "3     2112\n",
       "17    2862\n",
       "98     439\n",
       "dtype: int64"
      ]
     },
     "execution_count": 340,
     "metadata": {},
     "output_type": "execute_result"
    }
   ],
   "source": [
    "df_info.count()"
   ]
  },
  {
   "cell_type": "code",
   "execution_count": 341,
   "metadata": {},
   "outputs": [],
   "source": [
    "df_info.reset_index(inplace=True)"
   ]
  },
  {
   "cell_type": "code",
   "execution_count": 342,
   "metadata": {},
   "outputs": [
    {
     "data": {
      "text/plain": [
       "info_type_id\n",
       "id          5413\n",
       "movie_id    5413\n",
       "uid         5413\n",
       "lid         5413\n",
       "3           2112\n",
       "17          2862\n",
       "98           439\n",
       "dtype: int64"
      ]
     },
     "execution_count": 342,
     "metadata": {},
     "output_type": "execute_result"
    }
   ],
   "source": [
    "df_info.count()"
   ]
  },
  {
   "cell_type": "code",
   "execution_count": 343,
   "metadata": {},
   "outputs": [],
   "source": [
    "#Steve let me know if this will help\n",
    "gb = df_info.groupby(('movie_id'))\n",
    "result = gb[3].unique()\n",
    "result1 = gb[98].unique()"
   ]
  },
  {
   "cell_type": "code",
   "execution_count": 344,
   "metadata": {},
   "outputs": [
    {
     "data": {
      "text/plain": [
       "movie_id\n",
       "16535                   [None, Drama]\n",
       "18439                 [None, Western]\n",
       "35319    [None, Action, Crime, Drama]\n",
       "41569           [None, Comedy, Music]\n",
       "42033                        [Comedy]\n",
       "Name: 3, dtype: object"
      ]
     },
     "execution_count": 344,
     "metadata": {},
     "output_type": "execute_result"
    }
   ],
   "source": [
    "#Let me know if this will help\n",
    "result.sort_index().head()"
   ]
  },
  {
   "cell_type": "code",
   "execution_count": 345,
   "metadata": {},
   "outputs": [],
   "source": [
    "df23 = pd.read_sql_query(\"SELECT * from title2 \\\n",
    "LEFT OUTER JOIN movie_companies2 ON title2.id=movie_companies2.movie_id \\\n",
    "LEFT OUTER JOIN company_name2 ON movie_companies2.company_id=company_name2.id \\\n",
    "LEFT OUTER JOIN linktbl on linktbl.id = title2.id \\\n",
    "LEFT OUTER JOIN encyclopedia on encyclopedia.uid = linktbl.uid \\\n",
    "WHERE company_name2.country_code like '[us]' AND title2.kind_id <> '7'\", conn)"
   ]
  },
  {
   "cell_type": "code",
   "execution_count": 346,
   "metadata": {},
   "outputs": [
    {
     "data": {
      "text/plain": [
       "id                     6699\n",
       "title                  6699\n",
       "imdb_index               38\n",
       "kind_id                6699\n",
       "production_year        6699\n",
       "imdb_id                   0\n",
       "phonetic_code          6699\n",
       "episode_of_id             0\n",
       "season_nr                 0\n",
       "episode_nr                0\n",
       "series_years           5693\n",
       "md5sum                 6699\n",
       "id                     6699\n",
       "movie_id               6699\n",
       "company_id             6699\n",
       "company_type_id        6699\n",
       "note                   4353\n",
       "id                     6699\n",
       "name                   6699\n",
       "country_code           6699\n",
       "imdb_id                   0\n",
       "name_pcode_nf          6699\n",
       "name_pcode_sf          6699\n",
       "md5sum                 6699\n",
       "uid                    4447\n",
       "id                     4447\n",
       "uid                    4447\n",
       "program_title          4447\n",
       "program_type           4447\n",
       "program_genre          4447\n",
       "network                4447\n",
       "first_air_month        4447\n",
       "first_air_day          4447\n",
       "first_air_year         4447\n",
       "last_air_month         4447\n",
       "last_air_day           4447\n",
       "last_air_year          4447\n",
       "program_description    4447\n",
       "dtype: int64"
      ]
     },
     "execution_count": 346,
     "metadata": {},
     "output_type": "execute_result"
    }
   ],
   "source": [
    "df23.count()"
   ]
  },
  {
   "cell_type": "code",
   "execution_count": 297,
   "metadata": {},
   "outputs": [],
   "source": [
    "df2 = DataFrame(df2)\n",
    "df2.columns = df2.keys()\n",
    "df3 = df2.drop(columns=['imdb_id', 'phonetic_code', 'episode_of_id', 'season_nr', 'episode_nr', 'md5sum', 'id','company_id', \\\n",
    "         'company_type_id', 'note', 'id', 'country_code', 'imdb_id', 'name_pcode_nf', 'name_pcode_sf', 'md5sum' \\\n",
    "         'id', 'uid', 'first_air_month', 'first_air_day', 'last_air_month', 'last_air_day'])"
   ]
  },
  {
   "cell_type": "code",
   "execution_count": 299,
   "metadata": {},
   "outputs": [
    {
     "name": "stdout",
     "output_type": "stream",
     "text": [
      "<class 'pandas.core.frame.DataFrame'>\n",
      "RangeIndex: 6699 entries, 0 to 6698\n",
      "Data columns (total 14 columns):\n",
      "title                  6699 non-null object\n",
      "imdb_index             38 non-null object\n",
      "kind_id                6699 non-null int64\n",
      "production_year        6699 non-null int64\n",
      "series_years           5693 non-null object\n",
      "movie_id               6699 non-null int64\n",
      "name                   6699 non-null object\n",
      "program_title          4447 non-null object\n",
      "program_type           4447 non-null object\n",
      "program_genre          4447 non-null object\n",
      "network                4447 non-null object\n",
      "first_air_year         4447 non-null float64\n",
      "last_air_year          4447 non-null object\n",
      "program_description    4447 non-null object\n",
      "dtypes: float64(1), int64(3), object(10)\n",
      "memory usage: 732.8+ KB\n"
     ]
    }
   ],
   "source": [
    "df3.info()"
   ]
  },
  {
   "cell_type": "code",
   "execution_count": 295,
   "metadata": {},
   "outputs": [
    {
     "data": {
      "text/plain": [
       "['id',\n",
       " 'movie_id',\n",
       " 'title',\n",
       " 'kind_id',\n",
       " 'production_year',\n",
       " 'series_years',\n",
       " 'name',\n",
       " 'uid',\n",
       " 'program_title',\n",
       " 'program_type',\n",
       " 'program_genre',\n",
       " 'network',\n",
       " 'first_air_year',\n",
       " 'last_air_year',\n",
       " 'program_description']"
      ]
     },
     "execution_count": 295,
     "metadata": {},
     "output_type": "execute_result"
    }
   ],
   "source": [
    "df3"
   ]
  },
  {
   "cell_type": "code",
   "execution_count": 266,
   "metadata": {},
   "outputs": [
    {
     "ename": "SyntaxError",
     "evalue": "invalid syntax (<ipython-input-266-df9568de9cd8>, line 1)",
     "output_type": "error",
     "traceback": [
      "\u001b[0;36m  File \u001b[0;32m\"<ipython-input-266-df9568de9cd8>\"\u001b[0;36m, line \u001b[0;32m1\u001b[0m\n\u001b[0;31m    s1 = pd.merge(df[], df1, how='left', on=['id', 'uid'])\u001b[0m\n\u001b[0m                     ^\u001b[0m\n\u001b[0;31mSyntaxError\u001b[0m\u001b[0;31m:\u001b[0m invalid syntax\n"
     ]
    }
   ],
   "source": [
    "s1 = pd.merge(df[], df1, how='left', on=['id', 'uid'])"
   ]
  },
  {
   "cell_type": "code",
   "execution_count": null,
   "metadata": {},
   "outputs": [],
   "source": []
  },
  {
   "cell_type": "code",
   "execution_count": null,
   "metadata": {},
   "outputs": [],
   "source": [
    "title2.id, title2.title, title2.kind_id, title2.production_year, \\\n",
    "title2.series_years, company_name2.name, encyclopedia.uid, encyclopedia.program_title, encyclopedia.program_type, \\\n",
    "encyclopedia.program_genre, encyclopedia.network, encyclopedia.first_air_year, \\\n",
    "encyclopedia.last_air_year, encyclopedia.program_description"
   ]
  }
 ],
 "metadata": {
  "kernelspec": {
   "display_name": "Python 3",
   "language": "python",
   "name": "python3"
  },
  "language_info": {
   "codemirror_mode": {
    "name": "ipython",
    "version": 3
   },
   "file_extension": ".py",
   "mimetype": "text/x-python",
   "name": "python",
   "nbconvert_exporter": "python",
   "pygments_lexer": "ipython3",
   "version": "3.6.2"
  }
 },
 "nbformat": 4,
 "nbformat_minor": 2
}

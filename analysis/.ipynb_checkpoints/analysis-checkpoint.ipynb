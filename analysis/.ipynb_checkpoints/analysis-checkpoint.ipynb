{
 "cells": [
  {
   "cell_type": "code",
   "execution_count": 1,
   "metadata": {},
   "outputs": [],
   "source": [
    "import sqlite3"
   ]
  },
  {
   "cell_type": "code",
   "execution_count": 2,
   "metadata": {},
   "outputs": [],
   "source": [
    "conn = sqlite3.connect(\"/Users/user/Documents/dh_mellon/proj2017/liteMegaText/imdb.db\")"
   ]
  },
  {
   "cell_type": "code",
   "execution_count": 3,
   "metadata": {},
   "outputs": [],
   "source": [
    "cur = conn.cursor()"
   ]
  },
  {
   "cell_type": "code",
   "execution_count": 7,
   "metadata": {},
   "outputs": [
    {
     "data": {
      "text/plain": [
       "<sqlite3.Cursor at 0x109797180>"
      ]
     },
     "execution_count": 7,
     "metadata": {},
     "output_type": "execute_result"
    }
   ],
   "source": [
    "cur.execute(\"select * from encyclopedia limit 5;\")"
   ]
  },
  {
   "cell_type": "code",
   "execution_count": 8,
   "metadata": {},
   "outputs": [
    {
     "name": "stdout",
     "output_type": "stream",
     "text": [
      "[(5137, ' Mary Kay and Johnny. ', 'Series', ' Comedy', ' DuMont, NBC, CBS', '', '', 1947, '', '', 1950, \" The marital misadventures of Mary Kay and Johnny Stearns, television's first domestic couple. The series is based on their actual experiences and relates their simple pleasures and trying times (both are level-headed and the everyday incidents that occur in their lives are the focal point of stories). The program ran on DuMont from November 18, 1947 to August 24, 1948; on NBC from October 10, 1948 to February 13, 1949; on CBS from February 23, 1949 to June 1, 1949; and on NBC from June 13, 1949 to March 11, 1950. Cast: Mary Kay Stearns {Mary Kay Stearns), Johnny Stearns {Johnny Steams), Christopher Stearns {Christopher Stearns; their son), Nydia Westman {Mary Kay's Mother), Howard Thomas {Howie, Johnny's friend). Announcer Jim Stevenson. \"), (7531, ' The Small Fry Club. ', 'Series', ' Children', ' DuMont', '', '', 1947, '', '', 1951, ' Bob Emery hosts a program of stories, game contests, magic tricks, audience participation and other related entertainment geared to children. '), (1738, ' Crawford Mystery Theater. ', 'Series', ' Game', ' DuMont', '', '', 1947, '', '', 1952, ' The alternate title for Public Prosecutor (which see for information when sponsored by Crawford Carpets). '), (6636, ' Public Prosecutor. ', 'Series', ' Mystery', ' Syn., DuMont', '', '', 1947, '', '', 1952, ' The syndicated version of the series (1947-48) was a short mystery that, with commercials, was designed to run in twentyminute spots. In 1951 (to 1952), when the DuMont network acquired the program, it became a mystery game. Here a panel of three detective-fiction experts would view a fifteen-minute mystery film that was stopped prior to the denouncement. The experts were then asked to identify the culprit. After doing so, the film was played to reveal the answer. Also known as Crawford Mystery Theater. Cast: John Howard {Prosecuting Attorney) , Anne Gwynne {His Assistant), Walter Sande {Police Lieutenant). '), (4323, ' Juvenile Jury. ', 'Series', ' Children', ' NBC, CBS', '', '', 1947, '', '', 1955, ' The program features a panel of five children answering questions or giving their opinions on questions or problems submitted by home viewers or presented by studio audience members. The panelists listed below are some of the better-known children who have appeared. The series, based on the radio program of the same title, ran on NBC from April 3, 1947 to October 3, 1953; on CBS from October 11, 1953 to September 14, 1954; and on CBS from January 2, 1955 to March 27, 1955. Host: Jack Barry. Panelists: Robin Morgan, Johnny McBride, Elizabeth Mae Watson, Charlie Hankinson, Peggy Bruder, Dickie Orlan, Angela Bell, Jeff Silver, Paul Jackson, Veronique DeAllo, Sean Masterson, Ricky Cordell, Monique Althouse, Glena Sargent, Christine Hare, Bobby Hull, Wayne Chestnut, Melanie Freeman, Douglas Stewart, Curtis Helm, Melanie Fogel. ')]\n"
     ]
    }
   ],
   "source": [
    "results = cur.fetchall()\n",
    "print(results)"
   ]
  },
  {
   "cell_type": "code",
   "execution_count": null,
   "metadata": {},
   "outputs": [],
   "source": []
  }
 ],
 "metadata": {
  "kernelspec": {
   "display_name": "Python 3",
   "language": "python",
   "name": "python3"
  },
  "language_info": {
   "codemirror_mode": {
    "name": "ipython",
    "version": 3
   },
   "file_extension": ".py",
   "mimetype": "text/x-python",
   "name": "python",
   "nbconvert_exporter": "python",
   "pygments_lexer": "ipython3",
   "version": "3.6.2"
  }
 },
 "nbformat": 4,
 "nbformat_minor": 2
}

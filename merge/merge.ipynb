{
 "cells": [
  {
   "cell_type": "code",
   "execution_count": 32,
   "metadata": {},
   "outputs": [],
   "source": [
    "import numpy as np\n",
    "import pandas as pd\n",
    "import fuzzymatcher\n",
    "from fuzzywuzzy import fuzz\n",
    "from fuzzywuzzy import process"
   ]
  },
  {
   "cell_type": "code",
   "execution_count": 33,
   "metadata": {},
   "outputs": [
    {
     "name": "stdout",
     "output_type": "stream",
     "text": [
      "<class 'pandas.core.frame.DataFrame'>\n",
      "RangeIndex: 34985 entries, 0 to 34984\n",
      "Data columns (total 11 columns):\n",
      "id                 34985 non-null object\n",
      "title              34985 non-null object\n",
      "imdb_index         20 non-null object\n",
      "kind_id            34985 non-null object\n",
      "production_year    34985 non-null object\n",
      "imdb_id            0 non-null object\n",
      "phonetic_code      29169 non-null object\n",
      "episode_of_id      32588 non-null object\n",
      "season_nr          29889 non-null object\n",
      "episode_nr         29874 non-null object\n",
      "series_years       1844 non-null object\n",
      "dtypes: object(11)\n",
      "memory usage: 2.9+ MB\n"
     ]
    }
   ],
   "source": [
    "df = pd.read_csv('title5.csv', encoding = \"ISO-8859-1\", dtype='unicode')\n",
    "df.info()"
   ]
  },
  {
   "cell_type": "code",
   "execution_count": 37,
   "metadata": {},
   "outputs": [
    {
     "name": "stdout",
     "output_type": "stream",
     "text": [
      "<class 'pandas.core.frame.DataFrame'>\n",
      "Int64Index: 2397 entries, 0 to 34984\n",
      "Data columns (total 11 columns):\n",
      "id                 2397 non-null object\n",
      "title              2397 non-null object\n",
      "imdb_index         20 non-null object\n",
      "kind_id            2397 non-null object\n",
      "production_year    2397 non-null object\n",
      "imdb_id            0 non-null object\n",
      "phonetic_code      2397 non-null object\n",
      "episode_of_id      0 non-null object\n",
      "season_nr          0 non-null object\n",
      "episode_nr         0 non-null object\n",
      "series_years       1844 non-null object\n",
      "dtypes: object(11)\n",
      "memory usage: 224.7+ KB\n"
     ]
    }
   ],
   "source": [
    "df_right = df[df.kind_id != \"7\"]\n",
    "\n",
    "df_right.info()"
   ]
  },
  {
   "cell_type": "code",
   "execution_count": 38,
   "metadata": {},
   "outputs": [
    {
     "data": {
      "text/html": [
       "<div>\n",
       "<style scoped>\n",
       "    .dataframe tbody tr th:only-of-type {\n",
       "        vertical-align: middle;\n",
       "    }\n",
       "\n",
       "    .dataframe tbody tr th {\n",
       "        vertical-align: top;\n",
       "    }\n",
       "\n",
       "    .dataframe thead th {\n",
       "        text-align: right;\n",
       "    }\n",
       "</style>\n",
       "<table border=\"1\" class=\"dataframe\">\n",
       "  <thead>\n",
       "    <tr style=\"text-align: right;\">\n",
       "      <th></th>\n",
       "      <th>id</th>\n",
       "      <th>title</th>\n",
       "      <th>imdb_index</th>\n",
       "      <th>kind_id</th>\n",
       "      <th>production_year</th>\n",
       "      <th>imdb_id</th>\n",
       "      <th>phonetic_code</th>\n",
       "      <th>episode_of_id</th>\n",
       "      <th>season_nr</th>\n",
       "      <th>episode_nr</th>\n",
       "      <th>series_years</th>\n",
       "    </tr>\n",
       "  </thead>\n",
       "  <tbody>\n",
       "    <tr>\n",
       "      <th>count</th>\n",
       "      <td>2397</td>\n",
       "      <td>2397</td>\n",
       "      <td>20</td>\n",
       "      <td>2397</td>\n",
       "      <td>2397</td>\n",
       "      <td>0.0</td>\n",
       "      <td>2397</td>\n",
       "      <td>0.0</td>\n",
       "      <td>0.0</td>\n",
       "      <td>0.0</td>\n",
       "      <td>1844</td>\n",
       "    </tr>\n",
       "    <tr>\n",
       "      <th>unique</th>\n",
       "      <td>2397</td>\n",
       "      <td>2326</td>\n",
       "      <td>3</td>\n",
       "      <td>2</td>\n",
       "      <td>20</td>\n",
       "      <td>0.0</td>\n",
       "      <td>1775</td>\n",
       "      <td>0.0</td>\n",
       "      <td>0.0</td>\n",
       "      <td>0.0</td>\n",
       "      <td>238</td>\n",
       "    </tr>\n",
       "    <tr>\n",
       "      <th>top</th>\n",
       "      <td>2628397</td>\n",
       "      <td>Amahl and the Night Visitors</td>\n",
       "      <td>I</td>\n",
       "      <td>2</td>\n",
       "      <td>1949</td>\n",
       "      <td>NaN</td>\n",
       "      <td>A3153</td>\n",
       "      <td>NaN</td>\n",
       "      <td>NaN</td>\n",
       "      <td>NaN</td>\n",
       "      <td>1949-????</td>\n",
       "    </tr>\n",
       "    <tr>\n",
       "      <th>freq</th>\n",
       "      <td>1</td>\n",
       "      <td>5</td>\n",
       "      <td>12</td>\n",
       "      <td>1844</td>\n",
       "      <td>221</td>\n",
       "      <td>NaN</td>\n",
       "      <td>42</td>\n",
       "      <td>NaN</td>\n",
       "      <td>NaN</td>\n",
       "      <td>NaN</td>\n",
       "      <td>110</td>\n",
       "    </tr>\n",
       "  </tbody>\n",
       "</table>\n",
       "</div>"
      ],
      "text/plain": [
       "             id                         title imdb_index kind_id  \\\n",
       "count      2397                          2397         20    2397   \n",
       "unique     2397                          2326          3       2   \n",
       "top     2628397  Amahl and the Night Visitors          I       2   \n",
       "freq          1                             5         12    1844   \n",
       "\n",
       "       production_year  imdb_id phonetic_code  episode_of_id  season_nr  \\\n",
       "count             2397      0.0          2397            0.0        0.0   \n",
       "unique              20      0.0          1775            0.0        0.0   \n",
       "top               1949      NaN         A3153            NaN        NaN   \n",
       "freq               221      NaN            42            NaN        NaN   \n",
       "\n",
       "        episode_nr series_years  \n",
       "count          0.0         1844  \n",
       "unique         0.0          238  \n",
       "top            NaN    1949-????  \n",
       "freq           NaN          110  "
      ]
     },
     "execution_count": 38,
     "metadata": {},
     "output_type": "execute_result"
    }
   ],
   "source": [
    "df_right.describe()"
   ]
  },
  {
   "cell_type": "code",
   "execution_count": 39,
   "metadata": {
    "scrolled": true
   },
   "outputs": [
    {
     "name": "stdout",
     "output_type": "stream",
     "text": [
      "<class 'pandas.core.frame.DataFrame'>\n",
      "RangeIndex: 1732 entries, 0 to 1731\n",
      "Data columns (total 12 columns):\n",
      "Number                 1732 non-null int64\n",
      "Program Title          1732 non-null object\n",
      "Program Type           1731 non-null object\n",
      "Program Genre          1731 non-null object\n",
      "Network                1704 non-null object\n",
      "First Air Month        131 non-null float64\n",
      "First Air Day          123 non-null float64\n",
      "First Air Year         1732 non-null int64\n",
      "Last Air Month         2 non-null float64\n",
      "Last Air Day           2 non-null float64\n",
      "Last Air Year          895 non-null object\n",
      "Program Description    1732 non-null object\n",
      "dtypes: float64(4), int64(2), object(6)\n",
      "memory usage: 162.5+ KB\n"
     ]
    }
   ],
   "source": [
    "df_left = pd.read_csv('enc.csv', encoding = \"ISO-8859-1\")\n",
    "df_left.info()"
   ]
  },
  {
   "cell_type": "code",
   "execution_count": 40,
   "metadata": {},
   "outputs": [
    {
     "data": {
      "text/plain": [
       "Series               1549\n",
       "Pilot                 120\n",
       "Unaired Pilot          31\n",
       "Series                 10\n",
       "Live Test Program       5\n",
       "Test Film               3\n",
       "Experimental            3\n",
       "Pilot                   2\n",
       "Serial                  2\n",
       "S eries                 2\n",
       "Test Program            1\n",
       "{Smes                   1\n",
       "S enes                  1\n",
       " {Series                1\n",
       "Name: Program Type, dtype: int64"
      ]
     },
     "execution_count": 40,
     "metadata": {},
     "output_type": "execute_result"
    }
   ],
   "source": [
    "df_left[\"Program Type\"].value_counts()"
   ]
  },
  {
   "cell_type": "code",
   "execution_count": 41,
   "metadata": {},
   "outputs": [],
   "source": [
    "df_right = df_right.astype(str).apply(lambda x: x.str.lower())\n",
    "df_left = df_left.astype(str).apply(lambda x: x.str.lower())"
   ]
  },
  {
   "cell_type": "code",
   "execution_count": 8,
   "metadata": {},
   "outputs": [],
   "source": [
    "#Dropped columns by cutting out in excel. See diff between title4 & title5\n",
    "#df_right.drop(df_right.columns[[2,5,7,8,9,20]], axis=1, inplace=True)"
   ]
  },
  {
   "cell_type": "code",
   "execution_count": 42,
   "metadata": {},
   "outputs": [
    {
     "data": {
      "text/html": [
       "<div>\n",
       "<style scoped>\n",
       "    .dataframe tbody tr th:only-of-type {\n",
       "        vertical-align: middle;\n",
       "    }\n",
       "\n",
       "    .dataframe tbody tr th {\n",
       "        vertical-align: top;\n",
       "    }\n",
       "\n",
       "    .dataframe thead th {\n",
       "        text-align: right;\n",
       "    }\n",
       "</style>\n",
       "<table border=\"1\" class=\"dataframe\">\n",
       "  <thead>\n",
       "    <tr style=\"text-align: right;\">\n",
       "      <th></th>\n",
       "      <th>id</th>\n",
       "      <th>title</th>\n",
       "      <th>imdb_index</th>\n",
       "      <th>kind_id</th>\n",
       "      <th>production_year</th>\n",
       "      <th>imdb_id</th>\n",
       "      <th>phonetic_code</th>\n",
       "      <th>episode_of_id</th>\n",
       "      <th>season_nr</th>\n",
       "      <th>episode_nr</th>\n",
       "      <th>series_years</th>\n",
       "    </tr>\n",
       "  </thead>\n",
       "  <tbody>\n",
       "    <tr>\n",
       "      <th>0</th>\n",
       "      <td>10924</td>\n",
       "      <td>1948 world series</td>\n",
       "      <td>nan</td>\n",
       "      <td>2</td>\n",
       "      <td>1948</td>\n",
       "      <td>nan</td>\n",
       "      <td>w6432</td>\n",
       "      <td>nan</td>\n",
       "      <td>nan</td>\n",
       "      <td>nan</td>\n",
       "      <td>1948-????</td>\n",
       "    </tr>\n",
       "    <tr>\n",
       "      <th>1</th>\n",
       "      <td>63168</td>\n",
       "      <td>abe burrows' almanac</td>\n",
       "      <td>nan</td>\n",
       "      <td>2</td>\n",
       "      <td>1950</td>\n",
       "      <td>nan</td>\n",
       "      <td>a1624</td>\n",
       "      <td>nan</td>\n",
       "      <td>nan</td>\n",
       "      <td>nan</td>\n",
       "      <td>1950-????</td>\n",
       "    </tr>\n",
       "    <tr>\n",
       "      <th>2</th>\n",
       "      <td>73174</td>\n",
       "      <td>action in the afternoon</td>\n",
       "      <td>nan</td>\n",
       "      <td>2</td>\n",
       "      <td>1953</td>\n",
       "      <td>nan</td>\n",
       "      <td>a2353</td>\n",
       "      <td>nan</td>\n",
       "      <td>nan</td>\n",
       "      <td>nan</td>\n",
       "      <td>1953-????</td>\n",
       "    </tr>\n",
       "    <tr>\n",
       "      <th>3</th>\n",
       "      <td>73584</td>\n",
       "      <td>actor's studio</td>\n",
       "      <td>nan</td>\n",
       "      <td>2</td>\n",
       "      <td>1948</td>\n",
       "      <td>nan</td>\n",
       "      <td>a2362</td>\n",
       "      <td>nan</td>\n",
       "      <td>nan</td>\n",
       "      <td>nan</td>\n",
       "      <td>1948-1950</td>\n",
       "    </tr>\n",
       "    <tr>\n",
       "      <th>34</th>\n",
       "      <td>78738</td>\n",
       "      <td>adventure showcase</td>\n",
       "      <td>nan</td>\n",
       "      <td>2</td>\n",
       "      <td>1959</td>\n",
       "      <td>nan</td>\n",
       "      <td>a3153</td>\n",
       "      <td>nan</td>\n",
       "      <td>nan</td>\n",
       "      <td>nan</td>\n",
       "      <td>1959-????</td>\n",
       "    </tr>\n",
       "  </tbody>\n",
       "</table>\n",
       "</div>"
      ],
      "text/plain": [
       "       id                    title imdb_index kind_id production_year imdb_id  \\\n",
       "0   10924        1948 world series        nan       2            1948     nan   \n",
       "1   63168     abe burrows' almanac        nan       2            1950     nan   \n",
       "2   73174  action in the afternoon        nan       2            1953     nan   \n",
       "3   73584           actor's studio        nan       2            1948     nan   \n",
       "34  78738       adventure showcase        nan       2            1959     nan   \n",
       "\n",
       "   phonetic_code episode_of_id season_nr episode_nr series_years  \n",
       "0          w6432           nan       nan        nan    1948-????  \n",
       "1          a1624           nan       nan        nan    1950-????  \n",
       "2          a2353           nan       nan        nan    1953-????  \n",
       "3          a2362           nan       nan        nan    1948-1950  \n",
       "34         a3153           nan       nan        nan    1959-????  "
      ]
     },
     "execution_count": 42,
     "metadata": {},
     "output_type": "execute_result"
    }
   ],
   "source": [
    "df_right.head()"
   ]
  },
  {
   "cell_type": "code",
   "execution_count": 43,
   "metadata": {},
   "outputs": [
    {
     "name": "stdout",
     "output_type": "stream",
     "text": [
      "<class 'pandas.core.frame.DataFrame'>\n",
      "Int64Index: 2397 entries, 0 to 34984\n",
      "Data columns (total 11 columns):\n",
      "id                 2397 non-null object\n",
      "title              2397 non-null object\n",
      "imdb_index         2397 non-null object\n",
      "kind_id            2397 non-null object\n",
      "production_year    2397 non-null object\n",
      "imdb_id            2397 non-null object\n",
      "phonetic_code      2397 non-null object\n",
      "episode_of_id      2397 non-null object\n",
      "season_nr          2397 non-null object\n",
      "episode_nr         2397 non-null object\n",
      "series_years       2397 non-null object\n",
      "dtypes: object(11)\n",
      "memory usage: 224.7+ KB\n"
     ]
    }
   ],
   "source": [
    "df_right.info()"
   ]
  },
  {
   "cell_type": "code",
   "execution_count": 44,
   "metadata": {},
   "outputs": [],
   "source": [
    "df_left.drop(df_left.head().columns[[5,6,8,9]], axis=1, inplace=True)"
   ]
  },
  {
   "cell_type": "code",
   "execution_count": 45,
   "metadata": {},
   "outputs": [
    {
     "data": {
      "text/html": [
       "<div>\n",
       "<style scoped>\n",
       "    .dataframe tbody tr th:only-of-type {\n",
       "        vertical-align: middle;\n",
       "    }\n",
       "\n",
       "    .dataframe tbody tr th {\n",
       "        vertical-align: top;\n",
       "    }\n",
       "\n",
       "    .dataframe thead th {\n",
       "        text-align: right;\n",
       "    }\n",
       "</style>\n",
       "<table border=\"1\" class=\"dataframe\">\n",
       "  <thead>\n",
       "    <tr style=\"text-align: right;\">\n",
       "      <th></th>\n",
       "      <th>Number</th>\n",
       "      <th>Program Title</th>\n",
       "      <th>Program Type</th>\n",
       "      <th>Program Genre</th>\n",
       "      <th>Network</th>\n",
       "      <th>First Air Year</th>\n",
       "      <th>Last Air Year</th>\n",
       "      <th>Program Description</th>\n",
       "    </tr>\n",
       "  </thead>\n",
       "  <tbody>\n",
       "    <tr>\n",
       "      <th>0</th>\n",
       "      <td>5137</td>\n",
       "      <td>mary kay and johnny.</td>\n",
       "      <td>series</td>\n",
       "      <td>comedy</td>\n",
       "      <td>dumont, nbc, cbs</td>\n",
       "      <td>1947</td>\n",
       "      <td>1950</td>\n",
       "      <td>the marital misadventures of mary kay and joh...</td>\n",
       "    </tr>\n",
       "    <tr>\n",
       "      <th>1</th>\n",
       "      <td>7531</td>\n",
       "      <td>the small fry club.</td>\n",
       "      <td>series</td>\n",
       "      <td>children</td>\n",
       "      <td>dumont</td>\n",
       "      <td>1947</td>\n",
       "      <td>1951</td>\n",
       "      <td>bob emery hosts a program of stories, game co...</td>\n",
       "    </tr>\n",
       "    <tr>\n",
       "      <th>2</th>\n",
       "      <td>1738</td>\n",
       "      <td>crawford mystery theater.</td>\n",
       "      <td>series</td>\n",
       "      <td>game</td>\n",
       "      <td>dumont</td>\n",
       "      <td>1947</td>\n",
       "      <td>1952</td>\n",
       "      <td>the alternate title for public prosecutor (wh...</td>\n",
       "    </tr>\n",
       "    <tr>\n",
       "      <th>3</th>\n",
       "      <td>6636</td>\n",
       "      <td>public prosecutor.</td>\n",
       "      <td>series</td>\n",
       "      <td>mystery</td>\n",
       "      <td>syn., dumont</td>\n",
       "      <td>1947</td>\n",
       "      <td>1952</td>\n",
       "      <td>the syndicated version of the series (1947-48...</td>\n",
       "    </tr>\n",
       "    <tr>\n",
       "      <th>4</th>\n",
       "      <td>4323</td>\n",
       "      <td>juvenile jury.</td>\n",
       "      <td>series</td>\n",
       "      <td>children</td>\n",
       "      <td>nbc, cbs</td>\n",
       "      <td>1947</td>\n",
       "      <td>1955</td>\n",
       "      <td>the program features a panel of five children...</td>\n",
       "    </tr>\n",
       "  </tbody>\n",
       "</table>\n",
       "</div>"
      ],
      "text/plain": [
       "  Number                Program Title Program Type Program Genre  \\\n",
       "0   5137        mary kay and johnny.        series        comedy   \n",
       "1   7531         the small fry club.        series      children   \n",
       "2   1738   crawford mystery theater.        series          game   \n",
       "3   6636          public prosecutor.        series       mystery   \n",
       "4   4323              juvenile jury.        series      children   \n",
       "\n",
       "             Network First Air Year Last Air Year  \\\n",
       "0   dumont, nbc, cbs           1947          1950   \n",
       "1             dumont           1947          1951   \n",
       "2             dumont           1947          1952   \n",
       "3       syn., dumont           1947          1952   \n",
       "4           nbc, cbs           1947          1955   \n",
       "\n",
       "                                 Program Description  \n",
       "0   the marital misadventures of mary kay and joh...  \n",
       "1   bob emery hosts a program of stories, game co...  \n",
       "2   the alternate title for public prosecutor (wh...  \n",
       "3   the syndicated version of the series (1947-48...  \n",
       "4   the program features a panel of five children...  "
      ]
     },
     "execution_count": 45,
     "metadata": {},
     "output_type": "execute_result"
    }
   ],
   "source": [
    "df_left.head()"
   ]
  },
  {
   "cell_type": "code",
   "execution_count": 54,
   "metadata": {},
   "outputs": [
    {
     "data": {
      "text/plain": [
       "0                              1948 world series\n",
       "1                           abe burrows' almanac\n",
       "2                        action in the afternoon\n",
       "3                                 actor's studio\n",
       "34                            adventure showcase\n",
       "36                            adventures in jazz\n",
       "37                adventures of wild bill hickok\n",
       "77                                     air power\n",
       "104                    alfred hitchcock presents\n",
       "272                                   alkali ike\n",
       "273                          all around the town\n",
       "274                               america speaks\n",
       "275                   appointment with adventure\n",
       "329                     armstrong circle theatre\n",
       "371                          arthur godfrey time\n",
       "372               arthur godfrey and his friends\n",
       "380               arthur godfrey and his ukulele\n",
       "381                           as the world turns\n",
       "385                    assignment foreign legion\n",
       "399                              bachelor father\n",
       "440                    backstage with barry wood\n",
       "441                          balance your budget\n",
       "442                            bank on the stars\n",
       "444                           battle of the ages\n",
       "445                               beat the clock\n",
       "456                           biff baker, u.s.a.\n",
       "483                                      big top\n",
       "484                                     big town\n",
       "653                   billy boone and cousin kib\n",
       "654                               blues by bargy\n",
       "                          ...                   \n",
       "34148                                double play\n",
       "34306                             family theatre\n",
       "34310                       the eddy arnold show\n",
       "34547                                 giant step\n",
       "34548                              what's it for\n",
       "34563                                      i spy\n",
       "34609                  the sergeant and the lady\n",
       "34610                              it's wallace?\n",
       "34645                   jim and judy in teleland\n",
       "34690                         scattergood baines\n",
       "34691                                   n.o.p.d.\n",
       "34706                        sheriffs of the usa\n",
       "34720                  social security in action\n",
       "34722                     the buster keaton show\n",
       "34777                          the plymouth show\n",
       "34940              dale evans: queen of the west\n",
       "34971                                wunda wunda\n",
       "34972                  the sorcerer's apprentice\n",
       "34973                              family affair\n",
       "34974                  david hartman: counterspy\n",
       "34975                             mann of action\n",
       "34976                               indian agent\n",
       "34977    the last half hour: the mayerling story\n",
       "34978                       kimbar of the jungle\n",
       "34979                            now is tomorrow\n",
       "34980                        the andrews sisters\n",
       "34981                          the great merlini\n",
       "34982                         the race for space\n",
       "34983                               the wanderer\n",
       "34984                         the watts gnu show\n",
       "Name: title, Length: 2397, dtype: object"
      ]
     },
     "execution_count": 54,
     "metadata": {},
     "output_type": "execute_result"
    }
   ],
   "source": [
    "df_right[\"title\"]"
   ]
  },
  {
   "cell_type": "code",
   "execution_count": 47,
   "metadata": {},
   "outputs": [],
   "source": [
    "df_left[\"Program Title\"] = df_left[\"Program Title\"].str.replace('[.]','')"
   ]
  },
  {
   "cell_type": "code",
   "execution_count": 48,
   "metadata": {
    "scrolled": true
   },
   "outputs": [
    {
     "data": {
      "text/plain": [
       "0                   mary kay and johnny \n",
       "1                    the small fry club \n",
       "2              crawford mystery theater \n",
       "3                     public prosecutor \n",
       "4                         juvenile jury \n",
       "5          the kraft television theater \n",
       "6                 kukla, fran and ollie \n",
       "7                           howdy doody \n",
       "8                    midwestern hayride \n",
       "9                        actor's studio \n",
       "10                  the bob howard show \n",
       "11               the broadway playhouse \n",
       "12                    cartoon teletales \n",
       "13         the chesterfield supper club \n",
       "14           the chevrolet tele-theater \n",
       "15             the morey amsterdam show \n",
       "16                  the ted steele show \n",
       "17                           tv shopper \n",
       "18                         village barn \n",
       "19                   the alan dale show \n",
       "20                               club 7 \n",
       "21                    ford theater hour \n",
       "22                           lticky pup \n",
       "23                          okay mother \n",
       "24                          vanity fair \n",
       "25                       celebrity time \n",
       "26              the earl wrightson show \n",
       "27                      winner take all \n",
       "28                hollywood screen test \n",
       "29                  texaco star theater \n",
       "                      ...               \n",
       "1702           music for a summer night \n",
       "1703                     the music shop \n",
       "1704                       not for hire \n",
       "1705                           oh, boy! \n",
       "1706       the oldsmobile music theater \n",
       "1707                       the outrider \n",
       "1708       peabody's improbable history \n",
       "1709                    peck's bad girl \n",
       "1710                     perry presents \n",
       "1711                 pete kelly's blues \n",
       "1712                     police station \n",
       "1713         the quick draw mcgraw show \n",
       "1714      royal canadian mounted police \n",
       "1715                           sea hawk \n",
       "1716                    the secret jury \n",
       "1717     the secret life of john monroe \n",
       "1718              sergeant steve dekker \n",
       "1719               six guns for donegan \n",
       "1720                        skyfighters \n",
       "1721          the slightly fallen angel \n",
       "1722              strategic air command \n",
       "1723                        theater '59 \n",
       "1724              the third commandment \n",
       "1725                    this man dawson \n",
       "1726             too young to go steady \n",
       "1727                           vagabond \n",
       "1728                  war correspondent \n",
       "1729                    western theater \n",
       "1730                          whirlpool \n",
       "1731                          who pays? \n",
       "Name: Program Title, Length: 1732, dtype: object"
      ]
     },
     "execution_count": 48,
     "metadata": {},
     "output_type": "execute_result"
    }
   ],
   "source": [
    "df_left[\"Program Title\"]"
   ]
  },
  {
   "cell_type": "code",
   "execution_count": 55,
   "metadata": {},
   "outputs": [
    {
     "data": {
      "text/plain": [
       "<generator object <genexpr> at 0x10b694258>"
      ]
     },
     "execution_count": 55,
     "metadata": {},
     "output_type": "execute_result"
    }
   ],
   "source": [
    "(process.extract(x, df_left, scorer= fuzz.ratio) for x in df_right)"
   ]
  },
  {
   "cell_type": "code",
   "execution_count": 17,
   "metadata": {},
   "outputs": [
    {
     "ename": "KeyboardInterrupt",
     "evalue": "",
     "output_type": "error",
     "traceback": [
      "\u001b[0;31m---------------------------------------------------------------------------\u001b[0m",
      "\u001b[0;31mAttributeError\u001b[0m                            Traceback (most recent call last)",
      "\u001b[0;32m/usr/local/lib/python3.6/site-packages/fuzzywuzzy/process.py\u001b[0m in \u001b[0;36mextractWithoutOrder\u001b[0;34m(query, choices, processor, scorer, score_cutoff)\u001b[0m\n\u001b[1;32m    132\u001b[0m         \u001b[0;31m# See if choices is a dictionary-like object.\u001b[0m\u001b[0;34m\u001b[0m\u001b[0;34m\u001b[0m\u001b[0m\n\u001b[0;32m--> 133\u001b[0;31m         \u001b[0;32mfor\u001b[0m \u001b[0mkey\u001b[0m\u001b[0;34m,\u001b[0m \u001b[0mchoice\u001b[0m \u001b[0;32min\u001b[0m \u001b[0mchoices\u001b[0m\u001b[0;34m.\u001b[0m\u001b[0mitems\u001b[0m\u001b[0;34m(\u001b[0m\u001b[0;34m)\u001b[0m\u001b[0;34m:\u001b[0m\u001b[0;34m\u001b[0m\u001b[0m\n\u001b[0m\u001b[1;32m    134\u001b[0m             \u001b[0mprocessed\u001b[0m \u001b[0;34m=\u001b[0m \u001b[0mpre_processor\u001b[0m\u001b[0;34m(\u001b[0m\u001b[0mprocessor\u001b[0m\u001b[0;34m(\u001b[0m\u001b[0mchoice\u001b[0m\u001b[0;34m)\u001b[0m\u001b[0;34m)\u001b[0m\u001b[0;34m\u001b[0m\u001b[0m\n",
      "\u001b[0;31mAttributeError\u001b[0m: 'numpy.ndarray' object has no attribute 'items'",
      "\nDuring handling of the above exception, another exception occurred:\n",
      "\u001b[0;31mKeyboardInterrupt\u001b[0m                         Traceback (most recent call last)",
      "\u001b[0;32m<ipython-input-17-7acee263a2a6>\u001b[0m in \u001b[0;36m<module>\u001b[0;34m()\u001b[0m\n\u001b[1;32m     19\u001b[0m \u001b[0mcorrect_names\u001b[0m\u001b[0;34m=\u001b[0m\u001b[0mdf_right\u001b[0m\u001b[0;34m[\u001b[0m\u001b[0;34m\"title\"\u001b[0m\u001b[0;34m]\u001b[0m\u001b[0;34m.\u001b[0m\u001b[0mdropna\u001b[0m\u001b[0;34m(\u001b[0m\u001b[0;34m)\u001b[0m\u001b[0;34m.\u001b[0m\u001b[0mvalues\u001b[0m\u001b[0;34m\u001b[0m\u001b[0m\n\u001b[1;32m     20\u001b[0m \u001b[0;34m\u001b[0m\u001b[0m\n\u001b[0;32m---> 21\u001b[0;31m \u001b[0mname_match\u001b[0m\u001b[0;34m,\u001b[0m\u001b[0mratio_match\u001b[0m\u001b[0;34m=\u001b[0m\u001b[0mmatch_names\u001b[0m\u001b[0;34m(\u001b[0m\u001b[0mwrong_names\u001b[0m\u001b[0;34m,\u001b[0m\u001b[0mcorrect_names\u001b[0m\u001b[0;34m)\u001b[0m\u001b[0;34m\u001b[0m\u001b[0m\n\u001b[0m\u001b[1;32m     22\u001b[0m \u001b[0;34m\u001b[0m\u001b[0m\n\u001b[1;32m     23\u001b[0m \u001b[0mdf_left\u001b[0m\u001b[0;34m[\u001b[0m\u001b[0;34m'correct_name'\u001b[0m\u001b[0;34m]\u001b[0m\u001b[0;34m=\u001b[0m\u001b[0mpd\u001b[0m\u001b[0;34m.\u001b[0m\u001b[0mSeries\u001b[0m\u001b[0;34m(\u001b[0m\u001b[0mname_match\u001b[0m\u001b[0;34m)\u001b[0m\u001b[0;34m\u001b[0m\u001b[0m\n",
      "\u001b[0;32m<ipython-input-17-7acee263a2a6>\u001b[0m in \u001b[0;36mmatch_names\u001b[0;34m(wrong_names, correct_names)\u001b[0m\n\u001b[1;32m      6\u001b[0m \u001b[0;32mdef\u001b[0m \u001b[0mmatch_names\u001b[0m\u001b[0;34m(\u001b[0m\u001b[0mwrong_names\u001b[0m\u001b[0;34m,\u001b[0m\u001b[0mcorrect_names\u001b[0m\u001b[0;34m)\u001b[0m\u001b[0;34m:\u001b[0m\u001b[0;34m\u001b[0m\u001b[0m\n\u001b[1;32m      7\u001b[0m     \u001b[0;32mfor\u001b[0m \u001b[0mrow\u001b[0m \u001b[0;32min\u001b[0m \u001b[0mwrong_names\u001b[0m\u001b[0;34m:\u001b[0m\u001b[0;34m\u001b[0m\u001b[0m\n\u001b[0;32m----> 8\u001b[0;31m         \u001b[0mx\u001b[0m\u001b[0;34m=\u001b[0m\u001b[0mprocess\u001b[0m\u001b[0;34m.\u001b[0m\u001b[0mextractOne\u001b[0m\u001b[0;34m(\u001b[0m\u001b[0mrow\u001b[0m\u001b[0;34m,\u001b[0m \u001b[0mcorrect_names\u001b[0m\u001b[0;34m)\u001b[0m\u001b[0;34m\u001b[0m\u001b[0m\n\u001b[0m\u001b[1;32m      9\u001b[0m         \u001b[0mnames_array\u001b[0m\u001b[0;34m.\u001b[0m\u001b[0mappend\u001b[0m\u001b[0;34m(\u001b[0m\u001b[0mx\u001b[0m\u001b[0;34m[\u001b[0m\u001b[0;36m0\u001b[0m\u001b[0;34m]\u001b[0m\u001b[0;34m)\u001b[0m\u001b[0;34m\u001b[0m\u001b[0m\n\u001b[1;32m     10\u001b[0m         \u001b[0mratio_array\u001b[0m\u001b[0;34m.\u001b[0m\u001b[0mappend\u001b[0m\u001b[0;34m(\u001b[0m\u001b[0mx\u001b[0m\u001b[0;34m[\u001b[0m\u001b[0;36m1\u001b[0m\u001b[0;34m]\u001b[0m\u001b[0;34m)\u001b[0m\u001b[0;34m\u001b[0m\u001b[0m\n",
      "\u001b[0;32m/usr/local/lib/python3.6/site-packages/fuzzywuzzy/process.py\u001b[0m in \u001b[0;36mextractOne\u001b[0;34m(query, choices, processor, scorer, score_cutoff)\u001b[0m\n\u001b[1;32m    243\u001b[0m     \u001b[0mbest_list\u001b[0m \u001b[0;34m=\u001b[0m \u001b[0mextractWithoutOrder\u001b[0m\u001b[0;34m(\u001b[0m\u001b[0mquery\u001b[0m\u001b[0;34m,\u001b[0m \u001b[0mchoices\u001b[0m\u001b[0;34m,\u001b[0m \u001b[0mprocessor\u001b[0m\u001b[0;34m,\u001b[0m \u001b[0mscorer\u001b[0m\u001b[0;34m,\u001b[0m \u001b[0mscore_cutoff\u001b[0m\u001b[0;34m)\u001b[0m\u001b[0;34m\u001b[0m\u001b[0m\n\u001b[1;32m    244\u001b[0m     \u001b[0;32mtry\u001b[0m\u001b[0;34m:\u001b[0m\u001b[0;34m\u001b[0m\u001b[0m\n\u001b[0;32m--> 245\u001b[0;31m         \u001b[0;32mreturn\u001b[0m \u001b[0mmax\u001b[0m\u001b[0;34m(\u001b[0m\u001b[0mbest_list\u001b[0m\u001b[0;34m,\u001b[0m \u001b[0mkey\u001b[0m\u001b[0;34m=\u001b[0m\u001b[0;32mlambda\u001b[0m \u001b[0mi\u001b[0m\u001b[0;34m:\u001b[0m \u001b[0mi\u001b[0m\u001b[0;34m[\u001b[0m\u001b[0;36m1\u001b[0m\u001b[0;34m]\u001b[0m\u001b[0;34m)\u001b[0m\u001b[0;34m\u001b[0m\u001b[0m\n\u001b[0m\u001b[1;32m    246\u001b[0m     \u001b[0;32mexcept\u001b[0m \u001b[0mValueError\u001b[0m\u001b[0;34m:\u001b[0m\u001b[0;34m\u001b[0m\u001b[0m\n\u001b[1;32m    247\u001b[0m         \u001b[0;32mreturn\u001b[0m \u001b[0;32mNone\u001b[0m\u001b[0;34m\u001b[0m\u001b[0m\n",
      "\u001b[0;32m/usr/local/lib/python3.6/site-packages/fuzzywuzzy/process.py\u001b[0m in \u001b[0;36mextractWithoutOrder\u001b[0;34m(query, choices, processor, scorer, score_cutoff)\u001b[0m\n\u001b[1;32m    140\u001b[0m         \u001b[0;32mfor\u001b[0m \u001b[0mchoice\u001b[0m \u001b[0;32min\u001b[0m \u001b[0mchoices\u001b[0m\u001b[0;34m:\u001b[0m\u001b[0;34m\u001b[0m\u001b[0m\n\u001b[1;32m    141\u001b[0m             \u001b[0mprocessed\u001b[0m \u001b[0;34m=\u001b[0m \u001b[0mpre_processor\u001b[0m\u001b[0;34m(\u001b[0m\u001b[0mprocessor\u001b[0m\u001b[0;34m(\u001b[0m\u001b[0mchoice\u001b[0m\u001b[0;34m)\u001b[0m\u001b[0;34m)\u001b[0m\u001b[0;34m\u001b[0m\u001b[0m\n\u001b[0;32m--> 142\u001b[0;31m             \u001b[0mscore\u001b[0m \u001b[0;34m=\u001b[0m \u001b[0mscorer\u001b[0m\u001b[0;34m(\u001b[0m\u001b[0mprocessed_query\u001b[0m\u001b[0;34m,\u001b[0m \u001b[0mprocessed\u001b[0m\u001b[0;34m)\u001b[0m\u001b[0;34m\u001b[0m\u001b[0m\n\u001b[0m\u001b[1;32m    143\u001b[0m             \u001b[0;32mif\u001b[0m \u001b[0mscore\u001b[0m \u001b[0;34m>=\u001b[0m \u001b[0mscore_cutoff\u001b[0m\u001b[0;34m:\u001b[0m\u001b[0;34m\u001b[0m\u001b[0m\n\u001b[1;32m    144\u001b[0m                 \u001b[0;32myield\u001b[0m \u001b[0;34m(\u001b[0m\u001b[0mchoice\u001b[0m\u001b[0;34m,\u001b[0m \u001b[0mscore\u001b[0m\u001b[0;34m)\u001b[0m\u001b[0;34m\u001b[0m\u001b[0m\n",
      "\u001b[0;32m/usr/local/lib/python3.6/site-packages/fuzzywuzzy/fuzz.py\u001b[0m in \u001b[0;36mWRatio\u001b[0;34m(s1, s2, force_ascii, full_process)\u001b[0m\n\u001b[1;32m    305\u001b[0m \u001b[0;34m\u001b[0m\u001b[0m\n\u001b[1;32m    306\u001b[0m     \u001b[0;32mif\u001b[0m \u001b[0mtry_partial\u001b[0m\u001b[0;34m:\u001b[0m\u001b[0;34m\u001b[0m\u001b[0m\n\u001b[0;32m--> 307\u001b[0;31m         \u001b[0mpartial\u001b[0m \u001b[0;34m=\u001b[0m \u001b[0mpartial_ratio\u001b[0m\u001b[0;34m(\u001b[0m\u001b[0mp1\u001b[0m\u001b[0;34m,\u001b[0m \u001b[0mp2\u001b[0m\u001b[0;34m)\u001b[0m \u001b[0;34m*\u001b[0m \u001b[0mpartial_scale\u001b[0m\u001b[0;34m\u001b[0m\u001b[0m\n\u001b[0m\u001b[1;32m    308\u001b[0m         \u001b[0mptsor\u001b[0m \u001b[0;34m=\u001b[0m \u001b[0mpartial_token_sort_ratio\u001b[0m\u001b[0;34m(\u001b[0m\u001b[0mp1\u001b[0m\u001b[0;34m,\u001b[0m \u001b[0mp2\u001b[0m\u001b[0;34m,\u001b[0m \u001b[0mfull_process\u001b[0m\u001b[0;34m=\u001b[0m\u001b[0;32mFalse\u001b[0m\u001b[0;34m)\u001b[0m\u001b[0;31m \u001b[0m\u001b[0;31m\\\u001b[0m\u001b[0;34m\u001b[0m\u001b[0m\n\u001b[1;32m    309\u001b[0m             \u001b[0;34m*\u001b[0m \u001b[0munbase_scale\u001b[0m \u001b[0;34m*\u001b[0m \u001b[0mpartial_scale\u001b[0m\u001b[0;34m\u001b[0m\u001b[0m\n",
      "\u001b[0;32m/usr/local/lib/python3.6/site-packages/fuzzywuzzy/utils.py\u001b[0m in \u001b[0;36mdecorator\u001b[0;34m(*args, **kwargs)\u001b[0m\n\u001b[1;32m     27\u001b[0m         \u001b[0;32mif\u001b[0m \u001b[0margs\u001b[0m\u001b[0;34m[\u001b[0m\u001b[0;36m0\u001b[0m\u001b[0;34m]\u001b[0m \u001b[0;32mis\u001b[0m \u001b[0;32mNone\u001b[0m \u001b[0;32mor\u001b[0m \u001b[0margs\u001b[0m\u001b[0;34m[\u001b[0m\u001b[0;36m1\u001b[0m\u001b[0;34m]\u001b[0m \u001b[0;32mis\u001b[0m \u001b[0;32mNone\u001b[0m\u001b[0;34m:\u001b[0m\u001b[0;34m\u001b[0m\u001b[0m\n\u001b[1;32m     28\u001b[0m             \u001b[0;32mreturn\u001b[0m \u001b[0;36m0\u001b[0m\u001b[0;34m\u001b[0m\u001b[0m\n\u001b[0;32m---> 29\u001b[0;31m         \u001b[0;32mreturn\u001b[0m \u001b[0mfunc\u001b[0m\u001b[0;34m(\u001b[0m\u001b[0;34m*\u001b[0m\u001b[0margs\u001b[0m\u001b[0;34m,\u001b[0m \u001b[0;34m**\u001b[0m\u001b[0mkwargs\u001b[0m\u001b[0;34m)\u001b[0m\u001b[0;34m\u001b[0m\u001b[0m\n\u001b[0m\u001b[1;32m     30\u001b[0m     \u001b[0;32mreturn\u001b[0m \u001b[0mdecorator\u001b[0m\u001b[0;34m\u001b[0m\u001b[0m\n\u001b[1;32m     31\u001b[0m \u001b[0;34m\u001b[0m\u001b[0m\n",
      "\u001b[0;32m/usr/local/lib/python3.6/site-packages/fuzzywuzzy/utils.py\u001b[0m in \u001b[0;36mdecorator\u001b[0;34m(*args, **kwargs)\u001b[0m\n\u001b[1;32m     36\u001b[0m         \u001b[0;32mif\u001b[0m \u001b[0mlen\u001b[0m\u001b[0;34m(\u001b[0m\u001b[0margs\u001b[0m\u001b[0;34m[\u001b[0m\u001b[0;36m0\u001b[0m\u001b[0;34m]\u001b[0m\u001b[0;34m)\u001b[0m \u001b[0;34m==\u001b[0m \u001b[0;36m0\u001b[0m \u001b[0;32mor\u001b[0m \u001b[0mlen\u001b[0m\u001b[0;34m(\u001b[0m\u001b[0margs\u001b[0m\u001b[0;34m[\u001b[0m\u001b[0;36m1\u001b[0m\u001b[0;34m]\u001b[0m\u001b[0;34m)\u001b[0m \u001b[0;34m==\u001b[0m \u001b[0;36m0\u001b[0m\u001b[0;34m:\u001b[0m\u001b[0;34m\u001b[0m\u001b[0m\n\u001b[1;32m     37\u001b[0m             \u001b[0;32mreturn\u001b[0m \u001b[0;36m0\u001b[0m\u001b[0;34m\u001b[0m\u001b[0m\n\u001b[0;32m---> 38\u001b[0;31m         \u001b[0;32mreturn\u001b[0m \u001b[0mfunc\u001b[0m\u001b[0;34m(\u001b[0m\u001b[0;34m*\u001b[0m\u001b[0margs\u001b[0m\u001b[0;34m,\u001b[0m \u001b[0;34m**\u001b[0m\u001b[0mkwargs\u001b[0m\u001b[0;34m)\u001b[0m\u001b[0;34m\u001b[0m\u001b[0m\n\u001b[0m\u001b[1;32m     39\u001b[0m     \u001b[0;32mreturn\u001b[0m \u001b[0mdecorator\u001b[0m\u001b[0;34m\u001b[0m\u001b[0m\n\u001b[1;32m     40\u001b[0m \u001b[0;34m\u001b[0m\u001b[0m\n",
      "\u001b[0;32m/usr/local/lib/python3.6/site-packages/fuzzywuzzy/fuzz.py\u001b[0m in \u001b[0;36mpartial_ratio\u001b[0;34m(s1, s2)\u001b[0m\n\u001b[1;32m     79\u001b[0m         \u001b[0mlong_start\u001b[0m \u001b[0;34m=\u001b[0m \u001b[0mblock\u001b[0m\u001b[0;34m[\u001b[0m\u001b[0;36m1\u001b[0m\u001b[0;34m]\u001b[0m \u001b[0;34m-\u001b[0m \u001b[0mblock\u001b[0m\u001b[0;34m[\u001b[0m\u001b[0;36m0\u001b[0m\u001b[0;34m]\u001b[0m \u001b[0;32mif\u001b[0m \u001b[0;34m(\u001b[0m\u001b[0mblock\u001b[0m\u001b[0;34m[\u001b[0m\u001b[0;36m1\u001b[0m\u001b[0;34m]\u001b[0m \u001b[0;34m-\u001b[0m \u001b[0mblock\u001b[0m\u001b[0;34m[\u001b[0m\u001b[0;36m0\u001b[0m\u001b[0;34m]\u001b[0m\u001b[0;34m)\u001b[0m \u001b[0;34m>\u001b[0m \u001b[0;36m0\u001b[0m \u001b[0;32melse\u001b[0m \u001b[0;36m0\u001b[0m\u001b[0;34m\u001b[0m\u001b[0m\n\u001b[1;32m     80\u001b[0m         \u001b[0mlong_end\u001b[0m \u001b[0;34m=\u001b[0m \u001b[0mlong_start\u001b[0m \u001b[0;34m+\u001b[0m \u001b[0mlen\u001b[0m\u001b[0;34m(\u001b[0m\u001b[0mshorter\u001b[0m\u001b[0;34m)\u001b[0m\u001b[0;34m\u001b[0m\u001b[0m\n\u001b[0;32m---> 81\u001b[0;31m         \u001b[0mlong_substr\u001b[0m \u001b[0;34m=\u001b[0m \u001b[0mlonger\u001b[0m\u001b[0;34m[\u001b[0m\u001b[0mlong_start\u001b[0m\u001b[0;34m:\u001b[0m\u001b[0mlong_end\u001b[0m\u001b[0;34m]\u001b[0m\u001b[0;34m\u001b[0m\u001b[0m\n\u001b[0m\u001b[1;32m     82\u001b[0m \u001b[0;34m\u001b[0m\u001b[0m\n\u001b[1;32m     83\u001b[0m         \u001b[0mm2\u001b[0m \u001b[0;34m=\u001b[0m \u001b[0mSequenceMatcher\u001b[0m\u001b[0;34m(\u001b[0m\u001b[0;32mNone\u001b[0m\u001b[0;34m,\u001b[0m \u001b[0mshorter\u001b[0m\u001b[0;34m,\u001b[0m \u001b[0mlong_substr\u001b[0m\u001b[0;34m)\u001b[0m\u001b[0;34m\u001b[0m\u001b[0m\n",
      "\u001b[0;31mKeyboardInterrupt\u001b[0m: "
     ]
    }
   ],
   "source": [
    "#This works but needs tweaking\n",
    "\n",
    "names_array=[]\n",
    "ratio_array=[]\n",
    "\n",
    "def match_names(wrong_names,correct_names):\n",
    "    for row in wrong_names:\n",
    "        x=process.extractOne(row, correct_names)\n",
    "        names_array.append(x[0])\n",
    "        ratio_array.append(x[1])\n",
    "    return names_array,ratio_array\n",
    " \n",
    " \n",
    "#imdb names dataset\n",
    "\n",
    "wrong_names=df_left[\"Program Title\"].dropna().values\n",
    " \n",
    "#enc names dataset\n",
    "correct_names=df_right[\"title\"].dropna().values\n",
    " \n",
    "name_match,ratio_match=match_names(wrong_names,correct_names)\n",
    " \n",
    "df_left['correct_name']=pd.Series(name_match)\n",
    "df_left['name_ratio']=pd.Series(ratio_match)\n",
    " \n",
    " \n",
    "print(df_left[['Program Title','correct_name','name_ratio']].head(10))"
   ]
  },
  {
   "cell_type": "code",
   "execution_count": 56,
   "metadata": {},
   "outputs": [
    {
     "name": "stdout",
     "output_type": "stream",
     "text": [
      "                              title                   correct_name  name_ratio\n",
      "0                 1948 world series   the world of mister sweeney         86.0\n",
      "1              abe burrows' almanac           abe burrows almanac         97.0\n",
      "2           action in the afternoon       action in the afternoon        100.0\n",
      "3                    actor's studio                actor's studio        100.0\n",
      "34               adventure showcase   the buick electra playhouse         95.0\n",
      "36               adventures in jazz           cbs cartoon theater         95.0\n",
      "37   adventures of wild bill hickok           cbs cartoon theater         86.0\n",
      "77                        air power             father knows best        100.0\n",
      "104       alfred hitchcock presents                hotel de paree        100.0\n",
      "272                      alkali ike       the dennis o'keefe show        100.0\n"
     ]
    }
   ],
   "source": [
    "#This works but needs tweaking\n",
    "#Right to left\n",
    "\n",
    "names_array=[]\n",
    "ratio_array=[]\n",
    "\n",
    "def match_names(wrong_names,correct_names):\n",
    "    for row in wrong_names:\n",
    "        x=process.extractOne(row, correct_names)\n",
    "        names_array.append(x[0])\n",
    "        ratio_array.append(x[1])\n",
    "    return names_array,ratio_array\n",
    " \n",
    " \n",
    "#imdb names dataset\n",
    "\n",
    "wrong_names=df_right[\"title\"].dropna().values\n",
    " \n",
    "#enc names dataset\n",
    "correct_names=df_left[\"Program Title\"].dropna().values\n",
    " \n",
    "name_match,ratio_match=match_names(wrong_names,correct_names)\n",
    " \n",
    "df_right['correct_name']=pd.Series(name_match)\n",
    "df_right['name_ratio']=pd.Series(ratio_match)\n",
    " \n",
    " \n",
    "print(df_right[['title','correct_name','name_ratio']].head(10))"
   ]
  },
  {
   "cell_type": "code",
   "execution_count": null,
   "metadata": {},
   "outputs": [],
   "source": [
    "#df_left.to_csv(\"testing.csv\")"
   ]
  },
  {
   "cell_type": "code",
   "execution_count": 57,
   "metadata": {},
   "outputs": [],
   "source": [
    "df_merge = pd.merge(df_right, df_left, left_on= \"correct_name\", right_on = \"Program Title\")"
   ]
  },
  {
   "cell_type": "code",
   "execution_count": 58,
   "metadata": {},
   "outputs": [
    {
     "name": "stdout",
     "output_type": "stream",
     "text": [
      "       id                           title imdb_index kind_id production_year  \\\n",
      "0   10924               1948 world series        nan       2            1948   \n",
      "1   63168            abe burrows' almanac        nan       2            1950   \n",
      "2   73174         action in the afternoon        nan       2            1953   \n",
      "3   73584                  actor's studio        nan       2            1948   \n",
      "4   78738              adventure showcase        nan       2            1959   \n",
      "5   79346              adventures in jazz        nan       2            1949   \n",
      "6   80134  adventures of wild bill hickok        nan       2            1951   \n",
      "7   91087                       air power        nan       2            1956   \n",
      "8  100501       alfred hitchcock presents        nan       2            1955   \n",
      "9  103752                      alkali ike        nan       2            1950   \n",
      "\n",
      "  imdb_id phonetic_code episode_of_id season_nr episode_nr  \\\n",
      "0     nan         w6432           nan       nan        nan   \n",
      "1     nan         a1624           nan       nan        nan   \n",
      "2     nan         a2353           nan       nan        nan   \n",
      "3     nan         a2362           nan       nan        nan   \n",
      "4     nan         a3153           nan       nan        nan   \n",
      "5     nan         a3153           nan       nan        nan   \n",
      "6     nan         a3153           nan       nan        nan   \n",
      "7     nan          a616           nan       nan        nan   \n",
      "8     nan         a4163           nan       nan        nan   \n",
      "9     nan         a4242           nan       nan        nan   \n",
      "\n",
      "                         ...                          \\\n",
      "0                        ...                           \n",
      "1                        ...                           \n",
      "2                        ...                           \n",
      "3                        ...                           \n",
      "4                        ...                           \n",
      "5                        ...                           \n",
      "6                        ...                           \n",
      "7                        ...                           \n",
      "8                        ...                           \n",
      "9                        ...                           \n",
      "\n",
      "                    correct_name name_ratio  Number  \\\n",
      "0   the world of mister sweeney        86.0    9227   \n",
      "1           abe burrows almanac        97.0      14   \n",
      "2       action in the afternoon       100.0      43   \n",
      "3                actor's studio       100.0      50   \n",
      "4   the buick electra playhouse        95.0    1110   \n",
      "5           cbs cartoon theater        95.0    1309   \n",
      "6           cbs cartoon theater        86.0    1309   \n",
      "7             father knows best       100.0    2615   \n",
      "8                hotel de paree       100.0    3731   \n",
      "9       the dennis o'keefe show       100.0    1996   \n",
      "\n",
      "                   Program Title Program Type Program Genre    Network  \\\n",
      "0   the world of mister sweeney        series        comedy        nbc   \n",
      "1           abe burrows almanac        series       variety        cbs   \n",
      "2       action in the afternoon        series       western        cbs   \n",
      "3                actor's studio        series     anthology   abc, cbs   \n",
      "4   the buick electra playhouse        series     anthology        cbs   \n",
      "5           cbs cartoon theater        series       cartoon        cbs   \n",
      "6           cbs cartoon theater        series       cartoon        cbs   \n",
      "7             father knows best        series        comedy   cbs, nbc   \n",
      "8                hotel de paree        series       western        cbs   \n",
      "9       the dennis o'keefe show        series        comedy        cbs   \n",
      "\n",
      "  First Air Year Last Air Year  \\\n",
      "0           1954          1955   \n",
      "1           1950           nan   \n",
      "2           1953          1954   \n",
      "3           1948          1950   \n",
      "4           1959          1960   \n",
      "5           1956           nan   \n",
      "6           1956           nan   \n",
      "7           1955          1962   \n",
      "8           1959          1960   \n",
      "9           1959          1960   \n",
      "\n",
      "                                 Program Description  \n",
      "0   a daily series about the lighthearted misadve...  \n",
      "1   a live program of music, song and comedy feat...  \n",
      "2   the program, set in huberle, montana, during ...  \n",
      "3   a weekly series of dramatizations based on th...  \n",
      "4   the overall title for four adaptations of sto...  \n",
      "5   a short-lived series of theatrical cartoons f...  \n",
      "6   a short-lived series of theatrical cartoons f...  \n",
      "7   jim and margaret anderson are a married coupl...  \n",
      "8   \"there is no law in georgetown, colorado [187...  \n",
      "9   the home and working life of hal towne, a los...  \n",
      "\n",
      "[10 rows x 21 columns]\n"
     ]
    }
   ],
   "source": [
    "print(df_merge.head(10))"
   ]
  },
  {
   "cell_type": "code",
   "execution_count": 59,
   "metadata": {},
   "outputs": [],
   "source": [
    "df_merge.to_csv(\"merged3.csv\")\n",
    "###########"
   ]
  },
  {
   "cell_type": "code",
   "execution_count": 155,
   "metadata": {
    "collapsed": true
   },
   "outputs": [
    {
     "ename": "ZeroDivisionError",
     "evalue": "float division by zero",
     "output_type": "error",
     "traceback": [
      "\u001b[0;31m---------------------------------------------------------------------------\u001b[0m",
      "\u001b[0;31mZeroDivisionError\u001b[0m                         Traceback (most recent call last)",
      "\u001b[0;32m<ipython-input-155-c81094e66011>\u001b[0m in \u001b[0;36m<module>\u001b[0;34m()\u001b[0m\n\u001b[1;32m      9\u001b[0m \u001b[0mright_on\u001b[0m \u001b[0;34m=\u001b[0m \u001b[0;34m[\u001b[0m\u001b[0;34m\"title\"\u001b[0m\u001b[0;34m,\u001b[0m \u001b[0;34m\"production_year\"\u001b[0m\u001b[0;34m]\u001b[0m\u001b[0;34m\u001b[0m\u001b[0m\n\u001b[1;32m     10\u001b[0m \u001b[0;34m\u001b[0m\u001b[0m\n\u001b[0;32m---> 11\u001b[0;31m \u001b[0mfuzzymatcher\u001b[0m\u001b[0;34m.\u001b[0m\u001b[0mlink_table\u001b[0m\u001b[0;34m(\u001b[0m\u001b[0mdf_left\u001b[0m\u001b[0;34m,\u001b[0m \u001b[0mdf_right\u001b[0m\u001b[0;34m,\u001b[0m \u001b[0mleft_on\u001b[0m\u001b[0;34m,\u001b[0m \u001b[0mright_on\u001b[0m\u001b[0;34m)\u001b[0m\u001b[0;34m\u001b[0m\u001b[0m\n\u001b[0m",
      "\u001b[0;32m/usr/local/lib/python3.6/site-packages/fuzzymatcher/__init__.py\u001b[0m in \u001b[0;36mlink_table\u001b[0;34m(df_left, df_right, left_on, right_on, left_id_col, right_id_col)\u001b[0m\n\u001b[1;32m     22\u001b[0m     \u001b[0mm\u001b[0m \u001b[0;34m=\u001b[0m \u001b[0mMatcher\u001b[0m\u001b[0;34m(\u001b[0m\u001b[0mdp\u001b[0m\u001b[0;34m,\u001b[0m \u001b[0mdg\u001b[0m\u001b[0;34m,\u001b[0m \u001b[0ms\u001b[0m\u001b[0;34m)\u001b[0m\u001b[0;34m\u001b[0m\u001b[0m\n\u001b[1;32m     23\u001b[0m     \u001b[0mm\u001b[0m\u001b[0;34m.\u001b[0m\u001b[0madd_data\u001b[0m\u001b[0;34m(\u001b[0m\u001b[0mdf_left\u001b[0m\u001b[0;34m,\u001b[0m \u001b[0mdf_right\u001b[0m\u001b[0;34m,\u001b[0m \u001b[0mleft_on\u001b[0m\u001b[0;34m,\u001b[0m \u001b[0mright_on\u001b[0m\u001b[0;34m,\u001b[0m  \u001b[0mleft_id_col\u001b[0m\u001b[0;34m,\u001b[0m \u001b[0mright_id_col\u001b[0m\u001b[0;34m)\u001b[0m\u001b[0;34m\u001b[0m\u001b[0m\n\u001b[0;32m---> 24\u001b[0;31m     \u001b[0mm\u001b[0m\u001b[0;34m.\u001b[0m\u001b[0mmatch_all\u001b[0m\u001b[0;34m(\u001b[0m\u001b[0;34m)\u001b[0m\u001b[0;34m\u001b[0m\u001b[0m\n\u001b[0m\u001b[1;32m     25\u001b[0m \u001b[0;34m\u001b[0m\u001b[0m\n\u001b[1;32m     26\u001b[0m     \u001b[0;32mreturn\u001b[0m \u001b[0mm\u001b[0m\u001b[0;34m.\u001b[0m\u001b[0mget_formatted_link_table\u001b[0m\u001b[0;34m(\u001b[0m\u001b[0;34m)\u001b[0m\u001b[0;34m\u001b[0m\u001b[0m\n",
      "\u001b[0;32m/usr/local/lib/python3.6/site-packages/fuzzymatcher/matcher.py\u001b[0m in \u001b[0;36mmatch_all\u001b[0;34m(self)\u001b[0m\n\u001b[1;32m     90\u001b[0m \u001b[0;34m\u001b[0m\u001b[0m\n\u001b[1;32m     91\u001b[0m         \u001b[0;31m# Get a table that contains only the matches, scores and ids\u001b[0m\u001b[0;34m\u001b[0m\u001b[0;34m\u001b[0m\u001b[0m\n\u001b[0;32m---> 92\u001b[0;31m         \u001b[0mself\u001b[0m\u001b[0;34m.\u001b[0m\u001b[0mlink_table\u001b[0m \u001b[0;34m=\u001b[0m \u001b[0mself\u001b[0m\u001b[0;34m.\u001b[0m\u001b[0m_match_processed_data\u001b[0m\u001b[0;34m(\u001b[0m\u001b[0;34m)\u001b[0m\u001b[0;34m\u001b[0m\u001b[0m\n\u001b[0m\u001b[1;32m     93\u001b[0m \u001b[0;34m\u001b[0m\u001b[0m\n\u001b[1;32m     94\u001b[0m     \u001b[0;32mdef\u001b[0m \u001b[0mget_formatted_link_table\u001b[0m\u001b[0;34m(\u001b[0m\u001b[0mself\u001b[0m\u001b[0;34m)\u001b[0m\u001b[0;34m:\u001b[0m\u001b[0;34m\u001b[0m\u001b[0m\n",
      "\u001b[0;32m/usr/local/lib/python3.6/site-packages/fuzzymatcher/matcher.py\u001b[0m in \u001b[0;36m_match_processed_data\u001b[0;34m(self)\u001b[0m\n\u001b[1;32m    134\u001b[0m                 \u001b[0mlog\u001b[0m\u001b[0;34m.\u001b[0m\u001b[0mdebug\u001b[0m\u001b[0;34m(\u001b[0m\u001b[0mstr_template\u001b[0m\u001b[0;34m.\u001b[0m\u001b[0mformat\u001b[0m\u001b[0;34m(\u001b[0m\u001b[0mcounter\u001b[0m\u001b[0;34m,\u001b[0m \u001b[0;34m(\u001b[0m\u001b[0mcounter\u001b[0m\u001b[0;34m/\u001b[0m\u001b[0mtotal\u001b[0m\u001b[0;34m)\u001b[0m\u001b[0;34m*\u001b[0m\u001b[0;36m100\u001b[0m\u001b[0;34m,\u001b[0m \u001b[0mdiff\u001b[0m\u001b[0;34m.\u001b[0m\u001b[0mminutes\u001b[0m\u001b[0;34m,\u001b[0m \u001b[0mdiff\u001b[0m\u001b[0;34m.\u001b[0m\u001b[0mseconds\u001b[0m\u001b[0;34m)\u001b[0m\u001b[0;34m)\u001b[0m\u001b[0;34m\u001b[0m\u001b[0m\n\u001b[1;32m    135\u001b[0m \u001b[0;34m\u001b[0m\u001b[0m\n\u001b[0;32m--> 136\u001b[0;31m             \u001b[0mthis_record\u001b[0m\u001b[0;34m.\u001b[0m\u001b[0mfind_and_score_potential_matches\u001b[0m\u001b[0;34m(\u001b[0m\u001b[0;34m)\u001b[0m\u001b[0;34m\u001b[0m\u001b[0m\n\u001b[0m\u001b[1;32m    137\u001b[0m             \u001b[0mlink_table_list\u001b[0m\u001b[0;34m.\u001b[0m\u001b[0mextend\u001b[0m\u001b[0;34m(\u001b[0m\u001b[0mthis_record\u001b[0m\u001b[0;34m.\u001b[0m\u001b[0mget_link_table_rows\u001b[0m\u001b[0;34m(\u001b[0m\u001b[0;34m)\u001b[0m\u001b[0;34m)\u001b[0m\u001b[0;34m\u001b[0m\u001b[0m\n\u001b[1;32m    138\u001b[0m \u001b[0;34m\u001b[0m\u001b[0m\n",
      "\u001b[0;32m/usr/local/lib/python3.6/site-packages/fuzzymatcher/record.py\u001b[0m in \u001b[0;36mfind_and_score_potential_matches\u001b[0;34m(self)\u001b[0m\n\u001b[1;32m     66\u001b[0m     \u001b[0;32mdef\u001b[0m \u001b[0mfind_and_score_potential_matches\u001b[0m\u001b[0;34m(\u001b[0m\u001b[0mself\u001b[0m\u001b[0;34m)\u001b[0m\u001b[0;34m:\u001b[0m\u001b[0;34m\u001b[0m\u001b[0m\n\u001b[1;32m     67\u001b[0m         \u001b[0;31m# Each left_record has a list of left_record ids\u001b[0m\u001b[0;34m\u001b[0m\u001b[0;34m\u001b[0m\u001b[0m\n\u001b[0;32m---> 68\u001b[0;31m         \u001b[0mself\u001b[0m\u001b[0;34m.\u001b[0m\u001b[0mmatcher\u001b[0m\u001b[0;34m.\u001b[0m\u001b[0mdata_getter\u001b[0m\u001b[0;34m.\u001b[0m\u001b[0mget_potential_match_ids_from_record\u001b[0m\u001b[0;34m(\u001b[0m\u001b[0mself\u001b[0m\u001b[0;34m)\u001b[0m\u001b[0;34m\u001b[0m\u001b[0m\n\u001b[0m\u001b[1;32m     69\u001b[0m \u001b[0;34m\u001b[0m\u001b[0m\n\u001b[1;32m     70\u001b[0m     \u001b[0;32mdef\u001b[0m \u001b[0mget_link_table_rows\u001b[0m\u001b[0;34m(\u001b[0m\u001b[0mself\u001b[0m\u001b[0;34m)\u001b[0m\u001b[0;34m:\u001b[0m\u001b[0;34m\u001b[0m\u001b[0m\n",
      "\u001b[0;32m/usr/local/lib/python3.6/site-packages/fuzzymatcher/data_getter_sqlite.py\u001b[0m in \u001b[0;36mget_potential_match_ids_from_record\u001b[0;34m(self, rec_left)\u001b[0m\n\u001b[1;32m     91\u001b[0m \u001b[0;34m\u001b[0m\u001b[0m\n\u001b[1;32m     92\u001b[0m         \u001b[0;32mfor\u001b[0m \u001b[0mtoken_list\u001b[0m \u001b[0;32min\u001b[0m \u001b[0mtoken_lists\u001b[0m\u001b[0;34m:\u001b[0m\u001b[0;34m\u001b[0m\u001b[0m\n\u001b[0;32m---> 93\u001b[0;31m             \u001b[0mself\u001b[0m\u001b[0;34m.\u001b[0m\u001b[0m_search_specific_to_general_single\u001b[0m\u001b[0;34m(\u001b[0m\u001b[0mtoken_list\u001b[0m\u001b[0;34m,\u001b[0m \u001b[0mrec_left\u001b[0m\u001b[0;34m)\u001b[0m\u001b[0;34m\u001b[0m\u001b[0m\n\u001b[0m\u001b[1;32m     94\u001b[0m             \u001b[0;32mif\u001b[0m \u001b[0;32mnot\u001b[0m \u001b[0mself\u001b[0m\u001b[0;34m.\u001b[0m\u001b[0m_found_enough_matches\u001b[0m\u001b[0;34m(\u001b[0m\u001b[0mrec_left\u001b[0m\u001b[0;34m)\u001b[0m\u001b[0;34m:\u001b[0m\u001b[0;34m\u001b[0m\u001b[0m\n\u001b[1;32m     95\u001b[0m                 \u001b[0mself\u001b[0m\u001b[0;34m.\u001b[0m\u001b[0m_search_specific_to_general_band\u001b[0m\u001b[0;34m(\u001b[0m\u001b[0mtoken_list\u001b[0m\u001b[0;34m,\u001b[0m \u001b[0mrec_left\u001b[0m\u001b[0;34m)\u001b[0m\u001b[0;34m\u001b[0m\u001b[0m\n",
      "\u001b[0;32m/usr/local/lib/python3.6/site-packages/fuzzymatcher/data_getter_sqlite.py\u001b[0m in \u001b[0;36m_search_specific_to_general_single\u001b[0;34m(self, token_list, rec_left)\u001b[0m\n\u001b[1;32m    117\u001b[0m             \u001b[0mnew_matches\u001b[0m \u001b[0;34m=\u001b[0m \u001b[0mself\u001b[0m\u001b[0;34m.\u001b[0m\u001b[0m_tokens_to_matches\u001b[0m\u001b[0;34m(\u001b[0m\u001b[0mtuple\u001b[0m\u001b[0;34m(\u001b[0m\u001b[0msub_tokens\u001b[0m\u001b[0;34m)\u001b[0m\u001b[0;34m)\u001b[0m\u001b[0;34m\u001b[0m\u001b[0m\n\u001b[1;32m    118\u001b[0m \u001b[0;34m\u001b[0m\u001b[0m\n\u001b[0;32m--> 119\u001b[0;31m             \u001b[0mself\u001b[0m\u001b[0;34m.\u001b[0m\u001b[0m_add_matches_to_potential_matches\u001b[0m\u001b[0;34m(\u001b[0m\u001b[0mnew_matches\u001b[0m\u001b[0;34m,\u001b[0m \u001b[0mrec_left\u001b[0m\u001b[0;34m)\u001b[0m\u001b[0;34m\u001b[0m\u001b[0m\n\u001b[0m\u001b[1;32m    120\u001b[0m             \u001b[0;32mif\u001b[0m \u001b[0mself\u001b[0m\u001b[0;34m.\u001b[0m\u001b[0m_found_enough_matches\u001b[0m\u001b[0;34m(\u001b[0m\u001b[0mrec_left\u001b[0m\u001b[0;34m)\u001b[0m\u001b[0;34m:\u001b[0m\u001b[0;34m\u001b[0m\u001b[0m\n\u001b[1;32m    121\u001b[0m                 \u001b[0;32mreturn\u001b[0m\u001b[0;34m\u001b[0m\u001b[0m\n",
      "\u001b[0;32m/usr/local/lib/python3.6/site-packages/fuzzymatcher/data_getter_sqlite.py\u001b[0m in \u001b[0;36m_add_matches_to_potential_matches\u001b[0;34m(self, matches, rec_left)\u001b[0m\n\u001b[1;32m    165\u001b[0m             \u001b[0mright_id\u001b[0m \u001b[0;34m=\u001b[0m \u001b[0mmatch\u001b[0m\u001b[0;34m[\u001b[0m\u001b[0;36m0\u001b[0m\u001b[0;34m]\u001b[0m\u001b[0;34m\u001b[0m\u001b[0m\n\u001b[1;32m    166\u001b[0m             \u001b[0;32mif\u001b[0m \u001b[0mright_id\u001b[0m \u001b[0;32mnot\u001b[0m \u001b[0;32min\u001b[0m \u001b[0mrec_left\u001b[0m\u001b[0;34m.\u001b[0m\u001b[0mpotential_matches\u001b[0m\u001b[0;34m:\u001b[0m\u001b[0;34m\u001b[0m\u001b[0m\n\u001b[0;32m--> 167\u001b[0;31m                 \u001b[0mscored_potential_match\u001b[0m \u001b[0;34m=\u001b[0m \u001b[0mself\u001b[0m\u001b[0;34m.\u001b[0m\u001b[0mmatcher\u001b[0m\u001b[0;34m.\u001b[0m\u001b[0mscorer\u001b[0m\u001b[0;34m.\u001b[0m\u001b[0mscore_match\u001b[0m\u001b[0;34m(\u001b[0m\u001b[0mrec_left\u001b[0m\u001b[0;34m.\u001b[0m\u001b[0mrecord_id\u001b[0m\u001b[0;34m,\u001b[0m \u001b[0mright_id\u001b[0m\u001b[0;34m)\u001b[0m\u001b[0;34m\u001b[0m\u001b[0m\n\u001b[0m\u001b[1;32m    168\u001b[0m                 \u001b[0mrec_left\u001b[0m\u001b[0;34m.\u001b[0m\u001b[0mpotential_matches\u001b[0m\u001b[0;34m[\u001b[0m\u001b[0mright_id\u001b[0m\u001b[0;34m]\u001b[0m \u001b[0;34m=\u001b[0m \u001b[0mscored_potential_match\u001b[0m\u001b[0;34m\u001b[0m\u001b[0m\n\u001b[1;32m    169\u001b[0m                 \u001b[0;32mif\u001b[0m \u001b[0mrec_left\u001b[0m\u001b[0;34m.\u001b[0m\u001b[0mbest_match_score\u001b[0m \u001b[0;34m<\u001b[0m \u001b[0mscored_potential_match\u001b[0m\u001b[0;34m[\u001b[0m\u001b[0;34m\"match_score\"\u001b[0m\u001b[0;34m]\u001b[0m\u001b[0;34m:\u001b[0m\u001b[0;34m\u001b[0m\u001b[0m\n",
      "\u001b[0;32m/usr/local/lib/python3.6/site-packages/fuzzymatcher/scorer_default.py\u001b[0m in \u001b[0;36mscore_match\u001b[0;34m(self, record_left_id, record_right_id)\u001b[0m\n\u001b[1;32m     55\u001b[0m         \u001b[0mprob\u001b[0m \u001b[0;34m=\u001b[0m \u001b[0;36m1\u001b[0m\u001b[0;34m\u001b[0m\u001b[0m\n\u001b[1;32m     56\u001b[0m         \u001b[0;32mfor\u001b[0m \u001b[0mf_left\u001b[0m \u001b[0;32min\u001b[0m \u001b[0mfields_left\u001b[0m\u001b[0;34m:\u001b[0m\u001b[0;34m\u001b[0m\u001b[0m\n\u001b[0;32m---> 57\u001b[0;31m             \u001b[0mp\u001b[0m \u001b[0;34m=\u001b[0m \u001b[0mself\u001b[0m\u001b[0;34m.\u001b[0m\u001b[0m_field_to_prob\u001b[0m\u001b[0;34m(\u001b[0m\u001b[0mf_left\u001b[0m\u001b[0;34m,\u001b[0m \u001b[0mrecord_left\u001b[0m\u001b[0;34m,\u001b[0m \u001b[0mrecord_right\u001b[0m\u001b[0;34m)\u001b[0m\u001b[0;34m\u001b[0m\u001b[0m\n\u001b[0m\u001b[1;32m     58\u001b[0m             \u001b[0mprob\u001b[0m \u001b[0;34m=\u001b[0m \u001b[0mp\u001b[0m \u001b[0;34m*\u001b[0m \u001b[0mprob\u001b[0m\u001b[0;34m\u001b[0m\u001b[0m\n\u001b[1;32m     59\u001b[0m \u001b[0;34m\u001b[0m\u001b[0m\n",
      "\u001b[0;32m/usr/local/lib/python3.6/site-packages/fuzzymatcher/scorer_default.py\u001b[0m in \u001b[0;36m_field_to_prob\u001b[0;34m(self, field_left, record_left, record_right)\u001b[0m\n\u001b[1;32m     75\u001b[0m         \u001b[0mprob_matching\u001b[0m \u001b[0;34m=\u001b[0m \u001b[0mself\u001b[0m\u001b[0;34m.\u001b[0m\u001b[0m_get_prob_matching\u001b[0m\u001b[0;34m(\u001b[0m\u001b[0mmatching_tokens\u001b[0m\u001b[0;34m,\u001b[0m \u001b[0mfield_right\u001b[0m\u001b[0;34m)\u001b[0m\u001b[0;34m\u001b[0m\u001b[0m\n\u001b[1;32m     76\u001b[0m \u001b[0;34m\u001b[0m\u001b[0m\n\u001b[0;32m---> 77\u001b[0;31m         \u001b[0mprob_unmatching1\u001b[0m \u001b[0;34m=\u001b[0m \u001b[0mself\u001b[0m\u001b[0;34m.\u001b[0m\u001b[0m_get_prob_unmatching\u001b[0m\u001b[0;34m(\u001b[0m\u001b[0munmatching_tokens_left\u001b[0m\u001b[0;34m,\u001b[0m \u001b[0mtokens_right\u001b[0m\u001b[0;34m,\u001b[0m \u001b[0mfield_right\u001b[0m\u001b[0;34m,\u001b[0m \u001b[0mfield_left\u001b[0m\u001b[0;34m)\u001b[0m\u001b[0;34m\u001b[0m\u001b[0m\n\u001b[0m\u001b[1;32m     78\u001b[0m         \u001b[0mprob_unmatching2\u001b[0m \u001b[0;34m=\u001b[0m \u001b[0mself\u001b[0m\u001b[0;34m.\u001b[0m\u001b[0m_get_prob_unmatching\u001b[0m\u001b[0;34m(\u001b[0m\u001b[0munmatching_tokens_right\u001b[0m\u001b[0;34m,\u001b[0m \u001b[0mtokens_left\u001b[0m\u001b[0;34m,\u001b[0m \u001b[0mfield_right\u001b[0m\u001b[0;34m,\u001b[0m \u001b[0mfield_left\u001b[0m\u001b[0;34m)\u001b[0m\u001b[0;34m\u001b[0m\u001b[0m\n\u001b[1;32m     79\u001b[0m \u001b[0;34m\u001b[0m\u001b[0m\n",
      "\u001b[0;32m/usr/local/lib/python3.6/site-packages/fuzzymatcher/scorer_default.py\u001b[0m in \u001b[0;36m_get_prob_unmatching\u001b[0;34m(self, unmatching_tokens, record_tokens, field_right, field_left)\u001b[0m\n\u001b[1;32m     98\u001b[0m         \u001b[0mprob\u001b[0m \u001b[0;34m=\u001b[0m \u001b[0;36m1\u001b[0m\u001b[0;34m\u001b[0m\u001b[0m\n\u001b[1;32m     99\u001b[0m         \u001b[0;32mfor\u001b[0m \u001b[0mumt\u001b[0m \u001b[0;32min\u001b[0m \u001b[0munmatching_tokens\u001b[0m\u001b[0;34m:\u001b[0m\u001b[0;34m\u001b[0m\u001b[0m\n\u001b[0;32m--> 100\u001b[0;31m             \u001b[0;32mif\u001b[0m \u001b[0;32mnot\u001b[0m \u001b[0mself\u001b[0m\u001b[0;34m.\u001b[0m\u001b[0m_is_misspelling_of_one\u001b[0m\u001b[0;34m(\u001b[0m\u001b[0mumt\u001b[0m\u001b[0;34m,\u001b[0m \u001b[0mrecord_tokens\u001b[0m\u001b[0;34m)\u001b[0m\u001b[0;34m:\u001b[0m\u001b[0;34m\u001b[0m\u001b[0m\n\u001b[0m\u001b[1;32m    101\u001b[0m                 \u001b[0mp\u001b[0m \u001b[0;34m=\u001b[0m \u001b[0mself\u001b[0m\u001b[0;34m.\u001b[0m\u001b[0mget_prob\u001b[0m\u001b[0;34m(\u001b[0m\u001b[0mumt\u001b[0m\u001b[0;34m,\u001b[0m\u001b[0mfield_right\u001b[0m\u001b[0;34m,\u001b[0m\u001b[0;34m\"right\"\u001b[0m\u001b[0;34m)\u001b[0m\u001b[0;34m\u001b[0m\u001b[0m\n\u001b[1;32m    102\u001b[0m                 \u001b[0;32mif\u001b[0m \u001b[0mp\u001b[0m \u001b[0;32mis\u001b[0m \u001b[0;32mNone\u001b[0m\u001b[0;34m:\u001b[0m \u001b[0;31m# If this token never appears on the right, how often does it appear on the left\u001b[0m\u001b[0;34m\u001b[0m\u001b[0m\n",
      "\u001b[0;32m/usr/local/lib/python3.6/site-packages/fuzzymatcher/scorer_default.py\u001b[0m in \u001b[0;36m_is_misspelling_of_one\u001b[0;34m(self, token, token_list)\u001b[0m\n\u001b[1;32m    109\u001b[0m     \u001b[0;32mdef\u001b[0m \u001b[0m_is_misspelling_of_one\u001b[0m\u001b[0;34m(\u001b[0m\u001b[0mself\u001b[0m\u001b[0;34m,\u001b[0m \u001b[0mtoken\u001b[0m\u001b[0;34m,\u001b[0m \u001b[0mtoken_list\u001b[0m\u001b[0;34m)\u001b[0m\u001b[0;34m:\u001b[0m\u001b[0;34m\u001b[0m\u001b[0m\n\u001b[1;32m    110\u001b[0m         \u001b[0;32mfor\u001b[0m \u001b[0mt\u001b[0m \u001b[0;32min\u001b[0m \u001b[0mtoken_list\u001b[0m\u001b[0;34m:\u001b[0m\u001b[0;34m\u001b[0m\u001b[0m\n\u001b[0;32m--> 111\u001b[0;31m             \u001b[0;32mif\u001b[0m \u001b[0mself\u001b[0m\u001b[0;34m.\u001b[0m\u001b[0mmatcher\u001b[0m\u001b[0;34m.\u001b[0m\u001b[0mtoken_comparison\u001b[0m\u001b[0;34m.\u001b[0m\u001b[0mis_mispelling\u001b[0m\u001b[0;34m(\u001b[0m\u001b[0mtoken\u001b[0m\u001b[0;34m,\u001b[0m \u001b[0mt\u001b[0m\u001b[0;34m)\u001b[0m\u001b[0;34m:\u001b[0m\u001b[0;34m\u001b[0m\u001b[0m\n\u001b[0m\u001b[1;32m    112\u001b[0m                 \u001b[0;32mreturn\u001b[0m \u001b[0;32mTrue\u001b[0m\u001b[0;34m\u001b[0m\u001b[0m\n\u001b[1;32m    113\u001b[0m         \u001b[0;32mreturn\u001b[0m \u001b[0;32mFalse\u001b[0m\u001b[0;34m\u001b[0m\u001b[0m\n",
      "\u001b[0;32m/usr/local/lib/python3.6/site-packages/fuzzymatcher/tokencomparison.py\u001b[0m in \u001b[0;36mis_mispelling\u001b[0;34m(self, token1, token2)\u001b[0m\n\u001b[1;32m     36\u001b[0m             \u001b[0mt1f\u001b[0m \u001b[0;34m=\u001b[0m \u001b[0mfloat\u001b[0m\u001b[0;34m(\u001b[0m\u001b[0mtoken1\u001b[0m\u001b[0;34m)\u001b[0m\u001b[0;34m\u001b[0m\u001b[0m\n\u001b[1;32m     37\u001b[0m             \u001b[0mt2f\u001b[0m \u001b[0;34m=\u001b[0m \u001b[0mfloat\u001b[0m\u001b[0;34m(\u001b[0m\u001b[0mtoken2\u001b[0m\u001b[0;34m)\u001b[0m\u001b[0;34m\u001b[0m\u001b[0m\n\u001b[0;32m---> 38\u001b[0;31m             \u001b[0;32mif\u001b[0m \u001b[0mmax\u001b[0m\u001b[0;34m(\u001b[0m\u001b[0mt1f\u001b[0m\u001b[0;34m,\u001b[0m \u001b[0mt2f\u001b[0m\u001b[0;34m)\u001b[0m\u001b[0;34m/\u001b[0m\u001b[0mmin\u001b[0m\u001b[0;34m(\u001b[0m\u001b[0mt1f\u001b[0m\u001b[0;34m,\u001b[0m \u001b[0mt2f\u001b[0m\u001b[0;34m)\u001b[0m \u001b[0;34m<\u001b[0m \u001b[0mself\u001b[0m\u001b[0;34m.\u001b[0m\u001b[0mnumber_fuzz_threshold\u001b[0m\u001b[0;34m:\u001b[0m\u001b[0;34m\u001b[0m\u001b[0m\n\u001b[0m\u001b[1;32m     39\u001b[0m                 \u001b[0;32mreturn\u001b[0m \u001b[0;32mTrue\u001b[0m\u001b[0;34m\u001b[0m\u001b[0m\n\u001b[1;32m     40\u001b[0m \u001b[0;34m\u001b[0m\u001b[0m\n",
      "\u001b[0;31mZeroDivisionError\u001b[0m: float division by zero"
     ]
    }
   ],
   "source": [
    "#DOES NOT WORK\n",
    "#Columns to match on from df_left\n",
    "\n",
    "df_left.dropna().values\n",
    "df_right.dropna().values\n",
    "\n",
    "left_on = [\"Program Title\", \"First Air Year\"]\n",
    "\n",
    "# Columns to match on from df_right\n",
    "right_on = [\"title\", \"production_year\"]\n",
    "\n",
    "fuzzymatcher.link_table(df_left, df_right, left_on, right_on)"
   ]
  },
  {
   "cell_type": "code",
   "execution_count": 158,
   "metadata": {},
   "outputs": [
    {
     "ename": "ZeroDivisionError",
     "evalue": "float division by zero",
     "output_type": "error",
     "traceback": [
      "\u001b[0;31m---------------------------------------------------------------------------\u001b[0m",
      "\u001b[0;31mZeroDivisionError\u001b[0m                         Traceback (most recent call last)",
      "\u001b[0;32m<ipython-input-158-8ed661438f31>\u001b[0m in \u001b[0;36m<module>\u001b[0;34m()\u001b[0m\n\u001b[0;32m----> 1\u001b[0;31m \u001b[0mfuzzymatcher\u001b[0m\u001b[0;34m.\u001b[0m\u001b[0mfuzzy_left_join\u001b[0m\u001b[0;34m(\u001b[0m\u001b[0mdf_right\u001b[0m\u001b[0;34m,\u001b[0m \u001b[0mdf_left\u001b[0m\u001b[0;34m,\u001b[0m \u001b[0mleft_on\u001b[0m \u001b[0;34m=\u001b[0m \u001b[0;34m\"title\"\u001b[0m\u001b[0;34m,\u001b[0m \u001b[0mright_on\u001b[0m \u001b[0;34m=\u001b[0m \u001b[0;34m\"Program Title\"\u001b[0m\u001b[0;34m)\u001b[0m\u001b[0;34m\u001b[0m\u001b[0m\n\u001b[0m",
      "\u001b[0;32m/usr/local/lib/python3.6/site-packages/fuzzymatcher/__init__.py\u001b[0m in \u001b[0;36mfuzzy_left_join\u001b[0;34m(df_left, df_right, left_on, right_on, left_id_col, right_id_col)\u001b[0m\n\u001b[1;32m     39\u001b[0m     \u001b[0mm\u001b[0m \u001b[0;34m=\u001b[0m \u001b[0mMatcher\u001b[0m\u001b[0;34m(\u001b[0m\u001b[0mdp\u001b[0m\u001b[0;34m,\u001b[0m \u001b[0mdg\u001b[0m\u001b[0;34m,\u001b[0m \u001b[0ms\u001b[0m\u001b[0;34m)\u001b[0m\u001b[0;34m\u001b[0m\u001b[0m\n\u001b[1;32m     40\u001b[0m     \u001b[0mm\u001b[0m\u001b[0;34m.\u001b[0m\u001b[0madd_data\u001b[0m\u001b[0;34m(\u001b[0m\u001b[0mdf_left\u001b[0m\u001b[0;34m,\u001b[0m \u001b[0mdf_right\u001b[0m\u001b[0;34m,\u001b[0m \u001b[0mleft_on\u001b[0m\u001b[0;34m,\u001b[0m \u001b[0mright_on\u001b[0m\u001b[0;34m,\u001b[0m  \u001b[0mleft_id_col\u001b[0m\u001b[0;34m,\u001b[0m \u001b[0mright_id_col\u001b[0m\u001b[0;34m)\u001b[0m\u001b[0;34m\u001b[0m\u001b[0m\n\u001b[0;32m---> 41\u001b[0;31m     \u001b[0mm\u001b[0m\u001b[0;34m.\u001b[0m\u001b[0mmatch_all\u001b[0m\u001b[0;34m(\u001b[0m\u001b[0;34m)\u001b[0m\u001b[0;34m\u001b[0m\u001b[0m\n\u001b[0m\u001b[1;32m     42\u001b[0m \u001b[0;34m\u001b[0m\u001b[0m\n\u001b[1;32m     43\u001b[0m     \u001b[0;32mreturn\u001b[0m \u001b[0mm\u001b[0m\u001b[0;34m.\u001b[0m\u001b[0mget_left_join_table\u001b[0m\u001b[0;34m(\u001b[0m\u001b[0;34m)\u001b[0m\u001b[0;34m\u001b[0m\u001b[0m\n",
      "\u001b[0;32m/usr/local/lib/python3.6/site-packages/fuzzymatcher/matcher.py\u001b[0m in \u001b[0;36mmatch_all\u001b[0;34m(self)\u001b[0m\n\u001b[1;32m     90\u001b[0m \u001b[0;34m\u001b[0m\u001b[0m\n\u001b[1;32m     91\u001b[0m         \u001b[0;31m# Get a table that contains only the matches, scores and ids\u001b[0m\u001b[0;34m\u001b[0m\u001b[0;34m\u001b[0m\u001b[0m\n\u001b[0;32m---> 92\u001b[0;31m         \u001b[0mself\u001b[0m\u001b[0;34m.\u001b[0m\u001b[0mlink_table\u001b[0m \u001b[0;34m=\u001b[0m \u001b[0mself\u001b[0m\u001b[0;34m.\u001b[0m\u001b[0m_match_processed_data\u001b[0m\u001b[0;34m(\u001b[0m\u001b[0;34m)\u001b[0m\u001b[0;34m\u001b[0m\u001b[0m\n\u001b[0m\u001b[1;32m     93\u001b[0m \u001b[0;34m\u001b[0m\u001b[0m\n\u001b[1;32m     94\u001b[0m     \u001b[0;32mdef\u001b[0m \u001b[0mget_formatted_link_table\u001b[0m\u001b[0;34m(\u001b[0m\u001b[0mself\u001b[0m\u001b[0;34m)\u001b[0m\u001b[0;34m:\u001b[0m\u001b[0;34m\u001b[0m\u001b[0m\n",
      "\u001b[0;32m/usr/local/lib/python3.6/site-packages/fuzzymatcher/matcher.py\u001b[0m in \u001b[0;36m_match_processed_data\u001b[0;34m(self)\u001b[0m\n\u001b[1;32m    134\u001b[0m                 \u001b[0mlog\u001b[0m\u001b[0;34m.\u001b[0m\u001b[0mdebug\u001b[0m\u001b[0;34m(\u001b[0m\u001b[0mstr_template\u001b[0m\u001b[0;34m.\u001b[0m\u001b[0mformat\u001b[0m\u001b[0;34m(\u001b[0m\u001b[0mcounter\u001b[0m\u001b[0;34m,\u001b[0m \u001b[0;34m(\u001b[0m\u001b[0mcounter\u001b[0m\u001b[0;34m/\u001b[0m\u001b[0mtotal\u001b[0m\u001b[0;34m)\u001b[0m\u001b[0;34m*\u001b[0m\u001b[0;36m100\u001b[0m\u001b[0;34m,\u001b[0m \u001b[0mdiff\u001b[0m\u001b[0;34m.\u001b[0m\u001b[0mminutes\u001b[0m\u001b[0;34m,\u001b[0m \u001b[0mdiff\u001b[0m\u001b[0;34m.\u001b[0m\u001b[0mseconds\u001b[0m\u001b[0;34m)\u001b[0m\u001b[0;34m)\u001b[0m\u001b[0;34m\u001b[0m\u001b[0m\n\u001b[1;32m    135\u001b[0m \u001b[0;34m\u001b[0m\u001b[0m\n\u001b[0;32m--> 136\u001b[0;31m             \u001b[0mthis_record\u001b[0m\u001b[0;34m.\u001b[0m\u001b[0mfind_and_score_potential_matches\u001b[0m\u001b[0;34m(\u001b[0m\u001b[0;34m)\u001b[0m\u001b[0;34m\u001b[0m\u001b[0m\n\u001b[0m\u001b[1;32m    137\u001b[0m             \u001b[0mlink_table_list\u001b[0m\u001b[0;34m.\u001b[0m\u001b[0mextend\u001b[0m\u001b[0;34m(\u001b[0m\u001b[0mthis_record\u001b[0m\u001b[0;34m.\u001b[0m\u001b[0mget_link_table_rows\u001b[0m\u001b[0;34m(\u001b[0m\u001b[0;34m)\u001b[0m\u001b[0;34m)\u001b[0m\u001b[0;34m\u001b[0m\u001b[0m\n\u001b[1;32m    138\u001b[0m \u001b[0;34m\u001b[0m\u001b[0m\n",
      "\u001b[0;32m/usr/local/lib/python3.6/site-packages/fuzzymatcher/record.py\u001b[0m in \u001b[0;36mfind_and_score_potential_matches\u001b[0;34m(self)\u001b[0m\n\u001b[1;32m     66\u001b[0m     \u001b[0;32mdef\u001b[0m \u001b[0mfind_and_score_potential_matches\u001b[0m\u001b[0;34m(\u001b[0m\u001b[0mself\u001b[0m\u001b[0;34m)\u001b[0m\u001b[0;34m:\u001b[0m\u001b[0;34m\u001b[0m\u001b[0m\n\u001b[1;32m     67\u001b[0m         \u001b[0;31m# Each left_record has a list of left_record ids\u001b[0m\u001b[0;34m\u001b[0m\u001b[0;34m\u001b[0m\u001b[0m\n\u001b[0;32m---> 68\u001b[0;31m         \u001b[0mself\u001b[0m\u001b[0;34m.\u001b[0m\u001b[0mmatcher\u001b[0m\u001b[0;34m.\u001b[0m\u001b[0mdata_getter\u001b[0m\u001b[0;34m.\u001b[0m\u001b[0mget_potential_match_ids_from_record\u001b[0m\u001b[0;34m(\u001b[0m\u001b[0mself\u001b[0m\u001b[0;34m)\u001b[0m\u001b[0;34m\u001b[0m\u001b[0m\n\u001b[0m\u001b[1;32m     69\u001b[0m \u001b[0;34m\u001b[0m\u001b[0m\n\u001b[1;32m     70\u001b[0m     \u001b[0;32mdef\u001b[0m \u001b[0mget_link_table_rows\u001b[0m\u001b[0;34m(\u001b[0m\u001b[0mself\u001b[0m\u001b[0;34m)\u001b[0m\u001b[0;34m:\u001b[0m\u001b[0;34m\u001b[0m\u001b[0m\n",
      "\u001b[0;32m/usr/local/lib/python3.6/site-packages/fuzzymatcher/data_getter_sqlite.py\u001b[0m in \u001b[0;36mget_potential_match_ids_from_record\u001b[0;34m(self, rec_left)\u001b[0m\n\u001b[1;32m     93\u001b[0m             \u001b[0mself\u001b[0m\u001b[0;34m.\u001b[0m\u001b[0m_search_specific_to_general_single\u001b[0m\u001b[0;34m(\u001b[0m\u001b[0mtoken_list\u001b[0m\u001b[0;34m,\u001b[0m \u001b[0mrec_left\u001b[0m\u001b[0;34m)\u001b[0m\u001b[0;34m\u001b[0m\u001b[0m\n\u001b[1;32m     94\u001b[0m             \u001b[0;32mif\u001b[0m \u001b[0;32mnot\u001b[0m \u001b[0mself\u001b[0m\u001b[0;34m.\u001b[0m\u001b[0m_found_enough_matches\u001b[0m\u001b[0;34m(\u001b[0m\u001b[0mrec_left\u001b[0m\u001b[0;34m)\u001b[0m\u001b[0;34m:\u001b[0m\u001b[0;34m\u001b[0m\u001b[0m\n\u001b[0;32m---> 95\u001b[0;31m                 \u001b[0mself\u001b[0m\u001b[0;34m.\u001b[0m\u001b[0m_search_specific_to_general_band\u001b[0m\u001b[0;34m(\u001b[0m\u001b[0mtoken_list\u001b[0m\u001b[0;34m,\u001b[0m \u001b[0mrec_left\u001b[0m\u001b[0;34m)\u001b[0m\u001b[0;34m\u001b[0m\u001b[0m\n\u001b[0m\u001b[1;32m     96\u001b[0m             \u001b[0;32mif\u001b[0m \u001b[0mself\u001b[0m\u001b[0;34m.\u001b[0m\u001b[0m_found_enough_matches\u001b[0m\u001b[0;34m(\u001b[0m\u001b[0mrec_left\u001b[0m\u001b[0;34m)\u001b[0m\u001b[0;34m:\u001b[0m\u001b[0;34m\u001b[0m\u001b[0m\n\u001b[1;32m     97\u001b[0m                 \u001b[0;32mbreak\u001b[0m\u001b[0;34m\u001b[0m\u001b[0m\n",
      "\u001b[0;32m/usr/local/lib/python3.6/site-packages/fuzzymatcher/data_getter_sqlite.py\u001b[0m in \u001b[0;36m_search_specific_to_general_band\u001b[0;34m(self, tokens, rec_left)\u001b[0m\n\u001b[1;32m    132\u001b[0m                 \u001b[0msearch_tokens\u001b[0m \u001b[0;34m=\u001b[0m \u001b[0mtokens\u001b[0m\u001b[0;34m[\u001b[0m\u001b[0mstart_pos\u001b[0m\u001b[0;34m:\u001b[0m\u001b[0mend_pos\u001b[0m\u001b[0;34m]\u001b[0m\u001b[0;34m\u001b[0m\u001b[0m\n\u001b[1;32m    133\u001b[0m                 \u001b[0mnew_matches\u001b[0m \u001b[0;34m=\u001b[0m \u001b[0mself\u001b[0m\u001b[0;34m.\u001b[0m\u001b[0m_tokens_to_matches\u001b[0m\u001b[0;34m(\u001b[0m\u001b[0mtuple\u001b[0m\u001b[0;34m(\u001b[0m\u001b[0msearch_tokens\u001b[0m\u001b[0;34m)\u001b[0m\u001b[0;34m)\u001b[0m\u001b[0;34m\u001b[0m\u001b[0m\n\u001b[0;32m--> 134\u001b[0;31m                 \u001b[0mself\u001b[0m\u001b[0;34m.\u001b[0m\u001b[0m_add_matches_to_potential_matches\u001b[0m\u001b[0;34m(\u001b[0m\u001b[0mnew_matches\u001b[0m\u001b[0;34m,\u001b[0m \u001b[0mrec_left\u001b[0m\u001b[0;34m)\u001b[0m\u001b[0;34m\u001b[0m\u001b[0m\n\u001b[0m\u001b[1;32m    135\u001b[0m                 \u001b[0;32mif\u001b[0m \u001b[0mself\u001b[0m\u001b[0;34m.\u001b[0m\u001b[0m_found_good_match\u001b[0m\u001b[0;34m(\u001b[0m\u001b[0mrec_left\u001b[0m\u001b[0;34m)\u001b[0m\u001b[0;34m:\u001b[0m\u001b[0;34m\u001b[0m\u001b[0m\n\u001b[1;32m    136\u001b[0m                     \u001b[0;32mreturn\u001b[0m\u001b[0;34m\u001b[0m\u001b[0m\n",
      "\u001b[0;32m/usr/local/lib/python3.6/site-packages/fuzzymatcher/data_getter_sqlite.py\u001b[0m in \u001b[0;36m_add_matches_to_potential_matches\u001b[0;34m(self, matches, rec_left)\u001b[0m\n\u001b[1;32m    165\u001b[0m             \u001b[0mright_id\u001b[0m \u001b[0;34m=\u001b[0m \u001b[0mmatch\u001b[0m\u001b[0;34m[\u001b[0m\u001b[0;36m0\u001b[0m\u001b[0;34m]\u001b[0m\u001b[0;34m\u001b[0m\u001b[0m\n\u001b[1;32m    166\u001b[0m             \u001b[0;32mif\u001b[0m \u001b[0mright_id\u001b[0m \u001b[0;32mnot\u001b[0m \u001b[0;32min\u001b[0m \u001b[0mrec_left\u001b[0m\u001b[0;34m.\u001b[0m\u001b[0mpotential_matches\u001b[0m\u001b[0;34m:\u001b[0m\u001b[0;34m\u001b[0m\u001b[0m\n\u001b[0;32m--> 167\u001b[0;31m                 \u001b[0mscored_potential_match\u001b[0m \u001b[0;34m=\u001b[0m \u001b[0mself\u001b[0m\u001b[0;34m.\u001b[0m\u001b[0mmatcher\u001b[0m\u001b[0;34m.\u001b[0m\u001b[0mscorer\u001b[0m\u001b[0;34m.\u001b[0m\u001b[0mscore_match\u001b[0m\u001b[0;34m(\u001b[0m\u001b[0mrec_left\u001b[0m\u001b[0;34m.\u001b[0m\u001b[0mrecord_id\u001b[0m\u001b[0;34m,\u001b[0m \u001b[0mright_id\u001b[0m\u001b[0;34m)\u001b[0m\u001b[0;34m\u001b[0m\u001b[0m\n\u001b[0m\u001b[1;32m    168\u001b[0m                 \u001b[0mrec_left\u001b[0m\u001b[0;34m.\u001b[0m\u001b[0mpotential_matches\u001b[0m\u001b[0;34m[\u001b[0m\u001b[0mright_id\u001b[0m\u001b[0;34m]\u001b[0m \u001b[0;34m=\u001b[0m \u001b[0mscored_potential_match\u001b[0m\u001b[0;34m\u001b[0m\u001b[0m\n\u001b[1;32m    169\u001b[0m                 \u001b[0;32mif\u001b[0m \u001b[0mrec_left\u001b[0m\u001b[0;34m.\u001b[0m\u001b[0mbest_match_score\u001b[0m \u001b[0;34m<\u001b[0m \u001b[0mscored_potential_match\u001b[0m\u001b[0;34m[\u001b[0m\u001b[0;34m\"match_score\"\u001b[0m\u001b[0;34m]\u001b[0m\u001b[0;34m:\u001b[0m\u001b[0;34m\u001b[0m\u001b[0m\n",
      "\u001b[0;32m/usr/local/lib/python3.6/site-packages/fuzzymatcher/scorer_default.py\u001b[0m in \u001b[0;36mscore_match\u001b[0;34m(self, record_left_id, record_right_id)\u001b[0m\n\u001b[1;32m     55\u001b[0m         \u001b[0mprob\u001b[0m \u001b[0;34m=\u001b[0m \u001b[0;36m1\u001b[0m\u001b[0;34m\u001b[0m\u001b[0m\n\u001b[1;32m     56\u001b[0m         \u001b[0;32mfor\u001b[0m \u001b[0mf_left\u001b[0m \u001b[0;32min\u001b[0m \u001b[0mfields_left\u001b[0m\u001b[0;34m:\u001b[0m\u001b[0;34m\u001b[0m\u001b[0m\n\u001b[0;32m---> 57\u001b[0;31m             \u001b[0mp\u001b[0m \u001b[0;34m=\u001b[0m \u001b[0mself\u001b[0m\u001b[0;34m.\u001b[0m\u001b[0m_field_to_prob\u001b[0m\u001b[0;34m(\u001b[0m\u001b[0mf_left\u001b[0m\u001b[0;34m,\u001b[0m \u001b[0mrecord_left\u001b[0m\u001b[0;34m,\u001b[0m \u001b[0mrecord_right\u001b[0m\u001b[0;34m)\u001b[0m\u001b[0;34m\u001b[0m\u001b[0m\n\u001b[0m\u001b[1;32m     58\u001b[0m             \u001b[0mprob\u001b[0m \u001b[0;34m=\u001b[0m \u001b[0mp\u001b[0m \u001b[0;34m*\u001b[0m \u001b[0mprob\u001b[0m\u001b[0;34m\u001b[0m\u001b[0m\n\u001b[1;32m     59\u001b[0m \u001b[0;34m\u001b[0m\u001b[0m\n",
      "\u001b[0;32m/usr/local/lib/python3.6/site-packages/fuzzymatcher/scorer_default.py\u001b[0m in \u001b[0;36m_field_to_prob\u001b[0;34m(self, field_left, record_left, record_right)\u001b[0m\n\u001b[1;32m     75\u001b[0m         \u001b[0mprob_matching\u001b[0m \u001b[0;34m=\u001b[0m \u001b[0mself\u001b[0m\u001b[0;34m.\u001b[0m\u001b[0m_get_prob_matching\u001b[0m\u001b[0;34m(\u001b[0m\u001b[0mmatching_tokens\u001b[0m\u001b[0;34m,\u001b[0m \u001b[0mfield_right\u001b[0m\u001b[0;34m)\u001b[0m\u001b[0;34m\u001b[0m\u001b[0m\n\u001b[1;32m     76\u001b[0m \u001b[0;34m\u001b[0m\u001b[0m\n\u001b[0;32m---> 77\u001b[0;31m         \u001b[0mprob_unmatching1\u001b[0m \u001b[0;34m=\u001b[0m \u001b[0mself\u001b[0m\u001b[0;34m.\u001b[0m\u001b[0m_get_prob_unmatching\u001b[0m\u001b[0;34m(\u001b[0m\u001b[0munmatching_tokens_left\u001b[0m\u001b[0;34m,\u001b[0m \u001b[0mtokens_right\u001b[0m\u001b[0;34m,\u001b[0m \u001b[0mfield_right\u001b[0m\u001b[0;34m,\u001b[0m \u001b[0mfield_left\u001b[0m\u001b[0;34m)\u001b[0m\u001b[0;34m\u001b[0m\u001b[0m\n\u001b[0m\u001b[1;32m     78\u001b[0m         \u001b[0mprob_unmatching2\u001b[0m \u001b[0;34m=\u001b[0m \u001b[0mself\u001b[0m\u001b[0;34m.\u001b[0m\u001b[0m_get_prob_unmatching\u001b[0m\u001b[0;34m(\u001b[0m\u001b[0munmatching_tokens_right\u001b[0m\u001b[0;34m,\u001b[0m \u001b[0mtokens_left\u001b[0m\u001b[0;34m,\u001b[0m \u001b[0mfield_right\u001b[0m\u001b[0;34m,\u001b[0m \u001b[0mfield_left\u001b[0m\u001b[0;34m)\u001b[0m\u001b[0;34m\u001b[0m\u001b[0m\n\u001b[1;32m     79\u001b[0m \u001b[0;34m\u001b[0m\u001b[0m\n",
      "\u001b[0;32m/usr/local/lib/python3.6/site-packages/fuzzymatcher/scorer_default.py\u001b[0m in \u001b[0;36m_get_prob_unmatching\u001b[0;34m(self, unmatching_tokens, record_tokens, field_right, field_left)\u001b[0m\n\u001b[1;32m     98\u001b[0m         \u001b[0mprob\u001b[0m \u001b[0;34m=\u001b[0m \u001b[0;36m1\u001b[0m\u001b[0;34m\u001b[0m\u001b[0m\n\u001b[1;32m     99\u001b[0m         \u001b[0;32mfor\u001b[0m \u001b[0mumt\u001b[0m \u001b[0;32min\u001b[0m \u001b[0munmatching_tokens\u001b[0m\u001b[0;34m:\u001b[0m\u001b[0;34m\u001b[0m\u001b[0m\n\u001b[0;32m--> 100\u001b[0;31m             \u001b[0;32mif\u001b[0m \u001b[0;32mnot\u001b[0m \u001b[0mself\u001b[0m\u001b[0;34m.\u001b[0m\u001b[0m_is_misspelling_of_one\u001b[0m\u001b[0;34m(\u001b[0m\u001b[0mumt\u001b[0m\u001b[0;34m,\u001b[0m \u001b[0mrecord_tokens\u001b[0m\u001b[0;34m)\u001b[0m\u001b[0;34m:\u001b[0m\u001b[0;34m\u001b[0m\u001b[0m\n\u001b[0m\u001b[1;32m    101\u001b[0m                 \u001b[0mp\u001b[0m \u001b[0;34m=\u001b[0m \u001b[0mself\u001b[0m\u001b[0;34m.\u001b[0m\u001b[0mget_prob\u001b[0m\u001b[0;34m(\u001b[0m\u001b[0mumt\u001b[0m\u001b[0;34m,\u001b[0m\u001b[0mfield_right\u001b[0m\u001b[0;34m,\u001b[0m\u001b[0;34m\"right\"\u001b[0m\u001b[0;34m)\u001b[0m\u001b[0;34m\u001b[0m\u001b[0m\n\u001b[1;32m    102\u001b[0m                 \u001b[0;32mif\u001b[0m \u001b[0mp\u001b[0m \u001b[0;32mis\u001b[0m \u001b[0;32mNone\u001b[0m\u001b[0;34m:\u001b[0m \u001b[0;31m# If this token never appears on the right, how often does it appear on the left\u001b[0m\u001b[0;34m\u001b[0m\u001b[0m\n",
      "\u001b[0;32m/usr/local/lib/python3.6/site-packages/fuzzymatcher/scorer_default.py\u001b[0m in \u001b[0;36m_is_misspelling_of_one\u001b[0;34m(self, token, token_list)\u001b[0m\n\u001b[1;32m    109\u001b[0m     \u001b[0;32mdef\u001b[0m \u001b[0m_is_misspelling_of_one\u001b[0m\u001b[0;34m(\u001b[0m\u001b[0mself\u001b[0m\u001b[0;34m,\u001b[0m \u001b[0mtoken\u001b[0m\u001b[0;34m,\u001b[0m \u001b[0mtoken_list\u001b[0m\u001b[0;34m)\u001b[0m\u001b[0;34m:\u001b[0m\u001b[0;34m\u001b[0m\u001b[0m\n\u001b[1;32m    110\u001b[0m         \u001b[0;32mfor\u001b[0m \u001b[0mt\u001b[0m \u001b[0;32min\u001b[0m \u001b[0mtoken_list\u001b[0m\u001b[0;34m:\u001b[0m\u001b[0;34m\u001b[0m\u001b[0m\n\u001b[0;32m--> 111\u001b[0;31m             \u001b[0;32mif\u001b[0m \u001b[0mself\u001b[0m\u001b[0;34m.\u001b[0m\u001b[0mmatcher\u001b[0m\u001b[0;34m.\u001b[0m\u001b[0mtoken_comparison\u001b[0m\u001b[0;34m.\u001b[0m\u001b[0mis_mispelling\u001b[0m\u001b[0;34m(\u001b[0m\u001b[0mtoken\u001b[0m\u001b[0;34m,\u001b[0m \u001b[0mt\u001b[0m\u001b[0;34m)\u001b[0m\u001b[0;34m:\u001b[0m\u001b[0;34m\u001b[0m\u001b[0m\n\u001b[0m\u001b[1;32m    112\u001b[0m                 \u001b[0;32mreturn\u001b[0m \u001b[0;32mTrue\u001b[0m\u001b[0;34m\u001b[0m\u001b[0m\n\u001b[1;32m    113\u001b[0m         \u001b[0;32mreturn\u001b[0m \u001b[0;32mFalse\u001b[0m\u001b[0;34m\u001b[0m\u001b[0m\n",
      "\u001b[0;32m/usr/local/lib/python3.6/site-packages/fuzzymatcher/tokencomparison.py\u001b[0m in \u001b[0;36mis_mispelling\u001b[0;34m(self, token1, token2)\u001b[0m\n\u001b[1;32m     36\u001b[0m             \u001b[0mt1f\u001b[0m \u001b[0;34m=\u001b[0m \u001b[0mfloat\u001b[0m\u001b[0;34m(\u001b[0m\u001b[0mtoken1\u001b[0m\u001b[0;34m)\u001b[0m\u001b[0;34m\u001b[0m\u001b[0m\n\u001b[1;32m     37\u001b[0m             \u001b[0mt2f\u001b[0m \u001b[0;34m=\u001b[0m \u001b[0mfloat\u001b[0m\u001b[0;34m(\u001b[0m\u001b[0mtoken2\u001b[0m\u001b[0;34m)\u001b[0m\u001b[0;34m\u001b[0m\u001b[0m\n\u001b[0;32m---> 38\u001b[0;31m             \u001b[0;32mif\u001b[0m \u001b[0mmax\u001b[0m\u001b[0;34m(\u001b[0m\u001b[0mt1f\u001b[0m\u001b[0;34m,\u001b[0m \u001b[0mt2f\u001b[0m\u001b[0;34m)\u001b[0m\u001b[0;34m/\u001b[0m\u001b[0mmin\u001b[0m\u001b[0;34m(\u001b[0m\u001b[0mt1f\u001b[0m\u001b[0;34m,\u001b[0m \u001b[0mt2f\u001b[0m\u001b[0;34m)\u001b[0m \u001b[0;34m<\u001b[0m \u001b[0mself\u001b[0m\u001b[0;34m.\u001b[0m\u001b[0mnumber_fuzz_threshold\u001b[0m\u001b[0;34m:\u001b[0m\u001b[0;34m\u001b[0m\u001b[0m\n\u001b[0m\u001b[1;32m     39\u001b[0m                 \u001b[0;32mreturn\u001b[0m \u001b[0;32mTrue\u001b[0m\u001b[0;34m\u001b[0m\u001b[0m\n\u001b[1;32m     40\u001b[0m \u001b[0;34m\u001b[0m\u001b[0m\n",
      "\u001b[0;31mZeroDivisionError\u001b[0m: float division by zero"
     ]
    }
   ],
   "source": [
    "#DOES NOT WORK\n",
    "fuzzymatcher.fuzzy_left_join(df_left, df_right, left_on = \"Program Title\", right_on = \"title\")"
   ]
  },
  {
   "cell_type": "code",
   "execution_count": null,
   "metadata": {},
   "outputs": [],
   "source": []
  }
 ],
 "metadata": {
  "kernelspec": {
   "display_name": "Python 3",
   "language": "python",
   "name": "python3"
  },
  "language_info": {
   "codemirror_mode": {
    "name": "ipython",
    "version": 3
   },
   "file_extension": ".py",
   "mimetype": "text/x-python",
   "name": "python",
   "nbconvert_exporter": "python",
   "pygments_lexer": "ipython3",
   "version": "3.6.2"
  }
 },
 "nbformat": 4,
 "nbformat_minor": 2
}

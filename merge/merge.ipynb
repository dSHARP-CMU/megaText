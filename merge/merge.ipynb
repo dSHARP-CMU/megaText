{
 "cells": [
  {
   "cell_type": "code",
   "execution_count": 21,
   "metadata": {},
   "outputs": [],
   "source": [
    "import numpy as np\n",
    "import pandas as pd\n",
    "import fuzzymatcher\n",
    "from fuzzywuzzy import fuzz\n",
    "from fuzzywuzzy import process"
   ]
  },
  {
   "cell_type": "code",
   "execution_count": 2,
   "metadata": {},
   "outputs": [
    {
     "name": "stdout",
     "output_type": "stream",
     "text": [
      "<class 'pandas.core.frame.DataFrame'>\n",
      "RangeIndex: 63315 entries, 0 to 63314\n",
      "Data columns (total 12 columns):\n",
      "id                 63315 non-null int64\n",
      "title              63315 non-null object\n",
      "imdb_index         58 non-null object\n",
      "kind_id            63315 non-null int64\n",
      "production_year    63315 non-null int64\n",
      "imdb_id            0 non-null float64\n",
      "phonetic_code      45054 non-null object\n",
      "episode_of_id      55876 non-null float64\n",
      "season_nr          47999 non-null float64\n",
      "episode_nr         47965 non-null float64\n",
      "series_years       3492 non-null object\n",
      "md5sum             63315 non-null object\n",
      "dtypes: float64(4), int64(3), object(5)\n",
      "memory usage: 5.8+ MB\n"
     ]
    }
   ],
   "source": [
    "df = pd.read_csv('title2.csv', encoding = \"ISO-8859-1\")\n",
    "df.info()"
   ]
  },
  {
   "cell_type": "code",
   "execution_count": 3,
   "metadata": {},
   "outputs": [
    {
     "name": "stdout",
     "output_type": "stream",
     "text": [
      "<class 'pandas.core.frame.DataFrame'>\n",
      "Int64Index: 7439 entries, 0 to 63312\n",
      "Data columns (total 12 columns):\n",
      "id                 7439 non-null int64\n",
      "title              7439 non-null object\n",
      "imdb_index         58 non-null object\n",
      "kind_id            7439 non-null int64\n",
      "production_year    7439 non-null int64\n",
      "imdb_id            0 non-null float64\n",
      "phonetic_code      7439 non-null object\n",
      "episode_of_id      0 non-null float64\n",
      "season_nr          0 non-null float64\n",
      "episode_nr         0 non-null float64\n",
      "series_years       3489 non-null object\n",
      "md5sum             7439 non-null object\n",
      "dtypes: float64(4), int64(3), object(5)\n",
      "memory usage: 755.5+ KB\n"
     ]
    }
   ],
   "source": [
    "df_right = df[df.kind_id != 7.0]\n",
    "\n",
    "df_right.info()"
   ]
  },
  {
   "cell_type": "code",
   "execution_count": 4,
   "metadata": {},
   "outputs": [
    {
     "data": {
      "text/html": [
       "<div>\n",
       "<style scoped>\n",
       "    .dataframe tbody tr th:only-of-type {\n",
       "        vertical-align: middle;\n",
       "    }\n",
       "\n",
       "    .dataframe tbody tr th {\n",
       "        vertical-align: top;\n",
       "    }\n",
       "\n",
       "    .dataframe thead th {\n",
       "        text-align: right;\n",
       "    }\n",
       "</style>\n",
       "<table border=\"1\" class=\"dataframe\">\n",
       "  <thead>\n",
       "    <tr style=\"text-align: right;\">\n",
       "      <th></th>\n",
       "      <th>id</th>\n",
       "      <th>kind_id</th>\n",
       "      <th>production_year</th>\n",
       "      <th>imdb_id</th>\n",
       "      <th>episode_of_id</th>\n",
       "      <th>season_nr</th>\n",
       "      <th>episode_nr</th>\n",
       "    </tr>\n",
       "  </thead>\n",
       "  <tbody>\n",
       "    <tr>\n",
       "      <th>count</th>\n",
       "      <td>7.439000e+03</td>\n",
       "      <td>7439.000000</td>\n",
       "      <td>7439.000000</td>\n",
       "      <td>0.0</td>\n",
       "      <td>0.0</td>\n",
       "      <td>0.0</td>\n",
       "      <td>0.0</td>\n",
       "    </tr>\n",
       "    <tr>\n",
       "      <th>mean</th>\n",
       "      <td>2.888508e+06</td>\n",
       "      <td>2.528431</td>\n",
       "      <td>1955.623874</td>\n",
       "      <td>NaN</td>\n",
       "      <td>NaN</td>\n",
       "      <td>NaN</td>\n",
       "      <td>NaN</td>\n",
       "    </tr>\n",
       "    <tr>\n",
       "      <th>std</th>\n",
       "      <td>1.292031e+06</td>\n",
       "      <td>0.499225</td>\n",
       "      <td>2.682129</td>\n",
       "      <td>NaN</td>\n",
       "      <td>NaN</td>\n",
       "      <td>NaN</td>\n",
       "      <td>NaN</td>\n",
       "    </tr>\n",
       "    <tr>\n",
       "      <th>min</th>\n",
       "      <td>2.514000e+03</td>\n",
       "      <td>2.000000</td>\n",
       "      <td>1950.000000</td>\n",
       "      <td>NaN</td>\n",
       "      <td>NaN</td>\n",
       "      <td>NaN</td>\n",
       "      <td>NaN</td>\n",
       "    </tr>\n",
       "    <tr>\n",
       "      <th>25%</th>\n",
       "      <td>1.948836e+06</td>\n",
       "      <td>2.000000</td>\n",
       "      <td>1954.000000</td>\n",
       "      <td>NaN</td>\n",
       "      <td>NaN</td>\n",
       "      <td>NaN</td>\n",
       "      <td>NaN</td>\n",
       "    </tr>\n",
       "    <tr>\n",
       "      <th>50%</th>\n",
       "      <td>3.262456e+06</td>\n",
       "      <td>3.000000</td>\n",
       "      <td>1956.000000</td>\n",
       "      <td>NaN</td>\n",
       "      <td>NaN</td>\n",
       "      <td>NaN</td>\n",
       "      <td>NaN</td>\n",
       "    </tr>\n",
       "    <tr>\n",
       "      <th>75%</th>\n",
       "      <td>3.940870e+06</td>\n",
       "      <td>3.000000</td>\n",
       "      <td>1958.000000</td>\n",
       "      <td>NaN</td>\n",
       "      <td>NaN</td>\n",
       "      <td>NaN</td>\n",
       "      <td>NaN</td>\n",
       "    </tr>\n",
       "    <tr>\n",
       "      <th>max</th>\n",
       "      <td>4.625272e+06</td>\n",
       "      <td>3.000000</td>\n",
       "      <td>1959.000000</td>\n",
       "      <td>NaN</td>\n",
       "      <td>NaN</td>\n",
       "      <td>NaN</td>\n",
       "      <td>NaN</td>\n",
       "    </tr>\n",
       "  </tbody>\n",
       "</table>\n",
       "</div>"
      ],
      "text/plain": [
       "                 id      kind_id  production_year  imdb_id  episode_of_id  \\\n",
       "count  7.439000e+03  7439.000000      7439.000000      0.0            0.0   \n",
       "mean   2.888508e+06     2.528431      1955.623874      NaN            NaN   \n",
       "std    1.292031e+06     0.499225         2.682129      NaN            NaN   \n",
       "min    2.514000e+03     2.000000      1950.000000      NaN            NaN   \n",
       "25%    1.948836e+06     2.000000      1954.000000      NaN            NaN   \n",
       "50%    3.262456e+06     3.000000      1956.000000      NaN            NaN   \n",
       "75%    3.940870e+06     3.000000      1958.000000      NaN            NaN   \n",
       "max    4.625272e+06     3.000000      1959.000000      NaN            NaN   \n",
       "\n",
       "       season_nr  episode_nr  \n",
       "count        0.0         0.0  \n",
       "mean         NaN         NaN  \n",
       "std          NaN         NaN  \n",
       "min          NaN         NaN  \n",
       "25%          NaN         NaN  \n",
       "50%          NaN         NaN  \n",
       "75%          NaN         NaN  \n",
       "max          NaN         NaN  "
      ]
     },
     "execution_count": 4,
     "metadata": {},
     "output_type": "execute_result"
    }
   ],
   "source": [
    "df_right.describe()"
   ]
  },
  {
   "cell_type": "code",
   "execution_count": 5,
   "metadata": {
    "scrolled": true
   },
   "outputs": [
    {
     "name": "stdout",
     "output_type": "stream",
     "text": [
      "<class 'pandas.core.frame.DataFrame'>\n",
      "RangeIndex: 1732 entries, 0 to 1731\n",
      "Data columns (total 12 columns):\n",
      "Number                 1732 non-null int64\n",
      "Program Title          1732 non-null object\n",
      "Program Type           1731 non-null object\n",
      "Program Genre          1731 non-null object\n",
      "Network                1704 non-null object\n",
      "First Air Month        131 non-null float64\n",
      "First Air Day          123 non-null float64\n",
      "First Air Year         1732 non-null int64\n",
      "Last Air Month         2 non-null float64\n",
      "Last Air Day           2 non-null float64\n",
      "Last Air Year          895 non-null object\n",
      "Program Description    1732 non-null object\n",
      "dtypes: float64(4), int64(2), object(6)\n",
      "memory usage: 162.5+ KB\n"
     ]
    }
   ],
   "source": [
    "df_left = pd.read_csv('enc.csv', encoding = \"ISO-8859-1\")\n",
    "df_left.info()"
   ]
  },
  {
   "cell_type": "code",
   "execution_count": 6,
   "metadata": {},
   "outputs": [
    {
     "data": {
      "text/plain": [
       " Variety            387\n",
       " Anthology          274\n",
       " Comedy             225\n",
       " Game               165\n",
       " Adventure          143\n",
       " Crime Drama        123\n",
       " Drama               88\n",
       " Western             85\n",
       " Children            71\n",
       " Serial              33\n",
       " Cartoon             24\n",
       " Interview           19\n",
       " Women               18\n",
       " Human Interest      12\n",
       " Documentary         11\n",
       " Travel               7\n",
       " Mystery              6\n",
       " Discussion           6\n",
       " Science Fiction      4\n",
       " Comedy-Drama         3\n",
       " Advice               2\n",
       " Contest              2\n",
       " ComedyDrama          2\n",
       "Game                  2\n",
       " Music                2\n",
       " Testimonial          1\n",
       " Adventure            1\n",
       " anthology            1\n",
       " Cooking              1\n",
       " Crime Brama          1\n",
       " Variety              1\n",
       " Health               1\n",
       " Game, Anthology      1\n",
       " Musical Drama        1\n",
       " Information          1\n",
       " Tribute              1\n",
       " Children             1\n",
       "Western               1\n",
       " Gomedy               1\n",
       " Vatriety             1\n",
       " 30 min.              1\n",
       " Game                 1\n",
       "Name: Program Genre, dtype: int64"
      ]
     },
     "execution_count": 6,
     "metadata": {},
     "output_type": "execute_result"
    }
   ],
   "source": [
    "df_left[\"Program Genre\"].value_counts()"
   ]
  },
  {
   "cell_type": "code",
   "execution_count": 7,
   "metadata": {},
   "outputs": [],
   "source": [
    "df_right = df_right.astype(str).apply(lambda x: x.str.lower())\n",
    "df_left = df_left.astype(str).apply(lambda x: x.str.lower())"
   ]
  },
  {
   "cell_type": "code",
   "execution_count": 8,
   "metadata": {},
   "outputs": [],
   "source": [
    "df_right.drop(df_right.columns[[2,5,7,8,9]], axis=1, inplace=True)"
   ]
  },
  {
   "cell_type": "code",
   "execution_count": 9,
   "metadata": {},
   "outputs": [
    {
     "data": {
      "text/html": [
       "<div>\n",
       "<style scoped>\n",
       "    .dataframe tbody tr th:only-of-type {\n",
       "        vertical-align: middle;\n",
       "    }\n",
       "\n",
       "    .dataframe tbody tr th {\n",
       "        vertical-align: top;\n",
       "    }\n",
       "\n",
       "    .dataframe thead th {\n",
       "        text-align: right;\n",
       "    }\n",
       "</style>\n",
       "<table border=\"1\" class=\"dataframe\">\n",
       "  <thead>\n",
       "    <tr style=\"text-align: right;\">\n",
       "      <th></th>\n",
       "      <th>id</th>\n",
       "      <th>title</th>\n",
       "      <th>kind_id</th>\n",
       "      <th>production_year</th>\n",
       "      <th>phonetic_code</th>\n",
       "      <th>series_years</th>\n",
       "      <th>md5sum</th>\n",
       "    </tr>\n",
       "  </thead>\n",
       "  <tbody>\n",
       "    <tr>\n",
       "      <th>0</th>\n",
       "      <td>2514</td>\n",
       "      <td>... kurze pause</td>\n",
       "      <td>2</td>\n",
       "      <td>1955</td>\n",
       "      <td>k6212</td>\n",
       "      <td>1955-1956</td>\n",
       "      <td>5d2e160977a1f9ecdb8683b9647fa054</td>\n",
       "    </tr>\n",
       "    <tr>\n",
       "      <th>1</th>\n",
       "      <td>4170</td>\n",
       "      <td>10 hobby-minutter</td>\n",
       "      <td>2</td>\n",
       "      <td>1952</td>\n",
       "      <td>h1536</td>\n",
       "      <td>1952-1953</td>\n",
       "      <td>dad9e300b25f72bee9bd8ba5cd47304c</td>\n",
       "    </tr>\n",
       "    <tr>\n",
       "      <th>2</th>\n",
       "      <td>5848</td>\n",
       "      <td>100.000 of niets</td>\n",
       "      <td>2</td>\n",
       "      <td>1956</td>\n",
       "      <td>o1532</td>\n",
       "      <td>1956-????</td>\n",
       "      <td>7e4664da716988a7308c8115247feb6d</td>\n",
       "    </tr>\n",
       "    <tr>\n",
       "      <th>4</th>\n",
       "      <td>8305</td>\n",
       "      <td>13 demon street</td>\n",
       "      <td>2</td>\n",
       "      <td>1959</td>\n",
       "      <td>d5236</td>\n",
       "      <td>1959-1960</td>\n",
       "      <td>ee82069dbe196c4a272ce7ef7b1877b5</td>\n",
       "    </tr>\n",
       "    <tr>\n",
       "      <th>18</th>\n",
       "      <td>9296</td>\n",
       "      <td>13th hour</td>\n",
       "      <td>2</td>\n",
       "      <td>1958</td>\n",
       "      <td>t6</td>\n",
       "      <td>1958-1959</td>\n",
       "      <td>cf74d0ba98aab9b3650ae76cf82d69ac</td>\n",
       "    </tr>\n",
       "  </tbody>\n",
       "</table>\n",
       "</div>"
      ],
      "text/plain": [
       "      id              title kind_id production_year phonetic_code  \\\n",
       "0   2514    ... kurze pause       2            1955         k6212   \n",
       "1   4170  10 hobby-minutter       2            1952         h1536   \n",
       "2   5848   100.000 of niets       2            1956         o1532   \n",
       "4   8305    13 demon street       2            1959         d5236   \n",
       "18  9296          13th hour       2            1958            t6   \n",
       "\n",
       "   series_years                            md5sum  \n",
       "0     1955-1956  5d2e160977a1f9ecdb8683b9647fa054  \n",
       "1     1952-1953  dad9e300b25f72bee9bd8ba5cd47304c  \n",
       "2     1956-????  7e4664da716988a7308c8115247feb6d  \n",
       "4     1959-1960  ee82069dbe196c4a272ce7ef7b1877b5  \n",
       "18    1958-1959  cf74d0ba98aab9b3650ae76cf82d69ac  "
      ]
     },
     "execution_count": 9,
     "metadata": {},
     "output_type": "execute_result"
    }
   ],
   "source": [
    "df_right.head()"
   ]
  },
  {
   "cell_type": "code",
   "execution_count": 10,
   "metadata": {},
   "outputs": [],
   "source": [
    "df_left.drop(df_left.head().columns[[5,6,8,9]], axis=1, inplace=True)"
   ]
  },
  {
   "cell_type": "code",
   "execution_count": 11,
   "metadata": {},
   "outputs": [
    {
     "data": {
      "text/html": [
       "<div>\n",
       "<style scoped>\n",
       "    .dataframe tbody tr th:only-of-type {\n",
       "        vertical-align: middle;\n",
       "    }\n",
       "\n",
       "    .dataframe tbody tr th {\n",
       "        vertical-align: top;\n",
       "    }\n",
       "\n",
       "    .dataframe thead th {\n",
       "        text-align: right;\n",
       "    }\n",
       "</style>\n",
       "<table border=\"1\" class=\"dataframe\">\n",
       "  <thead>\n",
       "    <tr style=\"text-align: right;\">\n",
       "      <th></th>\n",
       "      <th>Number</th>\n",
       "      <th>Program Title</th>\n",
       "      <th>Program Type</th>\n",
       "      <th>Program Genre</th>\n",
       "      <th>Network</th>\n",
       "      <th>First Air Year</th>\n",
       "      <th>Last Air Year</th>\n",
       "      <th>Program Description</th>\n",
       "    </tr>\n",
       "  </thead>\n",
       "  <tbody>\n",
       "    <tr>\n",
       "      <th>0</th>\n",
       "      <td>5137</td>\n",
       "      <td>mary kay and johnny.</td>\n",
       "      <td>series</td>\n",
       "      <td>comedy</td>\n",
       "      <td>dumont, nbc, cbs</td>\n",
       "      <td>1947</td>\n",
       "      <td>1950</td>\n",
       "      <td>the marital misadventures of mary kay and joh...</td>\n",
       "    </tr>\n",
       "    <tr>\n",
       "      <th>1</th>\n",
       "      <td>7531</td>\n",
       "      <td>the small fry club.</td>\n",
       "      <td>series</td>\n",
       "      <td>children</td>\n",
       "      <td>dumont</td>\n",
       "      <td>1947</td>\n",
       "      <td>1951</td>\n",
       "      <td>bob emery hosts a program of stories, game co...</td>\n",
       "    </tr>\n",
       "    <tr>\n",
       "      <th>2</th>\n",
       "      <td>1738</td>\n",
       "      <td>crawford mystery theater.</td>\n",
       "      <td>series</td>\n",
       "      <td>game</td>\n",
       "      <td>dumont</td>\n",
       "      <td>1947</td>\n",
       "      <td>1952</td>\n",
       "      <td>the alternate title for public prosecutor (wh...</td>\n",
       "    </tr>\n",
       "    <tr>\n",
       "      <th>3</th>\n",
       "      <td>6636</td>\n",
       "      <td>public prosecutor.</td>\n",
       "      <td>series</td>\n",
       "      <td>mystery</td>\n",
       "      <td>syn., dumont</td>\n",
       "      <td>1947</td>\n",
       "      <td>1952</td>\n",
       "      <td>the syndicated version of the series (1947-48...</td>\n",
       "    </tr>\n",
       "    <tr>\n",
       "      <th>4</th>\n",
       "      <td>4323</td>\n",
       "      <td>juvenile jury.</td>\n",
       "      <td>series</td>\n",
       "      <td>children</td>\n",
       "      <td>nbc, cbs</td>\n",
       "      <td>1947</td>\n",
       "      <td>1955</td>\n",
       "      <td>the program features a panel of five children...</td>\n",
       "    </tr>\n",
       "  </tbody>\n",
       "</table>\n",
       "</div>"
      ],
      "text/plain": [
       "  Number                Program Title Program Type Program Genre  \\\n",
       "0   5137        mary kay and johnny.        series        comedy   \n",
       "1   7531         the small fry club.        series      children   \n",
       "2   1738   crawford mystery theater.        series          game   \n",
       "3   6636          public prosecutor.        series       mystery   \n",
       "4   4323              juvenile jury.        series      children   \n",
       "\n",
       "             Network First Air Year Last Air Year  \\\n",
       "0   dumont, nbc, cbs           1947          1950   \n",
       "1             dumont           1947          1951   \n",
       "2             dumont           1947          1952   \n",
       "3       syn., dumont           1947          1952   \n",
       "4           nbc, cbs           1947          1955   \n",
       "\n",
       "                                 Program Description  \n",
       "0   the marital misadventures of mary kay and joh...  \n",
       "1   bob emery hosts a program of stories, game co...  \n",
       "2   the alternate title for public prosecutor (wh...  \n",
       "3   the syndicated version of the series (1947-48...  \n",
       "4   the program features a panel of five children...  "
      ]
     },
     "execution_count": 11,
     "metadata": {},
     "output_type": "execute_result"
    }
   ],
   "source": [
    "df_left.head()"
   ]
  },
  {
   "cell_type": "code",
   "execution_count": 12,
   "metadata": {},
   "outputs": [
    {
     "data": {
      "text/plain": [
       "0       ... kurze pause\n",
       "1     10 hobby-minutter\n",
       "2      100.000 of niets\n",
       "4       13 demon street\n",
       "18            13th hour\n",
       "Name: title, dtype: object"
      ]
     },
     "execution_count": 12,
     "metadata": {},
     "output_type": "execute_result"
    }
   ],
   "source": [
    "df_right[\"title\"].head()"
   ]
  },
  {
   "cell_type": "code",
   "execution_count": 13,
   "metadata": {},
   "outputs": [
    {
     "data": {
      "text/plain": [
       "0          mary kay and johnny. \n",
       "1           the small fry club. \n",
       "2     crawford mystery theater. \n",
       "3            public prosecutor. \n",
       "4                juvenile jury. \n",
       "Name: Program Title, dtype: object"
      ]
     },
     "execution_count": 13,
     "metadata": {},
     "output_type": "execute_result"
    }
   ],
   "source": [
    "df_left[\"Program Title\"].head()"
   ]
  },
  {
   "cell_type": "code",
   "execution_count": 19,
   "metadata": {},
   "outputs": [],
   "source": [
    "matches = (process.extract(x, df_left, limit=1) for x in df_right)"
   ]
  },
  {
   "cell_type": "code",
   "execution_count": 22,
   "metadata": {},
   "outputs": [
    {
     "name": "stdout",
     "output_type": "stream",
     "text": [
      "<generator object <genexpr> at 0x109d66938>\n"
     ]
    }
   ],
   "source": [
    "print(matches)"
   ]
  },
  {
   "cell_type": "code",
   "execution_count": 130,
   "metadata": {
    "scrolled": true
   },
   "outputs": [
    {
     "ename": "ZeroDivisionError",
     "evalue": "float division by zero",
     "output_type": "error",
     "traceback": [
      "\u001b[0;31m---------------------------------------------------------------------------\u001b[0m",
      "\u001b[0;31mZeroDivisionError\u001b[0m                         Traceback (most recent call last)",
      "\u001b[0;32m<ipython-input-130-797943236816>\u001b[0m in \u001b[0;36m<module>\u001b[0;34m()\u001b[0m\n\u001b[0;32m----> 1\u001b[0;31m \u001b[0mfuzzymatcher\u001b[0m\u001b[0;34m.\u001b[0m\u001b[0mfuzzy_left_join\u001b[0m\u001b[0;34m(\u001b[0m\u001b[0mdf_left\u001b[0m\u001b[0;34m,\u001b[0m \u001b[0mdf_right\u001b[0m\u001b[0;34m,\u001b[0m \u001b[0mleft_on\u001b[0m \u001b[0;34m=\u001b[0m \u001b[0;34m\"Program Title\"\u001b[0m\u001b[0;34m,\u001b[0m \u001b[0mright_on\u001b[0m \u001b[0;34m=\u001b[0m \u001b[0;34m\"title\"\u001b[0m\u001b[0;34m)\u001b[0m\u001b[0;34m\u001b[0m\u001b[0m\n\u001b[0m",
      "\u001b[0;32m/usr/local/lib/python3.6/site-packages/fuzzymatcher/__init__.py\u001b[0m in \u001b[0;36mfuzzy_left_join\u001b[0;34m(df_left, df_right, left_on, right_on, left_id_col, right_id_col)\u001b[0m\n\u001b[1;32m     39\u001b[0m     \u001b[0mm\u001b[0m \u001b[0;34m=\u001b[0m \u001b[0mMatcher\u001b[0m\u001b[0;34m(\u001b[0m\u001b[0mdp\u001b[0m\u001b[0;34m,\u001b[0m \u001b[0mdg\u001b[0m\u001b[0;34m,\u001b[0m \u001b[0ms\u001b[0m\u001b[0;34m)\u001b[0m\u001b[0;34m\u001b[0m\u001b[0m\n\u001b[1;32m     40\u001b[0m     \u001b[0mm\u001b[0m\u001b[0;34m.\u001b[0m\u001b[0madd_data\u001b[0m\u001b[0;34m(\u001b[0m\u001b[0mdf_left\u001b[0m\u001b[0;34m,\u001b[0m \u001b[0mdf_right\u001b[0m\u001b[0;34m,\u001b[0m \u001b[0mleft_on\u001b[0m\u001b[0;34m,\u001b[0m \u001b[0mright_on\u001b[0m\u001b[0;34m,\u001b[0m  \u001b[0mleft_id_col\u001b[0m\u001b[0;34m,\u001b[0m \u001b[0mright_id_col\u001b[0m\u001b[0;34m)\u001b[0m\u001b[0;34m\u001b[0m\u001b[0m\n\u001b[0;32m---> 41\u001b[0;31m     \u001b[0mm\u001b[0m\u001b[0;34m.\u001b[0m\u001b[0mmatch_all\u001b[0m\u001b[0;34m(\u001b[0m\u001b[0;34m)\u001b[0m\u001b[0;34m\u001b[0m\u001b[0m\n\u001b[0m\u001b[1;32m     42\u001b[0m \u001b[0;34m\u001b[0m\u001b[0m\n\u001b[1;32m     43\u001b[0m     \u001b[0;32mreturn\u001b[0m \u001b[0mm\u001b[0m\u001b[0;34m.\u001b[0m\u001b[0mget_left_join_table\u001b[0m\u001b[0;34m(\u001b[0m\u001b[0;34m)\u001b[0m\u001b[0;34m\u001b[0m\u001b[0m\n",
      "\u001b[0;32m/usr/local/lib/python3.6/site-packages/fuzzymatcher/matcher.py\u001b[0m in \u001b[0;36mmatch_all\u001b[0;34m(self)\u001b[0m\n\u001b[1;32m     90\u001b[0m \u001b[0;34m\u001b[0m\u001b[0m\n\u001b[1;32m     91\u001b[0m         \u001b[0;31m# Get a table that contains only the matches, scores and ids\u001b[0m\u001b[0;34m\u001b[0m\u001b[0;34m\u001b[0m\u001b[0m\n\u001b[0;32m---> 92\u001b[0;31m         \u001b[0mself\u001b[0m\u001b[0;34m.\u001b[0m\u001b[0mlink_table\u001b[0m \u001b[0;34m=\u001b[0m \u001b[0mself\u001b[0m\u001b[0;34m.\u001b[0m\u001b[0m_match_processed_data\u001b[0m\u001b[0;34m(\u001b[0m\u001b[0;34m)\u001b[0m\u001b[0;34m\u001b[0m\u001b[0m\n\u001b[0m\u001b[1;32m     93\u001b[0m \u001b[0;34m\u001b[0m\u001b[0m\n\u001b[1;32m     94\u001b[0m     \u001b[0;32mdef\u001b[0m \u001b[0mget_formatted_link_table\u001b[0m\u001b[0;34m(\u001b[0m\u001b[0mself\u001b[0m\u001b[0;34m)\u001b[0m\u001b[0;34m:\u001b[0m\u001b[0;34m\u001b[0m\u001b[0m\n",
      "\u001b[0;32m/usr/local/lib/python3.6/site-packages/fuzzymatcher/matcher.py\u001b[0m in \u001b[0;36m_match_processed_data\u001b[0;34m(self)\u001b[0m\n\u001b[1;32m    134\u001b[0m                 \u001b[0mlog\u001b[0m\u001b[0;34m.\u001b[0m\u001b[0mdebug\u001b[0m\u001b[0;34m(\u001b[0m\u001b[0mstr_template\u001b[0m\u001b[0;34m.\u001b[0m\u001b[0mformat\u001b[0m\u001b[0;34m(\u001b[0m\u001b[0mcounter\u001b[0m\u001b[0;34m,\u001b[0m \u001b[0;34m(\u001b[0m\u001b[0mcounter\u001b[0m\u001b[0;34m/\u001b[0m\u001b[0mtotal\u001b[0m\u001b[0;34m)\u001b[0m\u001b[0;34m*\u001b[0m\u001b[0;36m100\u001b[0m\u001b[0;34m,\u001b[0m \u001b[0mdiff\u001b[0m\u001b[0;34m.\u001b[0m\u001b[0mminutes\u001b[0m\u001b[0;34m,\u001b[0m \u001b[0mdiff\u001b[0m\u001b[0;34m.\u001b[0m\u001b[0mseconds\u001b[0m\u001b[0;34m)\u001b[0m\u001b[0;34m)\u001b[0m\u001b[0;34m\u001b[0m\u001b[0m\n\u001b[1;32m    135\u001b[0m \u001b[0;34m\u001b[0m\u001b[0m\n\u001b[0;32m--> 136\u001b[0;31m             \u001b[0mthis_record\u001b[0m\u001b[0;34m.\u001b[0m\u001b[0mfind_and_score_potential_matches\u001b[0m\u001b[0;34m(\u001b[0m\u001b[0;34m)\u001b[0m\u001b[0;34m\u001b[0m\u001b[0m\n\u001b[0m\u001b[1;32m    137\u001b[0m             \u001b[0mlink_table_list\u001b[0m\u001b[0;34m.\u001b[0m\u001b[0mextend\u001b[0m\u001b[0;34m(\u001b[0m\u001b[0mthis_record\u001b[0m\u001b[0;34m.\u001b[0m\u001b[0mget_link_table_rows\u001b[0m\u001b[0;34m(\u001b[0m\u001b[0;34m)\u001b[0m\u001b[0;34m)\u001b[0m\u001b[0;34m\u001b[0m\u001b[0m\n\u001b[1;32m    138\u001b[0m \u001b[0;34m\u001b[0m\u001b[0m\n",
      "\u001b[0;32m/usr/local/lib/python3.6/site-packages/fuzzymatcher/record.py\u001b[0m in \u001b[0;36mfind_and_score_potential_matches\u001b[0;34m(self)\u001b[0m\n\u001b[1;32m     66\u001b[0m     \u001b[0;32mdef\u001b[0m \u001b[0mfind_and_score_potential_matches\u001b[0m\u001b[0;34m(\u001b[0m\u001b[0mself\u001b[0m\u001b[0;34m)\u001b[0m\u001b[0;34m:\u001b[0m\u001b[0;34m\u001b[0m\u001b[0m\n\u001b[1;32m     67\u001b[0m         \u001b[0;31m# Each left_record has a list of left_record ids\u001b[0m\u001b[0;34m\u001b[0m\u001b[0;34m\u001b[0m\u001b[0m\n\u001b[0;32m---> 68\u001b[0;31m         \u001b[0mself\u001b[0m\u001b[0;34m.\u001b[0m\u001b[0mmatcher\u001b[0m\u001b[0;34m.\u001b[0m\u001b[0mdata_getter\u001b[0m\u001b[0;34m.\u001b[0m\u001b[0mget_potential_match_ids_from_record\u001b[0m\u001b[0;34m(\u001b[0m\u001b[0mself\u001b[0m\u001b[0;34m)\u001b[0m\u001b[0;34m\u001b[0m\u001b[0m\n\u001b[0m\u001b[1;32m     69\u001b[0m \u001b[0;34m\u001b[0m\u001b[0m\n\u001b[1;32m     70\u001b[0m     \u001b[0;32mdef\u001b[0m \u001b[0mget_link_table_rows\u001b[0m\u001b[0;34m(\u001b[0m\u001b[0mself\u001b[0m\u001b[0;34m)\u001b[0m\u001b[0;34m:\u001b[0m\u001b[0;34m\u001b[0m\u001b[0m\n",
      "\u001b[0;32m/usr/local/lib/python3.6/site-packages/fuzzymatcher/data_getter_sqlite.py\u001b[0m in \u001b[0;36mget_potential_match_ids_from_record\u001b[0;34m(self, rec_left)\u001b[0m\n\u001b[1;32m     91\u001b[0m \u001b[0;34m\u001b[0m\u001b[0m\n\u001b[1;32m     92\u001b[0m         \u001b[0;32mfor\u001b[0m \u001b[0mtoken_list\u001b[0m \u001b[0;32min\u001b[0m \u001b[0mtoken_lists\u001b[0m\u001b[0;34m:\u001b[0m\u001b[0;34m\u001b[0m\u001b[0m\n\u001b[0;32m---> 93\u001b[0;31m             \u001b[0mself\u001b[0m\u001b[0;34m.\u001b[0m\u001b[0m_search_specific_to_general_single\u001b[0m\u001b[0;34m(\u001b[0m\u001b[0mtoken_list\u001b[0m\u001b[0;34m,\u001b[0m \u001b[0mrec_left\u001b[0m\u001b[0;34m)\u001b[0m\u001b[0;34m\u001b[0m\u001b[0m\n\u001b[0m\u001b[1;32m     94\u001b[0m             \u001b[0;32mif\u001b[0m \u001b[0;32mnot\u001b[0m \u001b[0mself\u001b[0m\u001b[0;34m.\u001b[0m\u001b[0m_found_enough_matches\u001b[0m\u001b[0;34m(\u001b[0m\u001b[0mrec_left\u001b[0m\u001b[0;34m)\u001b[0m\u001b[0;34m:\u001b[0m\u001b[0;34m\u001b[0m\u001b[0m\n\u001b[1;32m     95\u001b[0m                 \u001b[0mself\u001b[0m\u001b[0;34m.\u001b[0m\u001b[0m_search_specific_to_general_band\u001b[0m\u001b[0;34m(\u001b[0m\u001b[0mtoken_list\u001b[0m\u001b[0;34m,\u001b[0m \u001b[0mrec_left\u001b[0m\u001b[0;34m)\u001b[0m\u001b[0;34m\u001b[0m\u001b[0m\n",
      "\u001b[0;32m/usr/local/lib/python3.6/site-packages/fuzzymatcher/data_getter_sqlite.py\u001b[0m in \u001b[0;36m_search_specific_to_general_single\u001b[0;34m(self, token_list, rec_left)\u001b[0m\n\u001b[1;32m    117\u001b[0m             \u001b[0mnew_matches\u001b[0m \u001b[0;34m=\u001b[0m \u001b[0mself\u001b[0m\u001b[0;34m.\u001b[0m\u001b[0m_tokens_to_matches\u001b[0m\u001b[0;34m(\u001b[0m\u001b[0mtuple\u001b[0m\u001b[0;34m(\u001b[0m\u001b[0msub_tokens\u001b[0m\u001b[0;34m)\u001b[0m\u001b[0;34m)\u001b[0m\u001b[0;34m\u001b[0m\u001b[0m\n\u001b[1;32m    118\u001b[0m \u001b[0;34m\u001b[0m\u001b[0m\n\u001b[0;32m--> 119\u001b[0;31m             \u001b[0mself\u001b[0m\u001b[0;34m.\u001b[0m\u001b[0m_add_matches_to_potential_matches\u001b[0m\u001b[0;34m(\u001b[0m\u001b[0mnew_matches\u001b[0m\u001b[0;34m,\u001b[0m \u001b[0mrec_left\u001b[0m\u001b[0;34m)\u001b[0m\u001b[0;34m\u001b[0m\u001b[0m\n\u001b[0m\u001b[1;32m    120\u001b[0m             \u001b[0;32mif\u001b[0m \u001b[0mself\u001b[0m\u001b[0;34m.\u001b[0m\u001b[0m_found_enough_matches\u001b[0m\u001b[0;34m(\u001b[0m\u001b[0mrec_left\u001b[0m\u001b[0;34m)\u001b[0m\u001b[0;34m:\u001b[0m\u001b[0;34m\u001b[0m\u001b[0m\n\u001b[1;32m    121\u001b[0m                 \u001b[0;32mreturn\u001b[0m\u001b[0;34m\u001b[0m\u001b[0m\n",
      "\u001b[0;32m/usr/local/lib/python3.6/site-packages/fuzzymatcher/data_getter_sqlite.py\u001b[0m in \u001b[0;36m_add_matches_to_potential_matches\u001b[0;34m(self, matches, rec_left)\u001b[0m\n\u001b[1;32m    165\u001b[0m             \u001b[0mright_id\u001b[0m \u001b[0;34m=\u001b[0m \u001b[0mmatch\u001b[0m\u001b[0;34m[\u001b[0m\u001b[0;36m0\u001b[0m\u001b[0;34m]\u001b[0m\u001b[0;34m\u001b[0m\u001b[0m\n\u001b[1;32m    166\u001b[0m             \u001b[0;32mif\u001b[0m \u001b[0mright_id\u001b[0m \u001b[0;32mnot\u001b[0m \u001b[0;32min\u001b[0m \u001b[0mrec_left\u001b[0m\u001b[0;34m.\u001b[0m\u001b[0mpotential_matches\u001b[0m\u001b[0;34m:\u001b[0m\u001b[0;34m\u001b[0m\u001b[0m\n\u001b[0;32m--> 167\u001b[0;31m                 \u001b[0mscored_potential_match\u001b[0m \u001b[0;34m=\u001b[0m \u001b[0mself\u001b[0m\u001b[0;34m.\u001b[0m\u001b[0mmatcher\u001b[0m\u001b[0;34m.\u001b[0m\u001b[0mscorer\u001b[0m\u001b[0;34m.\u001b[0m\u001b[0mscore_match\u001b[0m\u001b[0;34m(\u001b[0m\u001b[0mrec_left\u001b[0m\u001b[0;34m.\u001b[0m\u001b[0mrecord_id\u001b[0m\u001b[0;34m,\u001b[0m \u001b[0mright_id\u001b[0m\u001b[0;34m)\u001b[0m\u001b[0;34m\u001b[0m\u001b[0m\n\u001b[0m\u001b[1;32m    168\u001b[0m                 \u001b[0mrec_left\u001b[0m\u001b[0;34m.\u001b[0m\u001b[0mpotential_matches\u001b[0m\u001b[0;34m[\u001b[0m\u001b[0mright_id\u001b[0m\u001b[0;34m]\u001b[0m \u001b[0;34m=\u001b[0m \u001b[0mscored_potential_match\u001b[0m\u001b[0;34m\u001b[0m\u001b[0m\n\u001b[1;32m    169\u001b[0m                 \u001b[0;32mif\u001b[0m \u001b[0mrec_left\u001b[0m\u001b[0;34m.\u001b[0m\u001b[0mbest_match_score\u001b[0m \u001b[0;34m<\u001b[0m \u001b[0mscored_potential_match\u001b[0m\u001b[0;34m[\u001b[0m\u001b[0;34m\"match_score\"\u001b[0m\u001b[0;34m]\u001b[0m\u001b[0;34m:\u001b[0m\u001b[0;34m\u001b[0m\u001b[0m\n",
      "\u001b[0;32m/usr/local/lib/python3.6/site-packages/fuzzymatcher/scorer_default.py\u001b[0m in \u001b[0;36mscore_match\u001b[0;34m(self, record_left_id, record_right_id)\u001b[0m\n\u001b[1;32m     55\u001b[0m         \u001b[0mprob\u001b[0m \u001b[0;34m=\u001b[0m \u001b[0;36m1\u001b[0m\u001b[0;34m\u001b[0m\u001b[0m\n\u001b[1;32m     56\u001b[0m         \u001b[0;32mfor\u001b[0m \u001b[0mf_left\u001b[0m \u001b[0;32min\u001b[0m \u001b[0mfields_left\u001b[0m\u001b[0;34m:\u001b[0m\u001b[0;34m\u001b[0m\u001b[0m\n\u001b[0;32m---> 57\u001b[0;31m             \u001b[0mp\u001b[0m \u001b[0;34m=\u001b[0m \u001b[0mself\u001b[0m\u001b[0;34m.\u001b[0m\u001b[0m_field_to_prob\u001b[0m\u001b[0;34m(\u001b[0m\u001b[0mf_left\u001b[0m\u001b[0;34m,\u001b[0m \u001b[0mrecord_left\u001b[0m\u001b[0;34m,\u001b[0m \u001b[0mrecord_right\u001b[0m\u001b[0;34m)\u001b[0m\u001b[0;34m\u001b[0m\u001b[0m\n\u001b[0m\u001b[1;32m     58\u001b[0m             \u001b[0mprob\u001b[0m \u001b[0;34m=\u001b[0m \u001b[0mp\u001b[0m \u001b[0;34m*\u001b[0m \u001b[0mprob\u001b[0m\u001b[0;34m\u001b[0m\u001b[0m\n\u001b[1;32m     59\u001b[0m \u001b[0;34m\u001b[0m\u001b[0m\n",
      "\u001b[0;32m/usr/local/lib/python3.6/site-packages/fuzzymatcher/scorer_default.py\u001b[0m in \u001b[0;36m_field_to_prob\u001b[0;34m(self, field_left, record_left, record_right)\u001b[0m\n\u001b[1;32m     76\u001b[0m \u001b[0;34m\u001b[0m\u001b[0m\n\u001b[1;32m     77\u001b[0m         \u001b[0mprob_unmatching1\u001b[0m \u001b[0;34m=\u001b[0m \u001b[0mself\u001b[0m\u001b[0;34m.\u001b[0m\u001b[0m_get_prob_unmatching\u001b[0m\u001b[0;34m(\u001b[0m\u001b[0munmatching_tokens_left\u001b[0m\u001b[0;34m,\u001b[0m \u001b[0mtokens_right\u001b[0m\u001b[0;34m,\u001b[0m \u001b[0mfield_right\u001b[0m\u001b[0;34m,\u001b[0m \u001b[0mfield_left\u001b[0m\u001b[0;34m)\u001b[0m\u001b[0;34m\u001b[0m\u001b[0m\n\u001b[0;32m---> 78\u001b[0;31m         \u001b[0mprob_unmatching2\u001b[0m \u001b[0;34m=\u001b[0m \u001b[0mself\u001b[0m\u001b[0;34m.\u001b[0m\u001b[0m_get_prob_unmatching\u001b[0m\u001b[0;34m(\u001b[0m\u001b[0munmatching_tokens_right\u001b[0m\u001b[0;34m,\u001b[0m \u001b[0mtokens_left\u001b[0m\u001b[0;34m,\u001b[0m \u001b[0mfield_right\u001b[0m\u001b[0;34m,\u001b[0m \u001b[0mfield_left\u001b[0m\u001b[0;34m)\u001b[0m\u001b[0;34m\u001b[0m\u001b[0m\n\u001b[0m\u001b[1;32m     79\u001b[0m \u001b[0;34m\u001b[0m\u001b[0m\n\u001b[1;32m     80\u001b[0m         \u001b[0mtokens_alt_left\u001b[0m \u001b[0;34m=\u001b[0m \u001b[0mset\u001b[0m\u001b[0;34m(\u001b[0m\u001b[0mrecord_left\u001b[0m\u001b[0;34m.\u001b[0m\u001b[0mtoken_misspelling_dict\u001b[0m\u001b[0;34m[\u001b[0m\u001b[0mfield_left\u001b[0m\u001b[0;34m]\u001b[0m\u001b[0;34m)\u001b[0m\u001b[0;34m\u001b[0m\u001b[0m\n",
      "\u001b[0;32m/usr/local/lib/python3.6/site-packages/fuzzymatcher/scorer_default.py\u001b[0m in \u001b[0;36m_get_prob_unmatching\u001b[0;34m(self, unmatching_tokens, record_tokens, field_right, field_left)\u001b[0m\n\u001b[1;32m     98\u001b[0m         \u001b[0mprob\u001b[0m \u001b[0;34m=\u001b[0m \u001b[0;36m1\u001b[0m\u001b[0;34m\u001b[0m\u001b[0m\n\u001b[1;32m     99\u001b[0m         \u001b[0;32mfor\u001b[0m \u001b[0mumt\u001b[0m \u001b[0;32min\u001b[0m \u001b[0munmatching_tokens\u001b[0m\u001b[0;34m:\u001b[0m\u001b[0;34m\u001b[0m\u001b[0m\n\u001b[0;32m--> 100\u001b[0;31m             \u001b[0;32mif\u001b[0m \u001b[0;32mnot\u001b[0m \u001b[0mself\u001b[0m\u001b[0;34m.\u001b[0m\u001b[0m_is_misspelling_of_one\u001b[0m\u001b[0;34m(\u001b[0m\u001b[0mumt\u001b[0m\u001b[0;34m,\u001b[0m \u001b[0mrecord_tokens\u001b[0m\u001b[0;34m)\u001b[0m\u001b[0;34m:\u001b[0m\u001b[0;34m\u001b[0m\u001b[0m\n\u001b[0m\u001b[1;32m    101\u001b[0m                 \u001b[0mp\u001b[0m \u001b[0;34m=\u001b[0m \u001b[0mself\u001b[0m\u001b[0;34m.\u001b[0m\u001b[0mget_prob\u001b[0m\u001b[0;34m(\u001b[0m\u001b[0mumt\u001b[0m\u001b[0;34m,\u001b[0m\u001b[0mfield_right\u001b[0m\u001b[0;34m,\u001b[0m\u001b[0;34m\"right\"\u001b[0m\u001b[0;34m)\u001b[0m\u001b[0;34m\u001b[0m\u001b[0m\n\u001b[1;32m    102\u001b[0m                 \u001b[0;32mif\u001b[0m \u001b[0mp\u001b[0m \u001b[0;32mis\u001b[0m \u001b[0;32mNone\u001b[0m\u001b[0;34m:\u001b[0m \u001b[0;31m# If this token never appears on the right, how often does it appear on the left\u001b[0m\u001b[0;34m\u001b[0m\u001b[0m\n",
      "\u001b[0;32m/usr/local/lib/python3.6/site-packages/fuzzymatcher/scorer_default.py\u001b[0m in \u001b[0;36m_is_misspelling_of_one\u001b[0;34m(self, token, token_list)\u001b[0m\n\u001b[1;32m    109\u001b[0m     \u001b[0;32mdef\u001b[0m \u001b[0m_is_misspelling_of_one\u001b[0m\u001b[0;34m(\u001b[0m\u001b[0mself\u001b[0m\u001b[0;34m,\u001b[0m \u001b[0mtoken\u001b[0m\u001b[0;34m,\u001b[0m \u001b[0mtoken_list\u001b[0m\u001b[0;34m)\u001b[0m\u001b[0;34m:\u001b[0m\u001b[0;34m\u001b[0m\u001b[0m\n\u001b[1;32m    110\u001b[0m         \u001b[0;32mfor\u001b[0m \u001b[0mt\u001b[0m \u001b[0;32min\u001b[0m \u001b[0mtoken_list\u001b[0m\u001b[0;34m:\u001b[0m\u001b[0;34m\u001b[0m\u001b[0m\n\u001b[0;32m--> 111\u001b[0;31m             \u001b[0;32mif\u001b[0m \u001b[0mself\u001b[0m\u001b[0;34m.\u001b[0m\u001b[0mmatcher\u001b[0m\u001b[0;34m.\u001b[0m\u001b[0mtoken_comparison\u001b[0m\u001b[0;34m.\u001b[0m\u001b[0mis_mispelling\u001b[0m\u001b[0;34m(\u001b[0m\u001b[0mtoken\u001b[0m\u001b[0;34m,\u001b[0m \u001b[0mt\u001b[0m\u001b[0;34m)\u001b[0m\u001b[0;34m:\u001b[0m\u001b[0;34m\u001b[0m\u001b[0m\n\u001b[0m\u001b[1;32m    112\u001b[0m                 \u001b[0;32mreturn\u001b[0m \u001b[0;32mTrue\u001b[0m\u001b[0;34m\u001b[0m\u001b[0m\n\u001b[1;32m    113\u001b[0m         \u001b[0;32mreturn\u001b[0m \u001b[0;32mFalse\u001b[0m\u001b[0;34m\u001b[0m\u001b[0m\n",
      "\u001b[0;32m/usr/local/lib/python3.6/site-packages/fuzzymatcher/tokencomparison.py\u001b[0m in \u001b[0;36mis_mispelling\u001b[0;34m(self, token1, token2)\u001b[0m\n\u001b[1;32m     36\u001b[0m             \u001b[0mt1f\u001b[0m \u001b[0;34m=\u001b[0m \u001b[0mfloat\u001b[0m\u001b[0;34m(\u001b[0m\u001b[0mtoken1\u001b[0m\u001b[0;34m)\u001b[0m\u001b[0;34m\u001b[0m\u001b[0m\n\u001b[1;32m     37\u001b[0m             \u001b[0mt2f\u001b[0m \u001b[0;34m=\u001b[0m \u001b[0mfloat\u001b[0m\u001b[0;34m(\u001b[0m\u001b[0mtoken2\u001b[0m\u001b[0;34m)\u001b[0m\u001b[0;34m\u001b[0m\u001b[0m\n\u001b[0;32m---> 38\u001b[0;31m             \u001b[0;32mif\u001b[0m \u001b[0mmax\u001b[0m\u001b[0;34m(\u001b[0m\u001b[0mt1f\u001b[0m\u001b[0;34m,\u001b[0m \u001b[0mt2f\u001b[0m\u001b[0;34m)\u001b[0m\u001b[0;34m/\u001b[0m\u001b[0mmin\u001b[0m\u001b[0;34m(\u001b[0m\u001b[0mt1f\u001b[0m\u001b[0;34m,\u001b[0m \u001b[0mt2f\u001b[0m\u001b[0;34m)\u001b[0m \u001b[0;34m<\u001b[0m \u001b[0mself\u001b[0m\u001b[0;34m.\u001b[0m\u001b[0mnumber_fuzz_threshold\u001b[0m\u001b[0;34m:\u001b[0m\u001b[0;34m\u001b[0m\u001b[0m\n\u001b[0m\u001b[1;32m     39\u001b[0m                 \u001b[0;32mreturn\u001b[0m \u001b[0;32mTrue\u001b[0m\u001b[0;34m\u001b[0m\u001b[0m\n\u001b[1;32m     40\u001b[0m \u001b[0;34m\u001b[0m\u001b[0m\n",
      "\u001b[0;31mZeroDivisionError\u001b[0m: float division by zero"
     ]
    }
   ],
   "source": [
    "fuzzymatcher.fuzzy_left_join(df_left, df_right, left_on = \"Program Title\", right_on = \"title\")"
   ]
  },
  {
   "cell_type": "code",
   "execution_count": null,
   "metadata": {},
   "outputs": [],
   "source": [
    "# Columns to match on from df_left\n",
    "left_on = [\"Program Title\", \"First Air Year\"]\n",
    "\n",
    "# Columns to match on from df_right\n",
    "right_on = [\"title\", \"production_year\"]\n",
    "\n",
    "fuzzymatcher.link_table(df_left, df_right, left_on, right_on, left_id_col = \"Number\", right_id_col = \"id\")"
   ]
  },
  {
   "cell_type": "code",
   "execution_count": null,
   "metadata": {},
   "outputs": [],
   "source": []
  }
 ],
 "metadata": {
  "kernelspec": {
   "display_name": "Python 3",
   "language": "python",
   "name": "python3"
  },
  "language_info": {
   "codemirror_mode": {
    "name": "ipython",
    "version": 3
   },
   "file_extension": ".py",
   "mimetype": "text/x-python",
   "name": "python",
   "nbconvert_exporter": "python",
   "pygments_lexer": "ipython3",
   "version": "3.6.2"
  }
 },
 "nbformat": 4,
 "nbformat_minor": 2
}

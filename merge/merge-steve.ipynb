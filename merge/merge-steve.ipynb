{
 "cells": [
  {
   "cell_type": "code",
   "execution_count": 1,
   "metadata": {},
   "outputs": [],
   "source": [
    "import numpy as np\n",
    "import pandas as pd\n",
    "import fuzzymatcher\n",
    "from fuzzywuzzy import fuzz\n",
    "from fuzzywuzzy import process"
   ]
  },
  {
   "cell_type": "code",
   "execution_count": 2,
   "metadata": {},
   "outputs": [
    {
     "name": "stdout",
     "output_type": "stream",
     "text": [
      "<class 'pandas.core.frame.DataFrame'>\n",
      "RangeIndex: 1500 entries, 0 to 1499\n",
      "Data columns (total 12 columns):\n",
      "id                 1500 non-null object\n",
      "movie_id           1500 non-null object\n",
      "title              1500 non-null object\n",
      "imdb_index         0 non-null object\n",
      "kind_id            1500 non-null object\n",
      "production_year    1423 non-null object\n",
      "phonetic_code      1483 non-null object\n",
      "episode_of_id      77 non-null object\n",
      "season_nr          69 non-null object\n",
      "episode_nr         69 non-null object\n",
      "note               1248 non-null object\n",
      "md5sum             1500 non-null object\n",
      "dtypes: object(12)\n",
      "memory usage: 140.7+ KB\n"
     ]
    }
   ],
   "source": [
    "df = pd.read_csv('aka.csv', encoding = \"ISO-8859-1\", dtype='unicode')\n",
    "df.info()"
   ]
  },
  {
   "cell_type": "code",
   "execution_count": 3,
   "metadata": {},
   "outputs": [
    {
     "name": "stdout",
     "output_type": "stream",
     "text": [
      "<class 'pandas.core.frame.DataFrame'>\n",
      "Int64Index: 1423 entries, 0 to 1499\n",
      "Data columns (total 12 columns):\n",
      "id                 1423 non-null object\n",
      "movie_id           1423 non-null object\n",
      "title              1423 non-null object\n",
      "imdb_index         0 non-null object\n",
      "kind_id            1423 non-null object\n",
      "production_year    1423 non-null object\n",
      "phonetic_code      1406 non-null object\n",
      "episode_of_id      0 non-null object\n",
      "season_nr          0 non-null object\n",
      "episode_nr         0 non-null object\n",
      "note               1225 non-null object\n",
      "md5sum             1423 non-null object\n",
      "dtypes: object(12)\n",
      "memory usage: 144.5+ KB\n"
     ]
    }
   ],
   "source": [
    "df_right = df[df.kind_id != \"7\"]\n",
    "\n",
    "df_right.info()"
   ]
  },
  {
   "cell_type": "code",
   "execution_count": 4,
   "metadata": {},
   "outputs": [
    {
     "data": {
      "text/html": [
       "<div>\n",
       "<style scoped>\n",
       "    .dataframe tbody tr th:only-of-type {\n",
       "        vertical-align: middle;\n",
       "    }\n",
       "\n",
       "    .dataframe tbody tr th {\n",
       "        vertical-align: top;\n",
       "    }\n",
       "\n",
       "    .dataframe thead th {\n",
       "        text-align: right;\n",
       "    }\n",
       "</style>\n",
       "<table border=\"1\" class=\"dataframe\">\n",
       "  <thead>\n",
       "    <tr style=\"text-align: right;\">\n",
       "      <th></th>\n",
       "      <th>id</th>\n",
       "      <th>movie_id</th>\n",
       "      <th>title</th>\n",
       "      <th>imdb_index</th>\n",
       "      <th>kind_id</th>\n",
       "      <th>production_year</th>\n",
       "      <th>phonetic_code</th>\n",
       "      <th>episode_of_id</th>\n",
       "      <th>season_nr</th>\n",
       "      <th>episode_nr</th>\n",
       "      <th>note</th>\n",
       "      <th>md5sum</th>\n",
       "    </tr>\n",
       "  </thead>\n",
       "  <tbody>\n",
       "    <tr>\n",
       "      <th>count</th>\n",
       "      <td>1423</td>\n",
       "      <td>1423</td>\n",
       "      <td>1423</td>\n",
       "      <td>0.0</td>\n",
       "      <td>1423</td>\n",
       "      <td>1423</td>\n",
       "      <td>1406</td>\n",
       "      <td>0.0</td>\n",
       "      <td>0.0</td>\n",
       "      <td>0.0</td>\n",
       "      <td>1225</td>\n",
       "      <td>1423</td>\n",
       "    </tr>\n",
       "    <tr>\n",
       "      <th>unique</th>\n",
       "      <td>1423</td>\n",
       "      <td>966</td>\n",
       "      <td>1372</td>\n",
       "      <td>0.0</td>\n",
       "      <td>2</td>\n",
       "      <td>64</td>\n",
       "      <td>929</td>\n",
       "      <td>0.0</td>\n",
       "      <td>0.0</td>\n",
       "      <td>0.0</td>\n",
       "      <td>184</td>\n",
       "      <td>1415</td>\n",
       "    </tr>\n",
       "    <tr>\n",
       "      <th>top</th>\n",
       "      <td>1860</td>\n",
       "      <td>946272</td>\n",
       "      <td>Der KopfgeldjÃ¤ger</td>\n",
       "      <td>NaN</td>\n",
       "      <td>2</td>\n",
       "      <td>1959</td>\n",
       "      <td>H4562</td>\n",
       "      <td>NaN</td>\n",
       "      <td>NaN</td>\n",
       "      <td>NaN</td>\n",
       "      <td>(USA) (anthology series)</td>\n",
       "      <td>0162bb276bdcd2a2f4d69677610dba28</td>\n",
       "    </tr>\n",
       "    <tr>\n",
       "      <th>freq</th>\n",
       "      <td>1</td>\n",
       "      <td>13</td>\n",
       "      <td>3</td>\n",
       "      <td>NaN</td>\n",
       "      <td>1052</td>\n",
       "      <td>151</td>\n",
       "      <td>189</td>\n",
       "      <td>NaN</td>\n",
       "      <td>NaN</td>\n",
       "      <td>NaN</td>\n",
       "      <td>188</td>\n",
       "      <td>2</td>\n",
       "    </tr>\n",
       "  </tbody>\n",
       "</table>\n",
       "</div>"
      ],
      "text/plain": [
       "          id movie_id               title  imdb_index kind_id production_year  \\\n",
       "count   1423     1423                1423         0.0    1423            1423   \n",
       "unique  1423      966                1372         0.0       2              64   \n",
       "top     1860   946272  Der KopfgeldjÃ¤ger         NaN       2            1959   \n",
       "freq       1       13                   3         NaN    1052             151   \n",
       "\n",
       "       phonetic_code  episode_of_id  season_nr  episode_nr  \\\n",
       "count           1406            0.0        0.0         0.0   \n",
       "unique           929            0.0        0.0         0.0   \n",
       "top            H4562            NaN        NaN         NaN   \n",
       "freq             189            NaN        NaN         NaN   \n",
       "\n",
       "                            note                            md5sum  \n",
       "count                       1225                              1423  \n",
       "unique                       184                              1415  \n",
       "top     (USA) (anthology series)  0162bb276bdcd2a2f4d69677610dba28  \n",
       "freq                         188                                 2  "
      ]
     },
     "execution_count": 4,
     "metadata": {},
     "output_type": "execute_result"
    }
   ],
   "source": [
    "df_right.describe()"
   ]
  },
  {
   "cell_type": "code",
   "execution_count": 5,
   "metadata": {
    "scrolled": true
   },
   "outputs": [
    {
     "name": "stdout",
     "output_type": "stream",
     "text": [
      "<class 'pandas.core.frame.DataFrame'>\n",
      "RangeIndex: 1732 entries, 0 to 1731\n",
      "Data columns (total 12 columns):\n",
      "Number                 1732 non-null int64\n",
      "Program Title          1732 non-null object\n",
      "Program Type           1731 non-null object\n",
      "Program Genre          1731 non-null object\n",
      "Network                1704 non-null object\n",
      "First Air Month        131 non-null float64\n",
      "First Air Day          123 non-null float64\n",
      "First Air Year         1732 non-null int64\n",
      "Last Air Month         2 non-null float64\n",
      "Last Air Day           2 non-null float64\n",
      "Last Air Year          895 non-null float64\n",
      "Program Description    1732 non-null object\n",
      "dtypes: float64(5), int64(2), object(5)\n",
      "memory usage: 162.5+ KB\n"
     ]
    }
   ],
   "source": [
    "df_left = pd.read_csv('enc.csv', encoding = \"ISO-8859-1\")\n",
    "df_left.info()"
   ]
  },
  {
   "cell_type": "code",
   "execution_count": 6,
   "metadata": {},
   "outputs": [
    {
     "data": {
      "text/plain": [
       " Variety            389\n",
       " Anthology          275\n",
       " Comedy             226\n",
       " Game               169\n",
       " Adventure          144\n",
       " Crime Drama        124\n",
       " Drama               88\n",
       " Western             86\n",
       " Children            72\n",
       " Serial              33\n",
       " Cartoon             24\n",
       " Interview           19\n",
       " Women               18\n",
       " Human Interest      12\n",
       " Documentary         11\n",
       " Travel               7\n",
       " Mystery              6\n",
       " Discussion           6\n",
       " Comedy-Drama         5\n",
       " Science Fiction      4\n",
       " Music                3\n",
       " Contest              2\n",
       " Advice               2\n",
       " Testimonial          1\n",
       " Tribute              1\n",
       " Cooking              1\n",
       " Health               1\n",
       " Musical Drama        1\n",
       " Information          1\n",
       "Name: Program Genre, dtype: int64"
      ]
     },
     "execution_count": 6,
     "metadata": {},
     "output_type": "execute_result"
    }
   ],
   "source": [
    "df_left [\"Program Genre\"].value_counts()"
   ]
  },
  {
   "cell_type": "code",
   "execution_count": 29,
   "metadata": {},
   "outputs": [],
   "source": [
    "df_right = df_right.astype(str).apply(lambda x: x.str.lower())\n",
    "df_left = df_left.astype(str).apply(lambda x: x.str.lower())"
   ]
  },
  {
   "cell_type": "code",
   "execution_count": 30,
   "metadata": {},
   "outputs": [],
   "source": [
    "#Dropped columns by cutting out in excel. See diff between title4 & title5\n",
    "#df_right.drop(df_right.columns[[2,5,7,8,9,20]], axis=1, inplace=True)"
   ]
  },
  {
   "cell_type": "code",
   "execution_count": 31,
   "metadata": {},
   "outputs": [
    {
     "data": {
      "text/html": [
       "<div>\n",
       "<style scoped>\n",
       "    .dataframe tbody tr th:only-of-type {\n",
       "        vertical-align: middle;\n",
       "    }\n",
       "\n",
       "    .dataframe tbody tr th {\n",
       "        vertical-align: top;\n",
       "    }\n",
       "\n",
       "    .dataframe thead th {\n",
       "        text-align: right;\n",
       "    }\n",
       "</style>\n",
       "<table border=\"1\" class=\"dataframe\">\n",
       "  <thead>\n",
       "    <tr style=\"text-align: right;\">\n",
       "      <th></th>\n",
       "      <th>id</th>\n",
       "      <th>movie_id</th>\n",
       "      <th>title</th>\n",
       "      <th>imdb_index</th>\n",
       "      <th>kind_id</th>\n",
       "      <th>production_year</th>\n",
       "      <th>phonetic_code</th>\n",
       "      <th>episode_of_id</th>\n",
       "      <th>season_nr</th>\n",
       "      <th>episode_nr</th>\n",
       "      <th>note</th>\n",
       "      <th>md5sum</th>\n",
       "    </tr>\n",
       "  </thead>\n",
       "  <tbody>\n",
       "    <tr>\n",
       "      <th>0</th>\n",
       "      <td>41</td>\n",
       "      <td>2514</td>\n",
       "      <td>kurze pause...</td>\n",
       "      <td>nan</td>\n",
       "      <td>2</td>\n",
       "      <td>1956</td>\n",
       "      <td>k6212</td>\n",
       "      <td>nan</td>\n",
       "      <td>nan</td>\n",
       "      <td>nan</td>\n",
       "      <td>(west germany) (alternative title)</td>\n",
       "      <td>5956ba67e6567ef5b1c94ad51bf96947</td>\n",
       "    </tr>\n",
       "    <tr>\n",
       "      <th>1</th>\n",
       "      <td>233</td>\n",
       "      <td>11762</td>\n",
       "      <td>1:0 fã¼r ... dã¼sseldorf</td>\n",
       "      <td>nan</td>\n",
       "      <td>2</td>\n",
       "      <td>1954</td>\n",
       "      <td>f6324</td>\n",
       "      <td>nan</td>\n",
       "      <td>nan</td>\n",
       "      <td>nan</td>\n",
       "      <td>nan</td>\n",
       "      <td>598c71ea24df9aecb1d2ca9f143f1f1e</td>\n",
       "    </tr>\n",
       "    <tr>\n",
       "      <th>2</th>\n",
       "      <td>234</td>\n",
       "      <td>11762</td>\n",
       "      <td>1:0 fã¼r... dich</td>\n",
       "      <td>nan</td>\n",
       "      <td>2</td>\n",
       "      <td>1954</td>\n",
       "      <td>f632</td>\n",
       "      <td>nan</td>\n",
       "      <td>nan</td>\n",
       "      <td>nan</td>\n",
       "      <td>nan</td>\n",
       "      <td>c5cbc0222e09722578e79ae11990da06</td>\n",
       "    </tr>\n",
       "    <tr>\n",
       "      <th>3</th>\n",
       "      <td>330</td>\n",
       "      <td>16535</td>\n",
       "      <td>twenty-one beacon street</td>\n",
       "      <td>nan</td>\n",
       "      <td>2</td>\n",
       "      <td>1959</td>\n",
       "      <td>t5351</td>\n",
       "      <td>nan</td>\n",
       "      <td>nan</td>\n",
       "      <td>nan</td>\n",
       "      <td>nan</td>\n",
       "      <td>6ed2faf7be692a467b3d26238458683f</td>\n",
       "    </tr>\n",
       "    <tr>\n",
       "      <th>4</th>\n",
       "      <td>559</td>\n",
       "      <td>34862</td>\n",
       "      <td>7 wã¼nsche die sie haben - die wir erfã¼llen</td>\n",
       "      <td>nan</td>\n",
       "      <td>2</td>\n",
       "      <td>1956</td>\n",
       "      <td>w5232</td>\n",
       "      <td>nan</td>\n",
       "      <td>nan</td>\n",
       "      <td>nan</td>\n",
       "      <td>(west germany) (alternative title)</td>\n",
       "      <td>f7560017b0af07dcf4b5550ebe36a82b</td>\n",
       "    </tr>\n",
       "  </tbody>\n",
       "</table>\n",
       "</div>"
      ],
      "text/plain": [
       "    id movie_id                                         title imdb_index  \\\n",
       "0   41     2514                                kurze pause...        nan   \n",
       "1  233    11762                      1:0 fã¼r ... dã¼sseldorf        nan   \n",
       "2  234    11762                              1:0 fã¼r... dich        nan   \n",
       "3  330    16535                      twenty-one beacon street        nan   \n",
       "4  559    34862  7 wã¼nsche die sie haben - die wir erfã¼llen        nan   \n",
       "\n",
       "  kind_id production_year phonetic_code episode_of_id season_nr episode_nr  \\\n",
       "0       2            1956         k6212           nan       nan        nan   \n",
       "1       2            1954         f6324           nan       nan        nan   \n",
       "2       2            1954          f632           nan       nan        nan   \n",
       "3       2            1959         t5351           nan       nan        nan   \n",
       "4       2            1956         w5232           nan       nan        nan   \n",
       "\n",
       "                                 note                            md5sum  \n",
       "0  (west germany) (alternative title)  5956ba67e6567ef5b1c94ad51bf96947  \n",
       "1                                 nan  598c71ea24df9aecb1d2ca9f143f1f1e  \n",
       "2                                 nan  c5cbc0222e09722578e79ae11990da06  \n",
       "3                                 nan  6ed2faf7be692a467b3d26238458683f  \n",
       "4  (west germany) (alternative title)  f7560017b0af07dcf4b5550ebe36a82b  "
      ]
     },
     "execution_count": 31,
     "metadata": {},
     "output_type": "execute_result"
    }
   ],
   "source": [
    "df_right.head()"
   ]
  },
  {
   "cell_type": "code",
   "execution_count": 32,
   "metadata": {},
   "outputs": [
    {
     "name": "stdout",
     "output_type": "stream",
     "text": [
      "<class 'pandas.core.frame.DataFrame'>\n",
      "Int64Index: 1423 entries, 0 to 1499\n",
      "Data columns (total 12 columns):\n",
      "id                 1423 non-null object\n",
      "movie_id           1423 non-null object\n",
      "title              1423 non-null object\n",
      "imdb_index         1423 non-null object\n",
      "kind_id            1423 non-null object\n",
      "production_year    1423 non-null object\n",
      "phonetic_code      1423 non-null object\n",
      "episode_of_id      1423 non-null object\n",
      "season_nr          1423 non-null object\n",
      "episode_nr         1423 non-null object\n",
      "note               1423 non-null object\n",
      "md5sum             1423 non-null object\n",
      "dtypes: object(12)\n",
      "memory usage: 144.5+ KB\n"
     ]
    }
   ],
   "source": [
    "df_right.info()"
   ]
  },
  {
   "cell_type": "code",
   "execution_count": 33,
   "metadata": {},
   "outputs": [],
   "source": [
    "df_left.drop(df_left.head().columns[[5,6,8,9]], axis=1, inplace=True)"
   ]
  },
  {
   "cell_type": "code",
   "execution_count": 34,
   "metadata": {},
   "outputs": [
    {
     "data": {
      "text/html": [
       "<div>\n",
       "<style scoped>\n",
       "    .dataframe tbody tr th:only-of-type {\n",
       "        vertical-align: middle;\n",
       "    }\n",
       "\n",
       "    .dataframe tbody tr th {\n",
       "        vertical-align: top;\n",
       "    }\n",
       "\n",
       "    .dataframe thead th {\n",
       "        text-align: right;\n",
       "    }\n",
       "</style>\n",
       "<table border=\"1\" class=\"dataframe\">\n",
       "  <thead>\n",
       "    <tr style=\"text-align: right;\">\n",
       "      <th></th>\n",
       "      <th>Number</th>\n",
       "      <th>Program Title</th>\n",
       "      <th>Program Type</th>\n",
       "      <th>Program Genre</th>\n",
       "      <th>Network</th>\n",
       "      <th>First Air Year</th>\n",
       "      <th>Last Air Year</th>\n",
       "      <th>Program Description</th>\n",
       "    </tr>\n",
       "  </thead>\n",
       "  <tbody>\n",
       "    <tr>\n",
       "      <th>0</th>\n",
       "      <td>5137</td>\n",
       "      <td>mary kay and johnny.</td>\n",
       "      <td>series</td>\n",
       "      <td>comedy</td>\n",
       "      <td>dumont, nbc, cbs</td>\n",
       "      <td>1947</td>\n",
       "      <td>1950.0</td>\n",
       "      <td>the marital misadventures of mary kay and joh...</td>\n",
       "    </tr>\n",
       "    <tr>\n",
       "      <th>1</th>\n",
       "      <td>7531</td>\n",
       "      <td>the small fry club.</td>\n",
       "      <td>series</td>\n",
       "      <td>children</td>\n",
       "      <td>dumont</td>\n",
       "      <td>1947</td>\n",
       "      <td>1951.0</td>\n",
       "      <td>bob emery hosts a program of stories, game co...</td>\n",
       "    </tr>\n",
       "    <tr>\n",
       "      <th>2</th>\n",
       "      <td>1738</td>\n",
       "      <td>crawford mystery theater.</td>\n",
       "      <td>series</td>\n",
       "      <td>game</td>\n",
       "      <td>dumont</td>\n",
       "      <td>1947</td>\n",
       "      <td>1952.0</td>\n",
       "      <td>the alternate title for public prosecutor (wh...</td>\n",
       "    </tr>\n",
       "    <tr>\n",
       "      <th>3</th>\n",
       "      <td>6636</td>\n",
       "      <td>public prosecutor.</td>\n",
       "      <td>series</td>\n",
       "      <td>mystery</td>\n",
       "      <td>syn., dumont</td>\n",
       "      <td>1947</td>\n",
       "      <td>1952.0</td>\n",
       "      <td>the syndicated version of the series (1947-48...</td>\n",
       "    </tr>\n",
       "    <tr>\n",
       "      <th>4</th>\n",
       "      <td>4323</td>\n",
       "      <td>juvenile jury.</td>\n",
       "      <td>series</td>\n",
       "      <td>children</td>\n",
       "      <td>nbc, cbs</td>\n",
       "      <td>1947</td>\n",
       "      <td>1955.0</td>\n",
       "      <td>the program features a panel of five children...</td>\n",
       "    </tr>\n",
       "  </tbody>\n",
       "</table>\n",
       "</div>"
      ],
      "text/plain": [
       "  Number                Program Title Program Type Program Genre  \\\n",
       "0   5137        mary kay and johnny.        series        comedy   \n",
       "1   7531         the small fry club.        series      children   \n",
       "2   1738   crawford mystery theater.        series          game   \n",
       "3   6636          public prosecutor.        series       mystery   \n",
       "4   4323              juvenile jury.        series      children   \n",
       "\n",
       "             Network First Air Year Last Air Year  \\\n",
       "0   dumont, nbc, cbs           1947        1950.0   \n",
       "1             dumont           1947        1951.0   \n",
       "2             dumont           1947        1952.0   \n",
       "3       syn., dumont           1947        1952.0   \n",
       "4           nbc, cbs           1947        1955.0   \n",
       "\n",
       "                                 Program Description  \n",
       "0   the marital misadventures of mary kay and joh...  \n",
       "1   bob emery hosts a program of stories, game co...  \n",
       "2   the alternate title for public prosecutor (wh...  \n",
       "3   the syndicated version of the series (1947-48...  \n",
       "4   the program features a panel of five children...  "
      ]
     },
     "execution_count": 34,
     "metadata": {},
     "output_type": "execute_result"
    }
   ],
   "source": [
    "df_left.head()"
   ]
  },
  {
   "cell_type": "code",
   "execution_count": 35,
   "metadata": {},
   "outputs": [
    {
     "data": {
      "text/plain": [
       "0                                  kurze pause...\n",
       "1                        1:0 fã¼r ... dã¼sseldorf\n",
       "2                                1:0 fã¼r... dich\n",
       "3                        twenty-one beacon street\n",
       "4    7 wã¼nsche die sie haben - die wir erfã¼llen\n",
       "Name: title, dtype: object"
      ]
     },
     "execution_count": 35,
     "metadata": {},
     "output_type": "execute_result"
    }
   ],
   "source": [
    "df_right[\"title\"].head()"
   ]
  },
  {
   "cell_type": "code",
   "execution_count": 36,
   "metadata": {},
   "outputs": [],
   "source": [
    "df_left[\"Program Title\"] = df_left[\"Program Title\"].str.replace('[.]','')"
   ]
  },
  {
   "cell_type": "code",
   "execution_count": 37,
   "metadata": {
    "scrolled": true
   },
   "outputs": [
    {
     "data": {
      "text/plain": [
       "0                   mary kay and johnny \n",
       "1                    the small fry club \n",
       "2              crawford mystery theater \n",
       "3                     public prosecutor \n",
       "4                         juvenile jury \n",
       "5          the kraft television theater \n",
       "6                 kukla, fran and ollie \n",
       "7                           howdy doody \n",
       "8                    midwestern hayride \n",
       "9                        actor's studio \n",
       "10                  the bob howard show \n",
       "11               the broadway playhouse \n",
       "12                    cartoon teletales \n",
       "13         the chesterfield supper club \n",
       "14           the chevrolet tele-theater \n",
       "15             the morey amsterdam show \n",
       "16                  the ted steele show \n",
       "17                           tv shopper \n",
       "18                         village barn \n",
       "19                   the alan dale show \n",
       "20                               club 7 \n",
       "21                    ford theater hour \n",
       "22                           lticky pup \n",
       "23                          okay mother \n",
       "24                          vanity fair \n",
       "25                       celebrity time \n",
       "26              the earl wrightson show \n",
       "27                      winner take all \n",
       "28                hollywood screen test \n",
       "29                  texaco star theater \n",
       "                      ...               \n",
       "1702           music for a summer night \n",
       "1703                     the music shop \n",
       "1704                       not for hire \n",
       "1705                           oh, boy! \n",
       "1706       the oldsmobile music theater \n",
       "1707                       the outrider \n",
       "1708       peabody's improbable history \n",
       "1709                    peck's bad girl \n",
       "1710                     perry presents \n",
       "1711                 pete kelly's blues \n",
       "1712                     police station \n",
       "1713         the quick draw mcgraw show \n",
       "1714      royal canadian mounted police \n",
       "1715                           sea hawk \n",
       "1716                    the secret jury \n",
       "1717     the secret life of john monroe \n",
       "1718              sergeant steve dekker \n",
       "1719               six guns for donegan \n",
       "1720                        skyfighters \n",
       "1721          the slightly fallen angel \n",
       "1722              strategic air command \n",
       "1723                        theater '59 \n",
       "1724              the third commandment \n",
       "1725                    this man dawson \n",
       "1726             too young to go steady \n",
       "1727                           vagabond \n",
       "1728                  war correspondent \n",
       "1729                    western theater \n",
       "1730                          whirlpool \n",
       "1731                          who pays? \n",
       "Name: Program Title, Length: 1732, dtype: object"
      ]
     },
     "execution_count": 37,
     "metadata": {},
     "output_type": "execute_result"
    }
   ],
   "source": [
    "df_left[\"Program Title\"]"
   ]
  },
  {
   "cell_type": "code",
   "execution_count": 38,
   "metadata": {},
   "outputs": [
    {
     "data": {
      "text/plain": [
       "<generator object <genexpr> at 0x10a5780f8>"
      ]
     },
     "execution_count": 38,
     "metadata": {},
     "output_type": "execute_result"
    }
   ],
   "source": [
    "(process.extract(x, df_right, scorer= fuzz.ratio) for x in df_left)"
   ]
  },
  {
   "cell_type": "code",
   "execution_count": 39,
   "metadata": {},
   "outputs": [
    {
     "name": "stdout",
     "output_type": "stream",
     "text": [
      "                    Program Title                         correct_name  \\\n",
      "0            mary kay and johnny   captain video and his video rangers   \n",
      "1             the small fry club          peter jennings with the news   \n",
      "2       crawford mystery theater                       mystery theater   \n",
      "3              public prosecutor                     public prosecutor   \n",
      "4                  juvenile jury                                  fury   \n",
      "5   the kraft television theater                    the al morgan show   \n",
      "6          kukla, fran and ollie   captain video and his video rangers   \n",
      "7                    howdy doody                           howdy doody   \n",
      "8             midwestern hayride                 wilder westen arizona   \n",
      "9                 actor's studio    korla pandit's adventures in music   \n",
      "\n",
      "   name_ratio  \n",
      "0          86  \n",
      "1          86  \n",
      "2          90  \n",
      "3         100  \n",
      "4          68  \n",
      "5          86  \n",
      "6          86  \n",
      "7         100  \n",
      "8          62  \n",
      "9          86  \n"
     ]
    }
   ],
   "source": [
    "#This works but needs tweaking\n",
    "\n",
    "names_array=[]\n",
    "ratio_array=[]\n",
    "\n",
    "def match_names(wrong_names,correct_names):\n",
    "    for row in wrong_names:\n",
    "        x=process.extractOne(row, correct_names)\n",
    "        names_array.append(x[0])\n",
    "        ratio_array.append(x[1])\n",
    "    return names_array,ratio_array\n",
    " \n",
    " \n",
    "#imdb names dataset\n",
    "\n",
    "wrong_names=df_left[\"Program Title\"].dropna().values\n",
    " \n",
    "#enc names dataset\n",
    "correct_names=df_right[\"title\"].dropna().values\n",
    " \n",
    "name_match,ratio_match=match_names(wrong_names,correct_names)\n",
    " \n",
    "df_left['correct_name']=pd.Series(name_match)\n",
    "df_left['name_ratio']=pd.Series(ratio_match)\n",
    " \n",
    " \n",
    "print(df_left[['Program Title','correct_name','name_ratio']].head(10))"
   ]
  },
  {
   "cell_type": "code",
   "execution_count": 21,
   "metadata": {},
   "outputs": [],
   "source": [
    "#df_right.to_csv(\"testing2.csv\")"
   ]
  },
  {
   "cell_type": "code",
   "execution_count": 40,
   "metadata": {},
   "outputs": [],
   "source": [
    "df_merge = pd.merge(df_left, df_right, left_on= \"correct_name\", right_on = \"title\")"
   ]
  },
  {
   "cell_type": "code",
   "execution_count": 41,
   "metadata": {},
   "outputs": [
    {
     "name": "stdout",
     "output_type": "stream",
     "text": [
      "  Number                          Program Title  Program Type  \\\n",
      "0   5137                   mary kay and johnny         series   \n",
      "1   4498                 kukla, fran and ollie         series   \n",
      "2    340                   and everything nice         series   \n",
      "3   1236   captain video and his video rangers         series   \n",
      "4   5673                       mystery and mrs   test program   \n",
      "5   4400                      kids and company         series   \n",
      "6   1033                       bride and groom         series   \n",
      "7   7281                    sense and nonsense         series   \n",
      "8   5404                      mr and mrs north         series   \n",
      "9   1891                      dave and charley         series   \n",
      "\n",
      "      Program Genre            Network First Air Year Last Air Year  \\\n",
      "0            comedy   dumont, nbc, cbs           1947        1950.0   \n",
      "1          children           nbc, abc           1947        1957.0   \n",
      "2             women             dumont           1949        1950.0   \n",
      "3   science fiction             dumont           1949        1957.0   \n",
      "4       crime drama                abc           1950           nan   \n",
      "5           variety             dumont           1951        1952.0   \n",
      "6    human interest           cbs, nbc           1951        1958.0   \n",
      "7              game                nbc           1952        1953.0   \n",
      "8       crime drama           cbs, nbc           1952        1954.0   \n",
      "9            comedy                nbc           1952           nan   \n",
      "\n",
      "                                 Program Description  \\\n",
      "0   the marital misadventures of mary kay and joh...   \n",
      "1   the series, set against the background of the...   \n",
      "2   beauty tips, fashion advice and health tips g...   \n",
      "3   on june 27, 1949, a daily series called capta...   \n",
      "4   sally and george fame are a young married cou...   \n",
      "5   the program features performances by aspiring...   \n",
      "6   actual wedding services are performed and tel...   \n",
      "7   two teams compete, each composed of three mem...   \n",
      "8   \"to jerry, with love, pam,\" is the inscriptio...   \n",
      "9   events in the life of a hillbilly-like senior...   \n",
      "\n",
      "                          correct_name  name_ratio  \\\n",
      "0  captain video and his video rangers          86   \n",
      "1  captain video and his video rangers          86   \n",
      "2  captain video and his video rangers          86   \n",
      "3  captain video and his video rangers         100   \n",
      "4  captain video and his video rangers          86   \n",
      "5  captain video and his video rangers          86   \n",
      "6  captain video and his video rangers          86   \n",
      "7  captain video and his video rangers          86   \n",
      "8  captain video and his video rangers          86   \n",
      "9  captain video and his video rangers          86   \n",
      "\n",
      "                 ...                                               title  \\\n",
      "0                ...                 captain video and his video rangers   \n",
      "1                ...                 captain video and his video rangers   \n",
      "2                ...                 captain video and his video rangers   \n",
      "3                ...                 captain video and his video rangers   \n",
      "4                ...                 captain video and his video rangers   \n",
      "5                ...                 captain video and his video rangers   \n",
      "6                ...                 captain video and his video rangers   \n",
      "7                ...                 captain video and his video rangers   \n",
      "8                ...                 captain video and his video rangers   \n",
      "9                ...                 captain video and his video rangers   \n",
      "\n",
      "  imdb_index kind_id production_year phonetic_code episode_of_id season_nr  \\\n",
      "0        nan       2            1949         c1351           nan       nan   \n",
      "1        nan       2            1949         c1351           nan       nan   \n",
      "2        nan       2            1949         c1351           nan       nan   \n",
      "3        nan       2            1949         c1351           nan       nan   \n",
      "4        nan       2            1949         c1351           nan       nan   \n",
      "5        nan       2            1949         c1351           nan       nan   \n",
      "6        nan       2            1949         c1351           nan       nan   \n",
      "7        nan       2            1949         c1351           nan       nan   \n",
      "8        nan       2            1949         c1351           nan       nan   \n",
      "9        nan       2            1949         c1351           nan       nan   \n",
      "\n",
      "  episode_nr note                            md5sum  \n",
      "0        nan  nan  503f7adfafdc554f67578c4a6f5870f9  \n",
      "1        nan  nan  503f7adfafdc554f67578c4a6f5870f9  \n",
      "2        nan  nan  503f7adfafdc554f67578c4a6f5870f9  \n",
      "3        nan  nan  503f7adfafdc554f67578c4a6f5870f9  \n",
      "4        nan  nan  503f7adfafdc554f67578c4a6f5870f9  \n",
      "5        nan  nan  503f7adfafdc554f67578c4a6f5870f9  \n",
      "6        nan  nan  503f7adfafdc554f67578c4a6f5870f9  \n",
      "7        nan  nan  503f7adfafdc554f67578c4a6f5870f9  \n",
      "8        nan  nan  503f7adfafdc554f67578c4a6f5870f9  \n",
      "9        nan  nan  503f7adfafdc554f67578c4a6f5870f9  \n",
      "\n",
      "[10 rows x 22 columns]\n"
     ]
    }
   ],
   "source": [
    "print(df_merge.head(10))"
   ]
  },
  {
   "cell_type": "code",
   "execution_count": 42,
   "metadata": {},
   "outputs": [],
   "source": [
    "df_merge.to_csv(\"merged-aka.csv\")\n",
    "###########"
   ]
  },
  {
   "cell_type": "code",
   "execution_count": 155,
   "metadata": {
    "collapsed": true
   },
   "outputs": [
    {
     "ename": "ZeroDivisionError",
     "evalue": "float division by zero",
     "output_type": "error",
     "traceback": [
      "\u001b[0;31m---------------------------------------------------------------------------\u001b[0m",
      "\u001b[0;31mZeroDivisionError\u001b[0m                         Traceback (most recent call last)",
      "\u001b[0;32m<ipython-input-155-c81094e66011>\u001b[0m in \u001b[0;36m<module>\u001b[0;34m()\u001b[0m\n\u001b[1;32m      9\u001b[0m \u001b[0mright_on\u001b[0m \u001b[0;34m=\u001b[0m \u001b[0;34m[\u001b[0m\u001b[0;34m\"title\"\u001b[0m\u001b[0;34m,\u001b[0m \u001b[0;34m\"production_year\"\u001b[0m\u001b[0;34m]\u001b[0m\u001b[0;34m\u001b[0m\u001b[0m\n\u001b[1;32m     10\u001b[0m \u001b[0;34m\u001b[0m\u001b[0m\n\u001b[0;32m---> 11\u001b[0;31m \u001b[0mfuzzymatcher\u001b[0m\u001b[0;34m.\u001b[0m\u001b[0mlink_table\u001b[0m\u001b[0;34m(\u001b[0m\u001b[0mdf_left\u001b[0m\u001b[0;34m,\u001b[0m \u001b[0mdf_right\u001b[0m\u001b[0;34m,\u001b[0m \u001b[0mleft_on\u001b[0m\u001b[0;34m,\u001b[0m \u001b[0mright_on\u001b[0m\u001b[0;34m)\u001b[0m\u001b[0;34m\u001b[0m\u001b[0m\n\u001b[0m",
      "\u001b[0;32m/usr/local/lib/python3.6/site-packages/fuzzymatcher/__init__.py\u001b[0m in \u001b[0;36mlink_table\u001b[0;34m(df_left, df_right, left_on, right_on, left_id_col, right_id_col)\u001b[0m\n\u001b[1;32m     22\u001b[0m     \u001b[0mm\u001b[0m \u001b[0;34m=\u001b[0m \u001b[0mMatcher\u001b[0m\u001b[0;34m(\u001b[0m\u001b[0mdp\u001b[0m\u001b[0;34m,\u001b[0m \u001b[0mdg\u001b[0m\u001b[0;34m,\u001b[0m \u001b[0ms\u001b[0m\u001b[0;34m)\u001b[0m\u001b[0;34m\u001b[0m\u001b[0m\n\u001b[1;32m     23\u001b[0m     \u001b[0mm\u001b[0m\u001b[0;34m.\u001b[0m\u001b[0madd_data\u001b[0m\u001b[0;34m(\u001b[0m\u001b[0mdf_left\u001b[0m\u001b[0;34m,\u001b[0m \u001b[0mdf_right\u001b[0m\u001b[0;34m,\u001b[0m \u001b[0mleft_on\u001b[0m\u001b[0;34m,\u001b[0m \u001b[0mright_on\u001b[0m\u001b[0;34m,\u001b[0m  \u001b[0mleft_id_col\u001b[0m\u001b[0;34m,\u001b[0m \u001b[0mright_id_col\u001b[0m\u001b[0;34m)\u001b[0m\u001b[0;34m\u001b[0m\u001b[0m\n\u001b[0;32m---> 24\u001b[0;31m     \u001b[0mm\u001b[0m\u001b[0;34m.\u001b[0m\u001b[0mmatch_all\u001b[0m\u001b[0;34m(\u001b[0m\u001b[0;34m)\u001b[0m\u001b[0;34m\u001b[0m\u001b[0m\n\u001b[0m\u001b[1;32m     25\u001b[0m \u001b[0;34m\u001b[0m\u001b[0m\n\u001b[1;32m     26\u001b[0m     \u001b[0;32mreturn\u001b[0m \u001b[0mm\u001b[0m\u001b[0;34m.\u001b[0m\u001b[0mget_formatted_link_table\u001b[0m\u001b[0;34m(\u001b[0m\u001b[0;34m)\u001b[0m\u001b[0;34m\u001b[0m\u001b[0m\n",
      "\u001b[0;32m/usr/local/lib/python3.6/site-packages/fuzzymatcher/matcher.py\u001b[0m in \u001b[0;36mmatch_all\u001b[0;34m(self)\u001b[0m\n\u001b[1;32m     90\u001b[0m \u001b[0;34m\u001b[0m\u001b[0m\n\u001b[1;32m     91\u001b[0m         \u001b[0;31m# Get a table that contains only the matches, scores and ids\u001b[0m\u001b[0;34m\u001b[0m\u001b[0;34m\u001b[0m\u001b[0m\n\u001b[0;32m---> 92\u001b[0;31m         \u001b[0mself\u001b[0m\u001b[0;34m.\u001b[0m\u001b[0mlink_table\u001b[0m \u001b[0;34m=\u001b[0m \u001b[0mself\u001b[0m\u001b[0;34m.\u001b[0m\u001b[0m_match_processed_data\u001b[0m\u001b[0;34m(\u001b[0m\u001b[0;34m)\u001b[0m\u001b[0;34m\u001b[0m\u001b[0m\n\u001b[0m\u001b[1;32m     93\u001b[0m \u001b[0;34m\u001b[0m\u001b[0m\n\u001b[1;32m     94\u001b[0m     \u001b[0;32mdef\u001b[0m \u001b[0mget_formatted_link_table\u001b[0m\u001b[0;34m(\u001b[0m\u001b[0mself\u001b[0m\u001b[0;34m)\u001b[0m\u001b[0;34m:\u001b[0m\u001b[0;34m\u001b[0m\u001b[0m\n",
      "\u001b[0;32m/usr/local/lib/python3.6/site-packages/fuzzymatcher/matcher.py\u001b[0m in \u001b[0;36m_match_processed_data\u001b[0;34m(self)\u001b[0m\n\u001b[1;32m    134\u001b[0m                 \u001b[0mlog\u001b[0m\u001b[0;34m.\u001b[0m\u001b[0mdebug\u001b[0m\u001b[0;34m(\u001b[0m\u001b[0mstr_template\u001b[0m\u001b[0;34m.\u001b[0m\u001b[0mformat\u001b[0m\u001b[0;34m(\u001b[0m\u001b[0mcounter\u001b[0m\u001b[0;34m,\u001b[0m \u001b[0;34m(\u001b[0m\u001b[0mcounter\u001b[0m\u001b[0;34m/\u001b[0m\u001b[0mtotal\u001b[0m\u001b[0;34m)\u001b[0m\u001b[0;34m*\u001b[0m\u001b[0;36m100\u001b[0m\u001b[0;34m,\u001b[0m \u001b[0mdiff\u001b[0m\u001b[0;34m.\u001b[0m\u001b[0mminutes\u001b[0m\u001b[0;34m,\u001b[0m \u001b[0mdiff\u001b[0m\u001b[0;34m.\u001b[0m\u001b[0mseconds\u001b[0m\u001b[0;34m)\u001b[0m\u001b[0;34m)\u001b[0m\u001b[0;34m\u001b[0m\u001b[0m\n\u001b[1;32m    135\u001b[0m \u001b[0;34m\u001b[0m\u001b[0m\n\u001b[0;32m--> 136\u001b[0;31m             \u001b[0mthis_record\u001b[0m\u001b[0;34m.\u001b[0m\u001b[0mfind_and_score_potential_matches\u001b[0m\u001b[0;34m(\u001b[0m\u001b[0;34m)\u001b[0m\u001b[0;34m\u001b[0m\u001b[0m\n\u001b[0m\u001b[1;32m    137\u001b[0m             \u001b[0mlink_table_list\u001b[0m\u001b[0;34m.\u001b[0m\u001b[0mextend\u001b[0m\u001b[0;34m(\u001b[0m\u001b[0mthis_record\u001b[0m\u001b[0;34m.\u001b[0m\u001b[0mget_link_table_rows\u001b[0m\u001b[0;34m(\u001b[0m\u001b[0;34m)\u001b[0m\u001b[0;34m)\u001b[0m\u001b[0;34m\u001b[0m\u001b[0m\n\u001b[1;32m    138\u001b[0m \u001b[0;34m\u001b[0m\u001b[0m\n",
      "\u001b[0;32m/usr/local/lib/python3.6/site-packages/fuzzymatcher/record.py\u001b[0m in \u001b[0;36mfind_and_score_potential_matches\u001b[0;34m(self)\u001b[0m\n\u001b[1;32m     66\u001b[0m     \u001b[0;32mdef\u001b[0m \u001b[0mfind_and_score_potential_matches\u001b[0m\u001b[0;34m(\u001b[0m\u001b[0mself\u001b[0m\u001b[0;34m)\u001b[0m\u001b[0;34m:\u001b[0m\u001b[0;34m\u001b[0m\u001b[0m\n\u001b[1;32m     67\u001b[0m         \u001b[0;31m# Each left_record has a list of left_record ids\u001b[0m\u001b[0;34m\u001b[0m\u001b[0;34m\u001b[0m\u001b[0m\n\u001b[0;32m---> 68\u001b[0;31m         \u001b[0mself\u001b[0m\u001b[0;34m.\u001b[0m\u001b[0mmatcher\u001b[0m\u001b[0;34m.\u001b[0m\u001b[0mdata_getter\u001b[0m\u001b[0;34m.\u001b[0m\u001b[0mget_potential_match_ids_from_record\u001b[0m\u001b[0;34m(\u001b[0m\u001b[0mself\u001b[0m\u001b[0;34m)\u001b[0m\u001b[0;34m\u001b[0m\u001b[0m\n\u001b[0m\u001b[1;32m     69\u001b[0m \u001b[0;34m\u001b[0m\u001b[0m\n\u001b[1;32m     70\u001b[0m     \u001b[0;32mdef\u001b[0m \u001b[0mget_link_table_rows\u001b[0m\u001b[0;34m(\u001b[0m\u001b[0mself\u001b[0m\u001b[0;34m)\u001b[0m\u001b[0;34m:\u001b[0m\u001b[0;34m\u001b[0m\u001b[0m\n",
      "\u001b[0;32m/usr/local/lib/python3.6/site-packages/fuzzymatcher/data_getter_sqlite.py\u001b[0m in \u001b[0;36mget_potential_match_ids_from_record\u001b[0;34m(self, rec_left)\u001b[0m\n\u001b[1;32m     91\u001b[0m \u001b[0;34m\u001b[0m\u001b[0m\n\u001b[1;32m     92\u001b[0m         \u001b[0;32mfor\u001b[0m \u001b[0mtoken_list\u001b[0m \u001b[0;32min\u001b[0m \u001b[0mtoken_lists\u001b[0m\u001b[0;34m:\u001b[0m\u001b[0;34m\u001b[0m\u001b[0m\n\u001b[0;32m---> 93\u001b[0;31m             \u001b[0mself\u001b[0m\u001b[0;34m.\u001b[0m\u001b[0m_search_specific_to_general_single\u001b[0m\u001b[0;34m(\u001b[0m\u001b[0mtoken_list\u001b[0m\u001b[0;34m,\u001b[0m \u001b[0mrec_left\u001b[0m\u001b[0;34m)\u001b[0m\u001b[0;34m\u001b[0m\u001b[0m\n\u001b[0m\u001b[1;32m     94\u001b[0m             \u001b[0;32mif\u001b[0m \u001b[0;32mnot\u001b[0m \u001b[0mself\u001b[0m\u001b[0;34m.\u001b[0m\u001b[0m_found_enough_matches\u001b[0m\u001b[0;34m(\u001b[0m\u001b[0mrec_left\u001b[0m\u001b[0;34m)\u001b[0m\u001b[0;34m:\u001b[0m\u001b[0;34m\u001b[0m\u001b[0m\n\u001b[1;32m     95\u001b[0m                 \u001b[0mself\u001b[0m\u001b[0;34m.\u001b[0m\u001b[0m_search_specific_to_general_band\u001b[0m\u001b[0;34m(\u001b[0m\u001b[0mtoken_list\u001b[0m\u001b[0;34m,\u001b[0m \u001b[0mrec_left\u001b[0m\u001b[0;34m)\u001b[0m\u001b[0;34m\u001b[0m\u001b[0m\n",
      "\u001b[0;32m/usr/local/lib/python3.6/site-packages/fuzzymatcher/data_getter_sqlite.py\u001b[0m in \u001b[0;36m_search_specific_to_general_single\u001b[0;34m(self, token_list, rec_left)\u001b[0m\n\u001b[1;32m    117\u001b[0m             \u001b[0mnew_matches\u001b[0m \u001b[0;34m=\u001b[0m \u001b[0mself\u001b[0m\u001b[0;34m.\u001b[0m\u001b[0m_tokens_to_matches\u001b[0m\u001b[0;34m(\u001b[0m\u001b[0mtuple\u001b[0m\u001b[0;34m(\u001b[0m\u001b[0msub_tokens\u001b[0m\u001b[0;34m)\u001b[0m\u001b[0;34m)\u001b[0m\u001b[0;34m\u001b[0m\u001b[0m\n\u001b[1;32m    118\u001b[0m \u001b[0;34m\u001b[0m\u001b[0m\n\u001b[0;32m--> 119\u001b[0;31m             \u001b[0mself\u001b[0m\u001b[0;34m.\u001b[0m\u001b[0m_add_matches_to_potential_matches\u001b[0m\u001b[0;34m(\u001b[0m\u001b[0mnew_matches\u001b[0m\u001b[0;34m,\u001b[0m \u001b[0mrec_left\u001b[0m\u001b[0;34m)\u001b[0m\u001b[0;34m\u001b[0m\u001b[0m\n\u001b[0m\u001b[1;32m    120\u001b[0m             \u001b[0;32mif\u001b[0m \u001b[0mself\u001b[0m\u001b[0;34m.\u001b[0m\u001b[0m_found_enough_matches\u001b[0m\u001b[0;34m(\u001b[0m\u001b[0mrec_left\u001b[0m\u001b[0;34m)\u001b[0m\u001b[0;34m:\u001b[0m\u001b[0;34m\u001b[0m\u001b[0m\n\u001b[1;32m    121\u001b[0m                 \u001b[0;32mreturn\u001b[0m\u001b[0;34m\u001b[0m\u001b[0m\n",
      "\u001b[0;32m/usr/local/lib/python3.6/site-packages/fuzzymatcher/data_getter_sqlite.py\u001b[0m in \u001b[0;36m_add_matches_to_potential_matches\u001b[0;34m(self, matches, rec_left)\u001b[0m\n\u001b[1;32m    165\u001b[0m             \u001b[0mright_id\u001b[0m \u001b[0;34m=\u001b[0m \u001b[0mmatch\u001b[0m\u001b[0;34m[\u001b[0m\u001b[0;36m0\u001b[0m\u001b[0;34m]\u001b[0m\u001b[0;34m\u001b[0m\u001b[0m\n\u001b[1;32m    166\u001b[0m             \u001b[0;32mif\u001b[0m \u001b[0mright_id\u001b[0m \u001b[0;32mnot\u001b[0m \u001b[0;32min\u001b[0m \u001b[0mrec_left\u001b[0m\u001b[0;34m.\u001b[0m\u001b[0mpotential_matches\u001b[0m\u001b[0;34m:\u001b[0m\u001b[0;34m\u001b[0m\u001b[0m\n\u001b[0;32m--> 167\u001b[0;31m                 \u001b[0mscored_potential_match\u001b[0m \u001b[0;34m=\u001b[0m \u001b[0mself\u001b[0m\u001b[0;34m.\u001b[0m\u001b[0mmatcher\u001b[0m\u001b[0;34m.\u001b[0m\u001b[0mscorer\u001b[0m\u001b[0;34m.\u001b[0m\u001b[0mscore_match\u001b[0m\u001b[0;34m(\u001b[0m\u001b[0mrec_left\u001b[0m\u001b[0;34m.\u001b[0m\u001b[0mrecord_id\u001b[0m\u001b[0;34m,\u001b[0m \u001b[0mright_id\u001b[0m\u001b[0;34m)\u001b[0m\u001b[0;34m\u001b[0m\u001b[0m\n\u001b[0m\u001b[1;32m    168\u001b[0m                 \u001b[0mrec_left\u001b[0m\u001b[0;34m.\u001b[0m\u001b[0mpotential_matches\u001b[0m\u001b[0;34m[\u001b[0m\u001b[0mright_id\u001b[0m\u001b[0;34m]\u001b[0m \u001b[0;34m=\u001b[0m \u001b[0mscored_potential_match\u001b[0m\u001b[0;34m\u001b[0m\u001b[0m\n\u001b[1;32m    169\u001b[0m                 \u001b[0;32mif\u001b[0m \u001b[0mrec_left\u001b[0m\u001b[0;34m.\u001b[0m\u001b[0mbest_match_score\u001b[0m \u001b[0;34m<\u001b[0m \u001b[0mscored_potential_match\u001b[0m\u001b[0;34m[\u001b[0m\u001b[0;34m\"match_score\"\u001b[0m\u001b[0;34m]\u001b[0m\u001b[0;34m:\u001b[0m\u001b[0;34m\u001b[0m\u001b[0m\n",
      "\u001b[0;32m/usr/local/lib/python3.6/site-packages/fuzzymatcher/scorer_default.py\u001b[0m in \u001b[0;36mscore_match\u001b[0;34m(self, record_left_id, record_right_id)\u001b[0m\n\u001b[1;32m     55\u001b[0m         \u001b[0mprob\u001b[0m \u001b[0;34m=\u001b[0m \u001b[0;36m1\u001b[0m\u001b[0;34m\u001b[0m\u001b[0m\n\u001b[1;32m     56\u001b[0m         \u001b[0;32mfor\u001b[0m \u001b[0mf_left\u001b[0m \u001b[0;32min\u001b[0m \u001b[0mfields_left\u001b[0m\u001b[0;34m:\u001b[0m\u001b[0;34m\u001b[0m\u001b[0m\n\u001b[0;32m---> 57\u001b[0;31m             \u001b[0mp\u001b[0m \u001b[0;34m=\u001b[0m \u001b[0mself\u001b[0m\u001b[0;34m.\u001b[0m\u001b[0m_field_to_prob\u001b[0m\u001b[0;34m(\u001b[0m\u001b[0mf_left\u001b[0m\u001b[0;34m,\u001b[0m \u001b[0mrecord_left\u001b[0m\u001b[0;34m,\u001b[0m \u001b[0mrecord_right\u001b[0m\u001b[0;34m)\u001b[0m\u001b[0;34m\u001b[0m\u001b[0m\n\u001b[0m\u001b[1;32m     58\u001b[0m             \u001b[0mprob\u001b[0m \u001b[0;34m=\u001b[0m \u001b[0mp\u001b[0m \u001b[0;34m*\u001b[0m \u001b[0mprob\u001b[0m\u001b[0;34m\u001b[0m\u001b[0m\n\u001b[1;32m     59\u001b[0m \u001b[0;34m\u001b[0m\u001b[0m\n",
      "\u001b[0;32m/usr/local/lib/python3.6/site-packages/fuzzymatcher/scorer_default.py\u001b[0m in \u001b[0;36m_field_to_prob\u001b[0;34m(self, field_left, record_left, record_right)\u001b[0m\n\u001b[1;32m     75\u001b[0m         \u001b[0mprob_matching\u001b[0m \u001b[0;34m=\u001b[0m \u001b[0mself\u001b[0m\u001b[0;34m.\u001b[0m\u001b[0m_get_prob_matching\u001b[0m\u001b[0;34m(\u001b[0m\u001b[0mmatching_tokens\u001b[0m\u001b[0;34m,\u001b[0m \u001b[0mfield_right\u001b[0m\u001b[0;34m)\u001b[0m\u001b[0;34m\u001b[0m\u001b[0m\n\u001b[1;32m     76\u001b[0m \u001b[0;34m\u001b[0m\u001b[0m\n\u001b[0;32m---> 77\u001b[0;31m         \u001b[0mprob_unmatching1\u001b[0m \u001b[0;34m=\u001b[0m \u001b[0mself\u001b[0m\u001b[0;34m.\u001b[0m\u001b[0m_get_prob_unmatching\u001b[0m\u001b[0;34m(\u001b[0m\u001b[0munmatching_tokens_left\u001b[0m\u001b[0;34m,\u001b[0m \u001b[0mtokens_right\u001b[0m\u001b[0;34m,\u001b[0m \u001b[0mfield_right\u001b[0m\u001b[0;34m,\u001b[0m \u001b[0mfield_left\u001b[0m\u001b[0;34m)\u001b[0m\u001b[0;34m\u001b[0m\u001b[0m\n\u001b[0m\u001b[1;32m     78\u001b[0m         \u001b[0mprob_unmatching2\u001b[0m \u001b[0;34m=\u001b[0m \u001b[0mself\u001b[0m\u001b[0;34m.\u001b[0m\u001b[0m_get_prob_unmatching\u001b[0m\u001b[0;34m(\u001b[0m\u001b[0munmatching_tokens_right\u001b[0m\u001b[0;34m,\u001b[0m \u001b[0mtokens_left\u001b[0m\u001b[0;34m,\u001b[0m \u001b[0mfield_right\u001b[0m\u001b[0;34m,\u001b[0m \u001b[0mfield_left\u001b[0m\u001b[0;34m)\u001b[0m\u001b[0;34m\u001b[0m\u001b[0m\n\u001b[1;32m     79\u001b[0m \u001b[0;34m\u001b[0m\u001b[0m\n",
      "\u001b[0;32m/usr/local/lib/python3.6/site-packages/fuzzymatcher/scorer_default.py\u001b[0m in \u001b[0;36m_get_prob_unmatching\u001b[0;34m(self, unmatching_tokens, record_tokens, field_right, field_left)\u001b[0m\n\u001b[1;32m     98\u001b[0m         \u001b[0mprob\u001b[0m \u001b[0;34m=\u001b[0m \u001b[0;36m1\u001b[0m\u001b[0;34m\u001b[0m\u001b[0m\n\u001b[1;32m     99\u001b[0m         \u001b[0;32mfor\u001b[0m \u001b[0mumt\u001b[0m \u001b[0;32min\u001b[0m \u001b[0munmatching_tokens\u001b[0m\u001b[0;34m:\u001b[0m\u001b[0;34m\u001b[0m\u001b[0m\n\u001b[0;32m--> 100\u001b[0;31m             \u001b[0;32mif\u001b[0m \u001b[0;32mnot\u001b[0m \u001b[0mself\u001b[0m\u001b[0;34m.\u001b[0m\u001b[0m_is_misspelling_of_one\u001b[0m\u001b[0;34m(\u001b[0m\u001b[0mumt\u001b[0m\u001b[0;34m,\u001b[0m \u001b[0mrecord_tokens\u001b[0m\u001b[0;34m)\u001b[0m\u001b[0;34m:\u001b[0m\u001b[0;34m\u001b[0m\u001b[0m\n\u001b[0m\u001b[1;32m    101\u001b[0m                 \u001b[0mp\u001b[0m \u001b[0;34m=\u001b[0m \u001b[0mself\u001b[0m\u001b[0;34m.\u001b[0m\u001b[0mget_prob\u001b[0m\u001b[0;34m(\u001b[0m\u001b[0mumt\u001b[0m\u001b[0;34m,\u001b[0m\u001b[0mfield_right\u001b[0m\u001b[0;34m,\u001b[0m\u001b[0;34m\"right\"\u001b[0m\u001b[0;34m)\u001b[0m\u001b[0;34m\u001b[0m\u001b[0m\n\u001b[1;32m    102\u001b[0m                 \u001b[0;32mif\u001b[0m \u001b[0mp\u001b[0m \u001b[0;32mis\u001b[0m \u001b[0;32mNone\u001b[0m\u001b[0;34m:\u001b[0m \u001b[0;31m# If this token never appears on the right, how often does it appear on the left\u001b[0m\u001b[0;34m\u001b[0m\u001b[0m\n",
      "\u001b[0;32m/usr/local/lib/python3.6/site-packages/fuzzymatcher/scorer_default.py\u001b[0m in \u001b[0;36m_is_misspelling_of_one\u001b[0;34m(self, token, token_list)\u001b[0m\n\u001b[1;32m    109\u001b[0m     \u001b[0;32mdef\u001b[0m \u001b[0m_is_misspelling_of_one\u001b[0m\u001b[0;34m(\u001b[0m\u001b[0mself\u001b[0m\u001b[0;34m,\u001b[0m \u001b[0mtoken\u001b[0m\u001b[0;34m,\u001b[0m \u001b[0mtoken_list\u001b[0m\u001b[0;34m)\u001b[0m\u001b[0;34m:\u001b[0m\u001b[0;34m\u001b[0m\u001b[0m\n\u001b[1;32m    110\u001b[0m         \u001b[0;32mfor\u001b[0m \u001b[0mt\u001b[0m \u001b[0;32min\u001b[0m \u001b[0mtoken_list\u001b[0m\u001b[0;34m:\u001b[0m\u001b[0;34m\u001b[0m\u001b[0m\n\u001b[0;32m--> 111\u001b[0;31m             \u001b[0;32mif\u001b[0m \u001b[0mself\u001b[0m\u001b[0;34m.\u001b[0m\u001b[0mmatcher\u001b[0m\u001b[0;34m.\u001b[0m\u001b[0mtoken_comparison\u001b[0m\u001b[0;34m.\u001b[0m\u001b[0mis_mispelling\u001b[0m\u001b[0;34m(\u001b[0m\u001b[0mtoken\u001b[0m\u001b[0;34m,\u001b[0m \u001b[0mt\u001b[0m\u001b[0;34m)\u001b[0m\u001b[0;34m:\u001b[0m\u001b[0;34m\u001b[0m\u001b[0m\n\u001b[0m\u001b[1;32m    112\u001b[0m                 \u001b[0;32mreturn\u001b[0m \u001b[0;32mTrue\u001b[0m\u001b[0;34m\u001b[0m\u001b[0m\n\u001b[1;32m    113\u001b[0m         \u001b[0;32mreturn\u001b[0m \u001b[0;32mFalse\u001b[0m\u001b[0;34m\u001b[0m\u001b[0m\n",
      "\u001b[0;32m/usr/local/lib/python3.6/site-packages/fuzzymatcher/tokencomparison.py\u001b[0m in \u001b[0;36mis_mispelling\u001b[0;34m(self, token1, token2)\u001b[0m\n\u001b[1;32m     36\u001b[0m             \u001b[0mt1f\u001b[0m \u001b[0;34m=\u001b[0m \u001b[0mfloat\u001b[0m\u001b[0;34m(\u001b[0m\u001b[0mtoken1\u001b[0m\u001b[0;34m)\u001b[0m\u001b[0;34m\u001b[0m\u001b[0m\n\u001b[1;32m     37\u001b[0m             \u001b[0mt2f\u001b[0m \u001b[0;34m=\u001b[0m \u001b[0mfloat\u001b[0m\u001b[0;34m(\u001b[0m\u001b[0mtoken2\u001b[0m\u001b[0;34m)\u001b[0m\u001b[0;34m\u001b[0m\u001b[0m\n\u001b[0;32m---> 38\u001b[0;31m             \u001b[0;32mif\u001b[0m \u001b[0mmax\u001b[0m\u001b[0;34m(\u001b[0m\u001b[0mt1f\u001b[0m\u001b[0;34m,\u001b[0m \u001b[0mt2f\u001b[0m\u001b[0;34m)\u001b[0m\u001b[0;34m/\u001b[0m\u001b[0mmin\u001b[0m\u001b[0;34m(\u001b[0m\u001b[0mt1f\u001b[0m\u001b[0;34m,\u001b[0m \u001b[0mt2f\u001b[0m\u001b[0;34m)\u001b[0m \u001b[0;34m<\u001b[0m \u001b[0mself\u001b[0m\u001b[0;34m.\u001b[0m\u001b[0mnumber_fuzz_threshold\u001b[0m\u001b[0;34m:\u001b[0m\u001b[0;34m\u001b[0m\u001b[0m\n\u001b[0m\u001b[1;32m     39\u001b[0m                 \u001b[0;32mreturn\u001b[0m \u001b[0;32mTrue\u001b[0m\u001b[0;34m\u001b[0m\u001b[0m\n\u001b[1;32m     40\u001b[0m \u001b[0;34m\u001b[0m\u001b[0m\n",
      "\u001b[0;31mZeroDivisionError\u001b[0m: float division by zero"
     ]
    }
   ],
   "source": [
    "#DOES NOT WORK\n",
    "#Columns to match on from df_left\n",
    "\n",
    "df_left.dropna().values\n",
    "df_right.dropna().values\n",
    "\n",
    "left_on = [\"Program Title\", \"First Air Year\"]\n",
    "\n",
    "# Columns to match on from df_right\n",
    "right_on = [\"title\", \"production_year\"]\n",
    "\n",
    "fuzzymatcher.link_table(df_left, df_right, left_on, right_on)"
   ]
  },
  {
   "cell_type": "code",
   "execution_count": 158,
   "metadata": {},
   "outputs": [
    {
     "ename": "ZeroDivisionError",
     "evalue": "float division by zero",
     "output_type": "error",
     "traceback": [
      "\u001b[0;31m---------------------------------------------------------------------------\u001b[0m",
      "\u001b[0;31mZeroDivisionError\u001b[0m                         Traceback (most recent call last)",
      "\u001b[0;32m<ipython-input-158-8ed661438f31>\u001b[0m in \u001b[0;36m<module>\u001b[0;34m()\u001b[0m\n\u001b[0;32m----> 1\u001b[0;31m \u001b[0mfuzzymatcher\u001b[0m\u001b[0;34m.\u001b[0m\u001b[0mfuzzy_left_join\u001b[0m\u001b[0;34m(\u001b[0m\u001b[0mdf_right\u001b[0m\u001b[0;34m,\u001b[0m \u001b[0mdf_left\u001b[0m\u001b[0;34m,\u001b[0m \u001b[0mleft_on\u001b[0m \u001b[0;34m=\u001b[0m \u001b[0;34m\"title\"\u001b[0m\u001b[0;34m,\u001b[0m \u001b[0mright_on\u001b[0m \u001b[0;34m=\u001b[0m \u001b[0;34m\"Program Title\"\u001b[0m\u001b[0;34m)\u001b[0m\u001b[0;34m\u001b[0m\u001b[0m\n\u001b[0m",
      "\u001b[0;32m/usr/local/lib/python3.6/site-packages/fuzzymatcher/__init__.py\u001b[0m in \u001b[0;36mfuzzy_left_join\u001b[0;34m(df_left, df_right, left_on, right_on, left_id_col, right_id_col)\u001b[0m\n\u001b[1;32m     39\u001b[0m     \u001b[0mm\u001b[0m \u001b[0;34m=\u001b[0m \u001b[0mMatcher\u001b[0m\u001b[0;34m(\u001b[0m\u001b[0mdp\u001b[0m\u001b[0;34m,\u001b[0m \u001b[0mdg\u001b[0m\u001b[0;34m,\u001b[0m \u001b[0ms\u001b[0m\u001b[0;34m)\u001b[0m\u001b[0;34m\u001b[0m\u001b[0m\n\u001b[1;32m     40\u001b[0m     \u001b[0mm\u001b[0m\u001b[0;34m.\u001b[0m\u001b[0madd_data\u001b[0m\u001b[0;34m(\u001b[0m\u001b[0mdf_left\u001b[0m\u001b[0;34m,\u001b[0m \u001b[0mdf_right\u001b[0m\u001b[0;34m,\u001b[0m \u001b[0mleft_on\u001b[0m\u001b[0;34m,\u001b[0m \u001b[0mright_on\u001b[0m\u001b[0;34m,\u001b[0m  \u001b[0mleft_id_col\u001b[0m\u001b[0;34m,\u001b[0m \u001b[0mright_id_col\u001b[0m\u001b[0;34m)\u001b[0m\u001b[0;34m\u001b[0m\u001b[0m\n\u001b[0;32m---> 41\u001b[0;31m     \u001b[0mm\u001b[0m\u001b[0;34m.\u001b[0m\u001b[0mmatch_all\u001b[0m\u001b[0;34m(\u001b[0m\u001b[0;34m)\u001b[0m\u001b[0;34m\u001b[0m\u001b[0m\n\u001b[0m\u001b[1;32m     42\u001b[0m \u001b[0;34m\u001b[0m\u001b[0m\n\u001b[1;32m     43\u001b[0m     \u001b[0;32mreturn\u001b[0m \u001b[0mm\u001b[0m\u001b[0;34m.\u001b[0m\u001b[0mget_left_join_table\u001b[0m\u001b[0;34m(\u001b[0m\u001b[0;34m)\u001b[0m\u001b[0;34m\u001b[0m\u001b[0m\n",
      "\u001b[0;32m/usr/local/lib/python3.6/site-packages/fuzzymatcher/matcher.py\u001b[0m in \u001b[0;36mmatch_all\u001b[0;34m(self)\u001b[0m\n\u001b[1;32m     90\u001b[0m \u001b[0;34m\u001b[0m\u001b[0m\n\u001b[1;32m     91\u001b[0m         \u001b[0;31m# Get a table that contains only the matches, scores and ids\u001b[0m\u001b[0;34m\u001b[0m\u001b[0;34m\u001b[0m\u001b[0m\n\u001b[0;32m---> 92\u001b[0;31m         \u001b[0mself\u001b[0m\u001b[0;34m.\u001b[0m\u001b[0mlink_table\u001b[0m \u001b[0;34m=\u001b[0m \u001b[0mself\u001b[0m\u001b[0;34m.\u001b[0m\u001b[0m_match_processed_data\u001b[0m\u001b[0;34m(\u001b[0m\u001b[0;34m)\u001b[0m\u001b[0;34m\u001b[0m\u001b[0m\n\u001b[0m\u001b[1;32m     93\u001b[0m \u001b[0;34m\u001b[0m\u001b[0m\n\u001b[1;32m     94\u001b[0m     \u001b[0;32mdef\u001b[0m \u001b[0mget_formatted_link_table\u001b[0m\u001b[0;34m(\u001b[0m\u001b[0mself\u001b[0m\u001b[0;34m)\u001b[0m\u001b[0;34m:\u001b[0m\u001b[0;34m\u001b[0m\u001b[0m\n",
      "\u001b[0;32m/usr/local/lib/python3.6/site-packages/fuzzymatcher/matcher.py\u001b[0m in \u001b[0;36m_match_processed_data\u001b[0;34m(self)\u001b[0m\n\u001b[1;32m    134\u001b[0m                 \u001b[0mlog\u001b[0m\u001b[0;34m.\u001b[0m\u001b[0mdebug\u001b[0m\u001b[0;34m(\u001b[0m\u001b[0mstr_template\u001b[0m\u001b[0;34m.\u001b[0m\u001b[0mformat\u001b[0m\u001b[0;34m(\u001b[0m\u001b[0mcounter\u001b[0m\u001b[0;34m,\u001b[0m \u001b[0;34m(\u001b[0m\u001b[0mcounter\u001b[0m\u001b[0;34m/\u001b[0m\u001b[0mtotal\u001b[0m\u001b[0;34m)\u001b[0m\u001b[0;34m*\u001b[0m\u001b[0;36m100\u001b[0m\u001b[0;34m,\u001b[0m \u001b[0mdiff\u001b[0m\u001b[0;34m.\u001b[0m\u001b[0mminutes\u001b[0m\u001b[0;34m,\u001b[0m \u001b[0mdiff\u001b[0m\u001b[0;34m.\u001b[0m\u001b[0mseconds\u001b[0m\u001b[0;34m)\u001b[0m\u001b[0;34m)\u001b[0m\u001b[0;34m\u001b[0m\u001b[0m\n\u001b[1;32m    135\u001b[0m \u001b[0;34m\u001b[0m\u001b[0m\n\u001b[0;32m--> 136\u001b[0;31m             \u001b[0mthis_record\u001b[0m\u001b[0;34m.\u001b[0m\u001b[0mfind_and_score_potential_matches\u001b[0m\u001b[0;34m(\u001b[0m\u001b[0;34m)\u001b[0m\u001b[0;34m\u001b[0m\u001b[0m\n\u001b[0m\u001b[1;32m    137\u001b[0m             \u001b[0mlink_table_list\u001b[0m\u001b[0;34m.\u001b[0m\u001b[0mextend\u001b[0m\u001b[0;34m(\u001b[0m\u001b[0mthis_record\u001b[0m\u001b[0;34m.\u001b[0m\u001b[0mget_link_table_rows\u001b[0m\u001b[0;34m(\u001b[0m\u001b[0;34m)\u001b[0m\u001b[0;34m)\u001b[0m\u001b[0;34m\u001b[0m\u001b[0m\n\u001b[1;32m    138\u001b[0m \u001b[0;34m\u001b[0m\u001b[0m\n",
      "\u001b[0;32m/usr/local/lib/python3.6/site-packages/fuzzymatcher/record.py\u001b[0m in \u001b[0;36mfind_and_score_potential_matches\u001b[0;34m(self)\u001b[0m\n\u001b[1;32m     66\u001b[0m     \u001b[0;32mdef\u001b[0m \u001b[0mfind_and_score_potential_matches\u001b[0m\u001b[0;34m(\u001b[0m\u001b[0mself\u001b[0m\u001b[0;34m)\u001b[0m\u001b[0;34m:\u001b[0m\u001b[0;34m\u001b[0m\u001b[0m\n\u001b[1;32m     67\u001b[0m         \u001b[0;31m# Each left_record has a list of left_record ids\u001b[0m\u001b[0;34m\u001b[0m\u001b[0;34m\u001b[0m\u001b[0m\n\u001b[0;32m---> 68\u001b[0;31m         \u001b[0mself\u001b[0m\u001b[0;34m.\u001b[0m\u001b[0mmatcher\u001b[0m\u001b[0;34m.\u001b[0m\u001b[0mdata_getter\u001b[0m\u001b[0;34m.\u001b[0m\u001b[0mget_potential_match_ids_from_record\u001b[0m\u001b[0;34m(\u001b[0m\u001b[0mself\u001b[0m\u001b[0;34m)\u001b[0m\u001b[0;34m\u001b[0m\u001b[0m\n\u001b[0m\u001b[1;32m     69\u001b[0m \u001b[0;34m\u001b[0m\u001b[0m\n\u001b[1;32m     70\u001b[0m     \u001b[0;32mdef\u001b[0m \u001b[0mget_link_table_rows\u001b[0m\u001b[0;34m(\u001b[0m\u001b[0mself\u001b[0m\u001b[0;34m)\u001b[0m\u001b[0;34m:\u001b[0m\u001b[0;34m\u001b[0m\u001b[0m\n",
      "\u001b[0;32m/usr/local/lib/python3.6/site-packages/fuzzymatcher/data_getter_sqlite.py\u001b[0m in \u001b[0;36mget_potential_match_ids_from_record\u001b[0;34m(self, rec_left)\u001b[0m\n\u001b[1;32m     93\u001b[0m             \u001b[0mself\u001b[0m\u001b[0;34m.\u001b[0m\u001b[0m_search_specific_to_general_single\u001b[0m\u001b[0;34m(\u001b[0m\u001b[0mtoken_list\u001b[0m\u001b[0;34m,\u001b[0m \u001b[0mrec_left\u001b[0m\u001b[0;34m)\u001b[0m\u001b[0;34m\u001b[0m\u001b[0m\n\u001b[1;32m     94\u001b[0m             \u001b[0;32mif\u001b[0m \u001b[0;32mnot\u001b[0m \u001b[0mself\u001b[0m\u001b[0;34m.\u001b[0m\u001b[0m_found_enough_matches\u001b[0m\u001b[0;34m(\u001b[0m\u001b[0mrec_left\u001b[0m\u001b[0;34m)\u001b[0m\u001b[0;34m:\u001b[0m\u001b[0;34m\u001b[0m\u001b[0m\n\u001b[0;32m---> 95\u001b[0;31m                 \u001b[0mself\u001b[0m\u001b[0;34m.\u001b[0m\u001b[0m_search_specific_to_general_band\u001b[0m\u001b[0;34m(\u001b[0m\u001b[0mtoken_list\u001b[0m\u001b[0;34m,\u001b[0m \u001b[0mrec_left\u001b[0m\u001b[0;34m)\u001b[0m\u001b[0;34m\u001b[0m\u001b[0m\n\u001b[0m\u001b[1;32m     96\u001b[0m             \u001b[0;32mif\u001b[0m \u001b[0mself\u001b[0m\u001b[0;34m.\u001b[0m\u001b[0m_found_enough_matches\u001b[0m\u001b[0;34m(\u001b[0m\u001b[0mrec_left\u001b[0m\u001b[0;34m)\u001b[0m\u001b[0;34m:\u001b[0m\u001b[0;34m\u001b[0m\u001b[0m\n\u001b[1;32m     97\u001b[0m                 \u001b[0;32mbreak\u001b[0m\u001b[0;34m\u001b[0m\u001b[0m\n",
      "\u001b[0;32m/usr/local/lib/python3.6/site-packages/fuzzymatcher/data_getter_sqlite.py\u001b[0m in \u001b[0;36m_search_specific_to_general_band\u001b[0;34m(self, tokens, rec_left)\u001b[0m\n\u001b[1;32m    132\u001b[0m                 \u001b[0msearch_tokens\u001b[0m \u001b[0;34m=\u001b[0m \u001b[0mtokens\u001b[0m\u001b[0;34m[\u001b[0m\u001b[0mstart_pos\u001b[0m\u001b[0;34m:\u001b[0m\u001b[0mend_pos\u001b[0m\u001b[0;34m]\u001b[0m\u001b[0;34m\u001b[0m\u001b[0m\n\u001b[1;32m    133\u001b[0m                 \u001b[0mnew_matches\u001b[0m \u001b[0;34m=\u001b[0m \u001b[0mself\u001b[0m\u001b[0;34m.\u001b[0m\u001b[0m_tokens_to_matches\u001b[0m\u001b[0;34m(\u001b[0m\u001b[0mtuple\u001b[0m\u001b[0;34m(\u001b[0m\u001b[0msearch_tokens\u001b[0m\u001b[0;34m)\u001b[0m\u001b[0;34m)\u001b[0m\u001b[0;34m\u001b[0m\u001b[0m\n\u001b[0;32m--> 134\u001b[0;31m                 \u001b[0mself\u001b[0m\u001b[0;34m.\u001b[0m\u001b[0m_add_matches_to_potential_matches\u001b[0m\u001b[0;34m(\u001b[0m\u001b[0mnew_matches\u001b[0m\u001b[0;34m,\u001b[0m \u001b[0mrec_left\u001b[0m\u001b[0;34m)\u001b[0m\u001b[0;34m\u001b[0m\u001b[0m\n\u001b[0m\u001b[1;32m    135\u001b[0m                 \u001b[0;32mif\u001b[0m \u001b[0mself\u001b[0m\u001b[0;34m.\u001b[0m\u001b[0m_found_good_match\u001b[0m\u001b[0;34m(\u001b[0m\u001b[0mrec_left\u001b[0m\u001b[0;34m)\u001b[0m\u001b[0;34m:\u001b[0m\u001b[0;34m\u001b[0m\u001b[0m\n\u001b[1;32m    136\u001b[0m                     \u001b[0;32mreturn\u001b[0m\u001b[0;34m\u001b[0m\u001b[0m\n",
      "\u001b[0;32m/usr/local/lib/python3.6/site-packages/fuzzymatcher/data_getter_sqlite.py\u001b[0m in \u001b[0;36m_add_matches_to_potential_matches\u001b[0;34m(self, matches, rec_left)\u001b[0m\n\u001b[1;32m    165\u001b[0m             \u001b[0mright_id\u001b[0m \u001b[0;34m=\u001b[0m \u001b[0mmatch\u001b[0m\u001b[0;34m[\u001b[0m\u001b[0;36m0\u001b[0m\u001b[0;34m]\u001b[0m\u001b[0;34m\u001b[0m\u001b[0m\n\u001b[1;32m    166\u001b[0m             \u001b[0;32mif\u001b[0m \u001b[0mright_id\u001b[0m \u001b[0;32mnot\u001b[0m \u001b[0;32min\u001b[0m \u001b[0mrec_left\u001b[0m\u001b[0;34m.\u001b[0m\u001b[0mpotential_matches\u001b[0m\u001b[0;34m:\u001b[0m\u001b[0;34m\u001b[0m\u001b[0m\n\u001b[0;32m--> 167\u001b[0;31m                 \u001b[0mscored_potential_match\u001b[0m \u001b[0;34m=\u001b[0m \u001b[0mself\u001b[0m\u001b[0;34m.\u001b[0m\u001b[0mmatcher\u001b[0m\u001b[0;34m.\u001b[0m\u001b[0mscorer\u001b[0m\u001b[0;34m.\u001b[0m\u001b[0mscore_match\u001b[0m\u001b[0;34m(\u001b[0m\u001b[0mrec_left\u001b[0m\u001b[0;34m.\u001b[0m\u001b[0mrecord_id\u001b[0m\u001b[0;34m,\u001b[0m \u001b[0mright_id\u001b[0m\u001b[0;34m)\u001b[0m\u001b[0;34m\u001b[0m\u001b[0m\n\u001b[0m\u001b[1;32m    168\u001b[0m                 \u001b[0mrec_left\u001b[0m\u001b[0;34m.\u001b[0m\u001b[0mpotential_matches\u001b[0m\u001b[0;34m[\u001b[0m\u001b[0mright_id\u001b[0m\u001b[0;34m]\u001b[0m \u001b[0;34m=\u001b[0m \u001b[0mscored_potential_match\u001b[0m\u001b[0;34m\u001b[0m\u001b[0m\n\u001b[1;32m    169\u001b[0m                 \u001b[0;32mif\u001b[0m \u001b[0mrec_left\u001b[0m\u001b[0;34m.\u001b[0m\u001b[0mbest_match_score\u001b[0m \u001b[0;34m<\u001b[0m \u001b[0mscored_potential_match\u001b[0m\u001b[0;34m[\u001b[0m\u001b[0;34m\"match_score\"\u001b[0m\u001b[0;34m]\u001b[0m\u001b[0;34m:\u001b[0m\u001b[0;34m\u001b[0m\u001b[0m\n",
      "\u001b[0;32m/usr/local/lib/python3.6/site-packages/fuzzymatcher/scorer_default.py\u001b[0m in \u001b[0;36mscore_match\u001b[0;34m(self, record_left_id, record_right_id)\u001b[0m\n\u001b[1;32m     55\u001b[0m         \u001b[0mprob\u001b[0m \u001b[0;34m=\u001b[0m \u001b[0;36m1\u001b[0m\u001b[0;34m\u001b[0m\u001b[0m\n\u001b[1;32m     56\u001b[0m         \u001b[0;32mfor\u001b[0m \u001b[0mf_left\u001b[0m \u001b[0;32min\u001b[0m \u001b[0mfields_left\u001b[0m\u001b[0;34m:\u001b[0m\u001b[0;34m\u001b[0m\u001b[0m\n\u001b[0;32m---> 57\u001b[0;31m             \u001b[0mp\u001b[0m \u001b[0;34m=\u001b[0m \u001b[0mself\u001b[0m\u001b[0;34m.\u001b[0m\u001b[0m_field_to_prob\u001b[0m\u001b[0;34m(\u001b[0m\u001b[0mf_left\u001b[0m\u001b[0;34m,\u001b[0m \u001b[0mrecord_left\u001b[0m\u001b[0;34m,\u001b[0m \u001b[0mrecord_right\u001b[0m\u001b[0;34m)\u001b[0m\u001b[0;34m\u001b[0m\u001b[0m\n\u001b[0m\u001b[1;32m     58\u001b[0m             \u001b[0mprob\u001b[0m \u001b[0;34m=\u001b[0m \u001b[0mp\u001b[0m \u001b[0;34m*\u001b[0m \u001b[0mprob\u001b[0m\u001b[0;34m\u001b[0m\u001b[0m\n\u001b[1;32m     59\u001b[0m \u001b[0;34m\u001b[0m\u001b[0m\n",
      "\u001b[0;32m/usr/local/lib/python3.6/site-packages/fuzzymatcher/scorer_default.py\u001b[0m in \u001b[0;36m_field_to_prob\u001b[0;34m(self, field_left, record_left, record_right)\u001b[0m\n\u001b[1;32m     75\u001b[0m         \u001b[0mprob_matching\u001b[0m \u001b[0;34m=\u001b[0m \u001b[0mself\u001b[0m\u001b[0;34m.\u001b[0m\u001b[0m_get_prob_matching\u001b[0m\u001b[0;34m(\u001b[0m\u001b[0mmatching_tokens\u001b[0m\u001b[0;34m,\u001b[0m \u001b[0mfield_right\u001b[0m\u001b[0;34m)\u001b[0m\u001b[0;34m\u001b[0m\u001b[0m\n\u001b[1;32m     76\u001b[0m \u001b[0;34m\u001b[0m\u001b[0m\n\u001b[0;32m---> 77\u001b[0;31m         \u001b[0mprob_unmatching1\u001b[0m \u001b[0;34m=\u001b[0m \u001b[0mself\u001b[0m\u001b[0;34m.\u001b[0m\u001b[0m_get_prob_unmatching\u001b[0m\u001b[0;34m(\u001b[0m\u001b[0munmatching_tokens_left\u001b[0m\u001b[0;34m,\u001b[0m \u001b[0mtokens_right\u001b[0m\u001b[0;34m,\u001b[0m \u001b[0mfield_right\u001b[0m\u001b[0;34m,\u001b[0m \u001b[0mfield_left\u001b[0m\u001b[0;34m)\u001b[0m\u001b[0;34m\u001b[0m\u001b[0m\n\u001b[0m\u001b[1;32m     78\u001b[0m         \u001b[0mprob_unmatching2\u001b[0m \u001b[0;34m=\u001b[0m \u001b[0mself\u001b[0m\u001b[0;34m.\u001b[0m\u001b[0m_get_prob_unmatching\u001b[0m\u001b[0;34m(\u001b[0m\u001b[0munmatching_tokens_right\u001b[0m\u001b[0;34m,\u001b[0m \u001b[0mtokens_left\u001b[0m\u001b[0;34m,\u001b[0m \u001b[0mfield_right\u001b[0m\u001b[0;34m,\u001b[0m \u001b[0mfield_left\u001b[0m\u001b[0;34m)\u001b[0m\u001b[0;34m\u001b[0m\u001b[0m\n\u001b[1;32m     79\u001b[0m \u001b[0;34m\u001b[0m\u001b[0m\n",
      "\u001b[0;32m/usr/local/lib/python3.6/site-packages/fuzzymatcher/scorer_default.py\u001b[0m in \u001b[0;36m_get_prob_unmatching\u001b[0;34m(self, unmatching_tokens, record_tokens, field_right, field_left)\u001b[0m\n\u001b[1;32m     98\u001b[0m         \u001b[0mprob\u001b[0m \u001b[0;34m=\u001b[0m \u001b[0;36m1\u001b[0m\u001b[0;34m\u001b[0m\u001b[0m\n\u001b[1;32m     99\u001b[0m         \u001b[0;32mfor\u001b[0m \u001b[0mumt\u001b[0m \u001b[0;32min\u001b[0m \u001b[0munmatching_tokens\u001b[0m\u001b[0;34m:\u001b[0m\u001b[0;34m\u001b[0m\u001b[0m\n\u001b[0;32m--> 100\u001b[0;31m             \u001b[0;32mif\u001b[0m \u001b[0;32mnot\u001b[0m \u001b[0mself\u001b[0m\u001b[0;34m.\u001b[0m\u001b[0m_is_misspelling_of_one\u001b[0m\u001b[0;34m(\u001b[0m\u001b[0mumt\u001b[0m\u001b[0;34m,\u001b[0m \u001b[0mrecord_tokens\u001b[0m\u001b[0;34m)\u001b[0m\u001b[0;34m:\u001b[0m\u001b[0;34m\u001b[0m\u001b[0m\n\u001b[0m\u001b[1;32m    101\u001b[0m                 \u001b[0mp\u001b[0m \u001b[0;34m=\u001b[0m \u001b[0mself\u001b[0m\u001b[0;34m.\u001b[0m\u001b[0mget_prob\u001b[0m\u001b[0;34m(\u001b[0m\u001b[0mumt\u001b[0m\u001b[0;34m,\u001b[0m\u001b[0mfield_right\u001b[0m\u001b[0;34m,\u001b[0m\u001b[0;34m\"right\"\u001b[0m\u001b[0;34m)\u001b[0m\u001b[0;34m\u001b[0m\u001b[0m\n\u001b[1;32m    102\u001b[0m                 \u001b[0;32mif\u001b[0m \u001b[0mp\u001b[0m \u001b[0;32mis\u001b[0m \u001b[0;32mNone\u001b[0m\u001b[0;34m:\u001b[0m \u001b[0;31m# If this token never appears on the right, how often does it appear on the left\u001b[0m\u001b[0;34m\u001b[0m\u001b[0m\n",
      "\u001b[0;32m/usr/local/lib/python3.6/site-packages/fuzzymatcher/scorer_default.py\u001b[0m in \u001b[0;36m_is_misspelling_of_one\u001b[0;34m(self, token, token_list)\u001b[0m\n\u001b[1;32m    109\u001b[0m     \u001b[0;32mdef\u001b[0m \u001b[0m_is_misspelling_of_one\u001b[0m\u001b[0;34m(\u001b[0m\u001b[0mself\u001b[0m\u001b[0;34m,\u001b[0m \u001b[0mtoken\u001b[0m\u001b[0;34m,\u001b[0m \u001b[0mtoken_list\u001b[0m\u001b[0;34m)\u001b[0m\u001b[0;34m:\u001b[0m\u001b[0;34m\u001b[0m\u001b[0m\n\u001b[1;32m    110\u001b[0m         \u001b[0;32mfor\u001b[0m \u001b[0mt\u001b[0m \u001b[0;32min\u001b[0m \u001b[0mtoken_list\u001b[0m\u001b[0;34m:\u001b[0m\u001b[0;34m\u001b[0m\u001b[0m\n\u001b[0;32m--> 111\u001b[0;31m             \u001b[0;32mif\u001b[0m \u001b[0mself\u001b[0m\u001b[0;34m.\u001b[0m\u001b[0mmatcher\u001b[0m\u001b[0;34m.\u001b[0m\u001b[0mtoken_comparison\u001b[0m\u001b[0;34m.\u001b[0m\u001b[0mis_mispelling\u001b[0m\u001b[0;34m(\u001b[0m\u001b[0mtoken\u001b[0m\u001b[0;34m,\u001b[0m \u001b[0mt\u001b[0m\u001b[0;34m)\u001b[0m\u001b[0;34m:\u001b[0m\u001b[0;34m\u001b[0m\u001b[0m\n\u001b[0m\u001b[1;32m    112\u001b[0m                 \u001b[0;32mreturn\u001b[0m \u001b[0;32mTrue\u001b[0m\u001b[0;34m\u001b[0m\u001b[0m\n\u001b[1;32m    113\u001b[0m         \u001b[0;32mreturn\u001b[0m \u001b[0;32mFalse\u001b[0m\u001b[0;34m\u001b[0m\u001b[0m\n",
      "\u001b[0;32m/usr/local/lib/python3.6/site-packages/fuzzymatcher/tokencomparison.py\u001b[0m in \u001b[0;36mis_mispelling\u001b[0;34m(self, token1, token2)\u001b[0m\n\u001b[1;32m     36\u001b[0m             \u001b[0mt1f\u001b[0m \u001b[0;34m=\u001b[0m \u001b[0mfloat\u001b[0m\u001b[0;34m(\u001b[0m\u001b[0mtoken1\u001b[0m\u001b[0;34m)\u001b[0m\u001b[0;34m\u001b[0m\u001b[0m\n\u001b[1;32m     37\u001b[0m             \u001b[0mt2f\u001b[0m \u001b[0;34m=\u001b[0m \u001b[0mfloat\u001b[0m\u001b[0;34m(\u001b[0m\u001b[0mtoken2\u001b[0m\u001b[0;34m)\u001b[0m\u001b[0;34m\u001b[0m\u001b[0m\n\u001b[0;32m---> 38\u001b[0;31m             \u001b[0;32mif\u001b[0m \u001b[0mmax\u001b[0m\u001b[0;34m(\u001b[0m\u001b[0mt1f\u001b[0m\u001b[0;34m,\u001b[0m \u001b[0mt2f\u001b[0m\u001b[0;34m)\u001b[0m\u001b[0;34m/\u001b[0m\u001b[0mmin\u001b[0m\u001b[0;34m(\u001b[0m\u001b[0mt1f\u001b[0m\u001b[0;34m,\u001b[0m \u001b[0mt2f\u001b[0m\u001b[0;34m)\u001b[0m \u001b[0;34m<\u001b[0m \u001b[0mself\u001b[0m\u001b[0;34m.\u001b[0m\u001b[0mnumber_fuzz_threshold\u001b[0m\u001b[0;34m:\u001b[0m\u001b[0;34m\u001b[0m\u001b[0m\n\u001b[0m\u001b[1;32m     39\u001b[0m                 \u001b[0;32mreturn\u001b[0m \u001b[0;32mTrue\u001b[0m\u001b[0;34m\u001b[0m\u001b[0m\n\u001b[1;32m     40\u001b[0m \u001b[0;34m\u001b[0m\u001b[0m\n",
      "\u001b[0;31mZeroDivisionError\u001b[0m: float division by zero"
     ]
    }
   ],
   "source": [
    "#DOES NOT WORK\n",
    "fuzzymatcher.fuzzy_left_join(df_left, df_right, left_on = \"Program Title\", right_on = \"title\")"
   ]
  },
  {
   "cell_type": "code",
   "execution_count": null,
   "metadata": {},
   "outputs": [],
   "source": []
  }
 ],
 "metadata": {
  "kernelspec": {
   "display_name": "Python 3",
   "language": "python",
   "name": "python3"
  },
  "language_info": {
   "codemirror_mode": {
    "name": "ipython",
    "version": 3
   },
   "file_extension": ".py",
   "mimetype": "text/x-python",
   "name": "python",
   "nbconvert_exporter": "python",
   "pygments_lexer": "ipython3",
   "version": "3.6.4"
  }
 },
 "nbformat": 4,
 "nbformat_minor": 2
}
